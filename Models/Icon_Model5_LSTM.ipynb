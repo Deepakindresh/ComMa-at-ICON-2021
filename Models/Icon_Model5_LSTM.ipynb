{
  "nbformat": 4,
  "nbformat_minor": 0,
  "metadata": {
    "colab": {
      "name": "Icon_Model5_LSTM.ipynb",
      "provenance": []
    },
    "kernelspec": {
      "name": "python3",
      "display_name": "Python 3"
    },
    "language_info": {
      "name": "python"
    },
    "accelerator": "GPU"
  },
  "cells": [
    {
      "cell_type": "markdown",
      "metadata": {
        "id": "t_ShowREkxFV"
      },
      "source": [
        "##Import"
      ]
    },
    {
      "cell_type": "code",
      "metadata": {
        "colab": {
          "base_uri": "https://localhost:8080/"
        },
        "id": "zh_r_Ku3k0qj",
        "outputId": "8d4e1da3-24e5-43be-c9b5-98de2d478c41"
      },
      "source": [
        "!pip install shap\n",
        "\n",
        "import shap\n",
        "import pandas as pd\n",
        "import numpy as np\n",
        "from glob import glob\n",
        "import re\n",
        "import json\n",
        "import csv\n",
        "import os\n",
        "import tensorflow as tf\n",
        "# tf.compat.v1.disable_v2_behavior()\n",
        "import io\n",
        "\n",
        "from sklearn.feature_extraction.text import TfidfVectorizer\n",
        "from sklearn.model_selection import train_test_split\n",
        "from sklearn.linear_model import LogisticRegression\n",
        "from sklearn.metrics import accuracy_score,f1_score, confusion_matrix, classification_report\n",
        "from sklearn.preprocessing import LabelEncoder\n",
        "from keras.preprocessing.text import Tokenizer\n",
        "from keras.preprocessing.sequence import pad_sequences\n",
        "from keras.layers import Dense , Input , LSTM , Embedding, Dropout , Activation, GRU, Flatten\n",
        "from keras.layers import Bidirectional, GlobalMaxPool1D\n",
        "from keras.models import Model, Sequential\n",
        "\n",
        "from keras import Sequential\n",
        "from keras.layers import Dense, Dropout\n",
        "tf.config.experimental_run_functions_eagerly(True)\n",
        "\n",
        "import nltk\n",
        "nltk.download('stopwords')\n",
        "from nltk.corpus import stopwords\n",
        "from nltk.stem import SnowballStemmer\n",
        "\n",
        "import matplotlib.pyplot as plt\n",
        "\n",
        "from google.colab import drive"
      ],
      "execution_count": null,
      "outputs": [
        {
          "output_type": "stream",
          "name": "stdout",
          "text": [
            "Collecting shap\n",
            "  Downloading shap-0.40.0.tar.gz (371 kB)\n",
            "\u001b[?25l\r\u001b[K     |▉                               | 10 kB 21.2 MB/s eta 0:00:01\r\u001b[K     |█▊                              | 20 kB 10.8 MB/s eta 0:00:01\r\u001b[K     |██▋                             | 30 kB 8.5 MB/s eta 0:00:01\r\u001b[K     |███▌                            | 40 kB 7.9 MB/s eta 0:00:01\r\u001b[K     |████▍                           | 51 kB 5.4 MB/s eta 0:00:01\r\u001b[K     |█████▎                          | 61 kB 5.9 MB/s eta 0:00:01\r\u001b[K     |██████▏                         | 71 kB 5.7 MB/s eta 0:00:01\r\u001b[K     |███████                         | 81 kB 6.3 MB/s eta 0:00:01\r\u001b[K     |████████                        | 92 kB 5.0 MB/s eta 0:00:01\r\u001b[K     |████████▉                       | 102 kB 5.5 MB/s eta 0:00:01\r\u001b[K     |█████████▊                      | 112 kB 5.5 MB/s eta 0:00:01\r\u001b[K     |██████████▋                     | 122 kB 5.5 MB/s eta 0:00:01\r\u001b[K     |███████████▌                    | 133 kB 5.5 MB/s eta 0:00:01\r\u001b[K     |████████████▍                   | 143 kB 5.5 MB/s eta 0:00:01\r\u001b[K     |█████████████▎                  | 153 kB 5.5 MB/s eta 0:00:01\r\u001b[K     |██████████████                  | 163 kB 5.5 MB/s eta 0:00:01\r\u001b[K     |███████████████                 | 174 kB 5.5 MB/s eta 0:00:01\r\u001b[K     |███████████████▉                | 184 kB 5.5 MB/s eta 0:00:01\r\u001b[K     |████████████████▊               | 194 kB 5.5 MB/s eta 0:00:01\r\u001b[K     |█████████████████▋              | 204 kB 5.5 MB/s eta 0:00:01\r\u001b[K     |██████████████████▌             | 215 kB 5.5 MB/s eta 0:00:01\r\u001b[K     |███████████████████▍            | 225 kB 5.5 MB/s eta 0:00:01\r\u001b[K     |████████████████████▎           | 235 kB 5.5 MB/s eta 0:00:01\r\u001b[K     |█████████████████████▏          | 245 kB 5.5 MB/s eta 0:00:01\r\u001b[K     |██████████████████████          | 256 kB 5.5 MB/s eta 0:00:01\r\u001b[K     |███████████████████████         | 266 kB 5.5 MB/s eta 0:00:01\r\u001b[K     |███████████████████████▉        | 276 kB 5.5 MB/s eta 0:00:01\r\u001b[K     |████████████████████████▊       | 286 kB 5.5 MB/s eta 0:00:01\r\u001b[K     |█████████████████████████▋      | 296 kB 5.5 MB/s eta 0:00:01\r\u001b[K     |██████████████████████████▌     | 307 kB 5.5 MB/s eta 0:00:01\r\u001b[K     |███████████████████████████▎    | 317 kB 5.5 MB/s eta 0:00:01\r\u001b[K     |████████████████████████████▏   | 327 kB 5.5 MB/s eta 0:00:01\r\u001b[K     |█████████████████████████████   | 337 kB 5.5 MB/s eta 0:00:01\r\u001b[K     |██████████████████████████████  | 348 kB 5.5 MB/s eta 0:00:01\r\u001b[K     |██████████████████████████████▉ | 358 kB 5.5 MB/s eta 0:00:01\r\u001b[K     |███████████████████████████████▊| 368 kB 5.5 MB/s eta 0:00:01\r\u001b[K     |████████████████████████████████| 371 kB 5.5 MB/s \n",
            "\u001b[?25h  Installing build dependencies ... \u001b[?25l\u001b[?25hdone\n",
            "  Getting requirements to build wheel ... \u001b[?25l\u001b[?25hdone\n",
            "    Preparing wheel metadata ... \u001b[?25l\u001b[?25hdone\n",
            "Collecting slicer==0.0.7\n",
            "  Downloading slicer-0.0.7-py3-none-any.whl (14 kB)\n",
            "Requirement already satisfied: pandas in /usr/local/lib/python3.7/dist-packages (from shap) (1.1.5)\n",
            "Requirement already satisfied: scikit-learn in /usr/local/lib/python3.7/dist-packages (from shap) (1.0.1)\n",
            "Requirement already satisfied: numpy in /usr/local/lib/python3.7/dist-packages (from shap) (1.19.5)\n",
            "Requirement already satisfied: packaging>20.9 in /usr/local/lib/python3.7/dist-packages (from shap) (21.3)\n",
            "Requirement already satisfied: numba in /usr/local/lib/python3.7/dist-packages (from shap) (0.51.2)\n",
            "Requirement already satisfied: scipy in /usr/local/lib/python3.7/dist-packages (from shap) (1.4.1)\n",
            "Requirement already satisfied: cloudpickle in /usr/local/lib/python3.7/dist-packages (from shap) (1.3.0)\n",
            "Requirement already satisfied: tqdm>4.25.0 in /usr/local/lib/python3.7/dist-packages (from shap) (4.62.3)\n",
            "Requirement already satisfied: pyparsing!=3.0.5,>=2.0.2 in /usr/local/lib/python3.7/dist-packages (from packaging>20.9->shap) (3.0.6)\n",
            "Requirement already satisfied: llvmlite<0.35,>=0.34.0.dev0 in /usr/local/lib/python3.7/dist-packages (from numba->shap) (0.34.0)\n",
            "Requirement already satisfied: setuptools in /usr/local/lib/python3.7/dist-packages (from numba->shap) (57.4.0)\n",
            "Requirement already satisfied: pytz>=2017.2 in /usr/local/lib/python3.7/dist-packages (from pandas->shap) (2018.9)\n",
            "Requirement already satisfied: python-dateutil>=2.7.3 in /usr/local/lib/python3.7/dist-packages (from pandas->shap) (2.8.2)\n",
            "Requirement already satisfied: six>=1.5 in /usr/local/lib/python3.7/dist-packages (from python-dateutil>=2.7.3->pandas->shap) (1.15.0)\n",
            "Requirement already satisfied: joblib>=0.11 in /usr/local/lib/python3.7/dist-packages (from scikit-learn->shap) (1.1.0)\n",
            "Requirement already satisfied: threadpoolctl>=2.0.0 in /usr/local/lib/python3.7/dist-packages (from scikit-learn->shap) (3.0.0)\n",
            "Building wheels for collected packages: shap\n",
            "  Building wheel for shap (PEP 517) ... \u001b[?25l\u001b[?25hdone\n",
            "  Created wheel for shap: filename=shap-0.40.0-cp37-cp37m-linux_x86_64.whl size=509253 sha256=1b90246f934c0bb16c6c957019db84d57c2ae67c94a78faa37c073ec2d6c18fb\n",
            "  Stored in directory: /root/.cache/pip/wheels/ec/35/84/e304841ac4b910bc95fe9a6e5302eb2507b4333728851dcbfb\n",
            "Successfully built shap\n",
            "Installing collected packages: slicer, shap\n",
            "Successfully installed shap-0.40.0 slicer-0.0.7\n",
            "WARNING:tensorflow:From <ipython-input-1-2b9b8f83b901>:28: experimental_run_functions_eagerly (from tensorflow.python.eager.def_function) is deprecated and will be removed in a future version.\n",
            "Instructions for updating:\n",
            "Use `tf.config.run_functions_eagerly` instead of the experimental version.\n",
            "[nltk_data] Downloading package stopwords to /root/nltk_data...\n",
            "[nltk_data]   Unzipping corpora/stopwords.zip.\n"
          ]
        }
      ]
    },
    {
      "cell_type": "code",
      "metadata": {
        "colab": {
          "base_uri": "https://localhost:8080/"
        },
        "id": "ncKgGnHVmXFd",
        "outputId": "828d8da9-6101-41f0-98dc-0daaaf4c3890"
      },
      "source": [
        "drive.mount('/content/drive')"
      ],
      "execution_count": null,
      "outputs": [
        {
          "output_type": "stream",
          "name": "stdout",
          "text": [
            "Mounted at /content/drive\n"
          ]
        }
      ]
    },
    {
      "cell_type": "code",
      "metadata": {
        "id": "dqfvajvnla6k"
      },
      "source": [
        "english_stopwords = stopwords.words(\"english\") #From ICHCL Baseline from Hasoc\n",
        "with open('/content/drive/MyDrive/ICON/final_stopwords.txt', encoding = 'utf-8') as f:\n",
        "    hindi_stopwords = f.readlines()\n",
        "    for i in range(len(hindi_stopwords)):\n",
        "        hindi_stopwords[i] = re.sub('\\n','',hindi_stopwords[i])\n",
        "stopwords = english_stopwords + hindi_stopwords\n",
        "english_stemmer = SnowballStemmer(\"english\")"
      ],
      "execution_count": null,
      "outputs": []
    },
    {
      "cell_type": "code",
      "metadata": {
        "id": "KBL57AlAC0Ta"
      },
      "source": [
        "with open('/content/drive/MyDrive/ICON/bengali_sw.txt', encoding = 'utf-8') as f:\n",
        "    ben_stopwords = f.readlines()\n",
        "    for i in range(len(ben_stopwords)):\n",
        "        ben_stopwords[i] = re.sub('\\n','',ben_stopwords[i])\n",
        "stopwords = stopwords + ben_stopwords"
      ],
      "execution_count": null,
      "outputs": []
    },
    {
      "cell_type": "code",
      "metadata": {
        "id": "Q-JNnNRRlquk"
      },
      "source": [
        "words_dict  = { \"तैराक\":\"तैर\",\n",
        "                \"चालाक\":\"चाल\",\n",
        "                \"कूलाक\":\"कूल\",\n",
        "                \"बेलन\":\"बेल\",\n",
        "                \"मिलाप\":\"मिल\",\n",
        "                \"चुपचाप\": \"चुप\",\n",
        "                \"निकास\":\"निकस\",\n",
        "                \"लुकास\":\"लुक\",\n",
        "                }"
      ],
      "execution_count": null,
      "outputs": []
    },
    {
      "cell_type": "code",
      "metadata": {
        "id": "zOmDGWHll00s"
      },
      "source": [
        "suffixes = {\n",
        "\t    1: [\"ो\", \"े\", \"ू\", \"ु\", \"ी\", \"ि\", \"ा\"],  \n",
        "            2: [\"तृ\",\"ान\",\"ैत\",\"ने\",\"ाऊ\",\"ाव\",\"कर\", \"ाओ\", \"िए\", \"ाई\", \"ाए\", \"नी\", \"ना\", \"ते\", \"ीं\", \"ती\",\n",
        "                \"ता\", \"ाँ\", \"ां\", \"ों\", \"ें\",\"ीय\", \"ति\",\"या\", \"पन\", \"पा\",\"ित\",\"ीन\",\"लु\",\"यत\",\"वट\",\"लू\"],     \n",
        "            3: [\"ेरा\",\"त्व\",\"नीय\",\"ौनी\",\"ौवल\",\"ौती\",\"ौता\",\"ापा\",\"वास\",\"हास\",\"काल\",\"पान\",\"न्त\",\"ौना\",\"सार\",\"पोश\",\"नाक\",\n",
        "                \"ियल\",\"ैया\", \"ौटी\",\"ावा\",\"ाहट\",\"िया\",\"हार\", \"ाकर\", \"ाइए\", \"ाईं\", \"ाया\", \"ेगी\", \"वान\", \"बीन\",\n",
        "                \"ेगा\", \"ोगी\", \"ोगे\", \"ाने\", \"ाना\", \"ाते\", \"ाती\", \"ाता\", \"तीं\", \"ाओं\", \"ाएं\", \"ुओं\", \"ुएं\", \"ुआं\",\"कला\",\"िमा\",\"कार\",\n",
        "                \"गार\", \"दान\",\"खोर\"],     \n",
        "            4: [\"ावास\",\"कलाप\",\"हारा\",\"तव्य\",\"वैया\", \"वाला\", \"ाएगी\", \"ाएगा\", \"ाओगी\", \"ाओगे\", \n",
        "                \"एंगी\", \"ेंगी\", \"एंगे\", \"ेंगे\", \"ूंगी\", \"ूंगा\", \"ातीं\", \"नाओं\", \"नाएं\", \"ताओं\", \"ताएं\", \"ियाँ\", \"ियों\", \"ियां\",\n",
        "                \"त्वा\",\"तव्य\",\"कल्प\",\"िष्ठ\",\"जादा\",\"क्कड़\"],     \n",
        "            5: [\"ाएंगी\", \"ाएंगे\", \"ाऊंगी\", \"ाऊंगा\", \"ाइयाँ\", \"ाइयों\", \"ाइयां\", \"अक्कड़\",\"तव्य:\",\"निष्ठ\"],\n",
        "}\n",
        "\n",
        "special_suffixes = [\"र्\", \"ज्य\",\"त्य\"]\n",
        "dict_special_suffixes = {\"र्\":\"ृ\",\n",
        "                         \"ज्य\":\"ज्\",\n",
        "                         \"त्य\":\"त्\"}"
      ],
      "execution_count": null,
      "outputs": []
    },
    {
      "cell_type": "code",
      "metadata": {
        "id": "jiUXP4Qbl48V"
      },
      "source": [
        "def hi_stem(word, clean=False,chars=None):\n",
        "    if clean == True:\n",
        "        word = clean_text(word, chars)\n",
        "    \n",
        "    ans = word\n",
        "    bl = False\n",
        "    \n",
        "    if word in words_dict.keys():\n",
        "        return words_dict[word]\n",
        "    \n",
        "    for L in 5, 4, 3, 2, 1:\n",
        "        if len(word) > L + 1:\n",
        "            for suf in suffixes[L]:\n",
        "                if word.endswith(suf):\n",
        "                    ans = word[:-L]\n",
        "                    bl =True\n",
        "        if bl == True:\n",
        "            break\n",
        "                    \n",
        "    if bl == True:\n",
        "        for suf in suffixes[1]:\n",
        "            if ans.endswith(suf):\n",
        "                # use case - गानेवाला\n",
        "                ans = hi_stem(ans)\n",
        "   \n",
        "    for suf in special_suffixes:\n",
        "        if ans.endswith(suf):\n",
        "            l = len(suf)\n",
        "            ans = ans[:-l]\n",
        "            ans += dict_special_suffixes[suf]\n",
        " \n",
        "    return ans"
      ],
      "execution_count": null,
      "outputs": []
    },
    {
      "cell_type": "code",
      "metadata": {
        "id": "lJiIbGLbl-Ar"
      },
      "source": [
        "def clean_text(text, chars=None):\n",
        "    if chars == None:        \n",
        "        text = re.sub(r\"[()\\\"#/@;:<>{}`+=~|!?,']\", \"\", text)\n",
        "    else:\n",
        "        text = re.sub(r\"[\" +chars+ \"()\\\"#/@;:<>{}`+=~|!?,']\", \"\", text)\n",
        "    return text"
      ],
      "execution_count": null,
      "outputs": []
    },
    {
      "cell_type": "markdown",
      "metadata": {
        "id": "TAjXwHD1mQk0"
      },
      "source": [
        "## Read Data"
      ]
    },
    {
      "cell_type": "code",
      "metadata": {
        "id": "Etbtw-V6m6r3"
      },
      "source": [
        "data = pd.read_csv('/content/drive/MyDrive/ICON/Training Data/train_multi.tsv', delimiter='\\t')"
      ],
      "execution_count": null,
      "outputs": []
    },
    {
      "cell_type": "code",
      "metadata": {
        "id": "95BiLiP3SLFK"
      },
      "source": [
        "test_data = pd.read_csv('/content/drive/MyDrive/ICON/Training Data/dev_multi.tsv', delimiter='\\t')"
      ],
      "execution_count": null,
      "outputs": []
    },
    {
      "cell_type": "code",
      "metadata": {
        "id": "DueTOWl5-jyK"
      },
      "source": [
        "# data = pd.concat([data,dev_data])"
      ],
      "execution_count": null,
      "outputs": []
    },
    {
      "cell_type": "code",
      "metadata": {
        "id": "lIgK3WKo-E-B"
      },
      "source": [
        "# test_data =  pd.read_csv('/content/drive/MyDrive/ICON/test_multi.tsv', delimiter='\\t')"
      ],
      "execution_count": null,
      "outputs": []
    },
    {
      "cell_type": "code",
      "metadata": {
        "colab": {
          "base_uri": "https://localhost:8080/",
          "height": 206
        },
        "id": "sWNAPg_WnEtf",
        "outputId": "530637b3-ea18-491a-96ed-477d4b8cb0b3"
      },
      "source": [
        "data.head()"
      ],
      "execution_count": null,
      "outputs": [
        {
          "output_type": "execute_result",
          "data": {
            "text/html": [
              "<div>\n",
              "<style scoped>\n",
              "    .dataframe tbody tr th:only-of-type {\n",
              "        vertical-align: middle;\n",
              "    }\n",
              "\n",
              "    .dataframe tbody tr th {\n",
              "        vertical-align: top;\n",
              "    }\n",
              "\n",
              "    .dataframe thead th {\n",
              "        text-align: right;\n",
              "    }\n",
              "</style>\n",
              "<table border=\"1\" class=\"dataframe\">\n",
              "  <thead>\n",
              "    <tr style=\"text-align: right;\">\n",
              "      <th></th>\n",
              "      <th>ID</th>\n",
              "      <th>Text</th>\n",
              "      <th>Labels</th>\n",
              "    </tr>\n",
              "  </thead>\n",
              "  <tbody>\n",
              "    <tr>\n",
              "      <th>0</th>\n",
              "      <td>C575.439</td>\n",
              "      <td>इनके बिडीओ जनता के सामने जरूर आने चाहिए</td>\n",
              "      <td>(OAG,NGEN,NCOM)</td>\n",
              "    </tr>\n",
              "    <tr>\n",
              "      <th>1</th>\n",
              "      <td>C130.179.1</td>\n",
              "      <td>Yam chumme ekaiba khngde mashagi prestige su a...</td>\n",
              "      <td>(CAG,NGEN,NCOM)</td>\n",
              "    </tr>\n",
              "    <tr>\n",
              "      <th>2</th>\n",
              "      <td>facebook_corpus_msr_1563601</td>\n",
              "      <td>Matt Ellis I would not believe a thing israel ...</td>\n",
              "      <td>(OAG,NGEN,NCOM)</td>\n",
              "    </tr>\n",
              "    <tr>\n",
              "      <th>3</th>\n",
              "      <td>facebook_corpus_msr_233885</td>\n",
              "      <td>राजनिति कब तक होती रहेगी, ये सब कब तक चलता रहे...</td>\n",
              "      <td>(CAG,NGEN,NCOM)</td>\n",
              "    </tr>\n",
              "    <tr>\n",
              "      <th>4</th>\n",
              "      <td>1278685975</td>\n",
              "      <td>pahali bara muphtakhori se mukta bajata. #supe...</td>\n",
              "      <td>(CAG,NGEN,NCOM)</td>\n",
              "    </tr>\n",
              "  </tbody>\n",
              "</table>\n",
              "</div>"
            ],
            "text/plain": [
              "                            ID  ...           Labels\n",
              "0                     C575.439  ...  (OAG,NGEN,NCOM)\n",
              "1                   C130.179.1  ...  (CAG,NGEN,NCOM)\n",
              "2  facebook_corpus_msr_1563601  ...  (OAG,NGEN,NCOM)\n",
              "3   facebook_corpus_msr_233885  ...  (CAG,NGEN,NCOM)\n",
              "4                   1278685975  ...  (CAG,NGEN,NCOM)\n",
              "\n",
              "[5 rows x 3 columns]"
            ]
          },
          "metadata": {},
          "execution_count": 11
        }
      ]
    },
    {
      "cell_type": "code",
      "metadata": {
        "colab": {
          "base_uri": "https://localhost:8080/",
          "height": 206
        },
        "id": "XnBjBmfYSZfC",
        "outputId": "3998d945-7fd4-4c79-854a-2638b5fdd4ce"
      },
      "source": [
        "test_data.head()"
      ],
      "execution_count": null,
      "outputs": [
        {
          "output_type": "execute_result",
          "data": {
            "text/html": [
              "<div>\n",
              "<style scoped>\n",
              "    .dataframe tbody tr th:only-of-type {\n",
              "        vertical-align: middle;\n",
              "    }\n",
              "\n",
              "    .dataframe tbody tr th {\n",
              "        vertical-align: top;\n",
              "    }\n",
              "\n",
              "    .dataframe thead th {\n",
              "        text-align: right;\n",
              "    }\n",
              "</style>\n",
              "<table border=\"1\" class=\"dataframe\">\n",
              "  <thead>\n",
              "    <tr style=\"text-align: right;\">\n",
              "      <th></th>\n",
              "      <th>ID</th>\n",
              "      <th>Text</th>\n",
              "      <th>Labels</th>\n",
              "    </tr>\n",
              "  </thead>\n",
              "  <tbody>\n",
              "    <tr>\n",
              "      <th>0</th>\n",
              "      <td>C95.115</td>\n",
              "      <td>Sir Syed Ahmed se udba kuire ymmmm nungcyeeee</td>\n",
              "      <td>(NAG,NGEN,NCOM)</td>\n",
              "    </tr>\n",
              "    <tr>\n",
              "      <th>1</th>\n",
              "      <td>C12.55</td>\n",
              "      <td>Mapanda lairik tamba chatlise yu thakpa, party...</td>\n",
              "      <td>(CAG,NGEN,NCOM)</td>\n",
              "    </tr>\n",
              "    <tr>\n",
              "      <th>2</th>\n",
              "      <td>C100.39.2</td>\n",
              "      <td>Keidano pktrise nangonda hyrk Adi nungygadro n...</td>\n",
              "      <td>(OAG,NGEN,NCOM)</td>\n",
              "    </tr>\n",
              "    <tr>\n",
              "      <th>3</th>\n",
              "      <td>C101.919.1</td>\n",
              "      <td>Tiken kangyet kangyet lairik hieric Manipur ge...</td>\n",
              "      <td>(CAG,NGEN,NCOM)</td>\n",
              "    </tr>\n",
              "    <tr>\n",
              "      <th>4</th>\n",
              "      <td>C1035.324.2</td>\n",
              "      <td>@Big monster tor himmot ache marar tmc holo bj...</td>\n",
              "      <td>(OAG,NGEN,NCOM)</td>\n",
              "    </tr>\n",
              "  </tbody>\n",
              "</table>\n",
              "</div>"
            ],
            "text/plain": [
              "            ID  ...           Labels\n",
              "0      C95.115  ...  (NAG,NGEN,NCOM)\n",
              "1       C12.55  ...  (CAG,NGEN,NCOM)\n",
              "2    C100.39.2  ...  (OAG,NGEN,NCOM)\n",
              "3   C101.919.1  ...  (CAG,NGEN,NCOM)\n",
              "4  C1035.324.2  ...  (OAG,NGEN,NCOM)\n",
              "\n",
              "[5 rows x 3 columns]"
            ]
          },
          "metadata": {},
          "execution_count": 12
        }
      ]
    },
    {
      "cell_type": "code",
      "metadata": {
        "colab": {
          "base_uri": "https://localhost:8080/"
        },
        "id": "awB97wr8ncAf",
        "outputId": "43274aac-df34-4af0-c6d1-bc0ac8c96990"
      },
      "source": [
        "data['Labels'].value_counts()"
      ],
      "execution_count": null,
      "outputs": [
        {
          "output_type": "execute_result",
          "data": {
            "text/plain": [
              "(NAG,NGEN,NCOM)    2672\n",
              "(OAG,NGEN,NCOM)    1677\n",
              "(CAG,NGEN,NCOM)    1547\n",
              "(OAG,GEN,NCOM)     1351\n",
              "(OAG,NGEN,COM)      932\n",
              "(CAG,GEN,NCOM)      291\n",
              "(CAG,NGEN,COM)      289\n",
              "(NAG,GEN,NCOM)      182\n",
              "(OAG,GEN,COM)       136\n",
              "(NAG,NGEN,COM)       98\n",
              "(CAG,GEN,COM)        32\n",
              "(NAG,GEN,COM)         7\n",
              "Name: Labels, dtype: int64"
            ]
          },
          "metadata": {},
          "execution_count": 13
        }
      ]
    },
    {
      "cell_type": "markdown",
      "metadata": {
        "id": "FrlhtP-rnnqN"
      },
      "source": [
        "##Preprocessing"
      ]
    },
    {
      "cell_type": "code",
      "metadata": {
        "id": "_P6fSHlInqJF"
      },
      "source": [
        "regex_for_english_hindi_emojis=\"[^a-zA-Z#\\U0001F300-\\U0001F5FF'|'\\U0001F600-\\U0001F64F'|'\\U0001F680-\\U0001F6FF'|'\\u2600-\\u26FF\\u2700-\\u27BF\\u0900-\\u097F]\"\n",
        "def clean_text(text):\n",
        "    text = re.sub(r\"@[A-Za-z0-9]+\",' ', text)\n",
        "    text = re.sub(r\"https?://[A-Za-z0-9./]+\",' ', text)\n",
        "    text = re.sub(regex_for_english_hindi_emojis,' ', text)\n",
        "    text = re.sub(\"RT \", \" \", text)\n",
        "    text = re.sub(\"\\n\", \" \", text)\n",
        "    text = re.sub(r\" +\", \" \", text)\n",
        "    tokens = []\n",
        "    for token in text.split():\n",
        "        if token not in stopwords:\n",
        "            token = english_stemmer.stem(token)\n",
        "            token = hi_stem(token)\n",
        "            tokens.append(token)\n",
        "    return \" \".join(tokens)\n",
        "\n",
        "def convert_gen(text):\n",
        "    label = text[1:-1].split(\",\")\n",
        "    text = label[1]\n",
        "    if text == \"GEN\":\n",
        "      return 1\n",
        "    return 0\n",
        "\n",
        "def convert_com(text):\n",
        "    label = text[1:-1].split(\",\")\n",
        "    text = label[2]\n",
        "    if text == \"COM\":\n",
        "      return 1\n",
        "    return 0\n",
        "\n",
        "def convert_agg(text):\n",
        "    label = text[1:-1].split(\",\")\n",
        "    text = label[0]\n",
        "    if text == \"OAG\":\n",
        "      return 2\n",
        "    if text == \"CAG\":\n",
        "      return 1\n",
        "    return 0"
      ],
      "execution_count": null,
      "outputs": []
    },
    {
      "cell_type": "code",
      "metadata": {
        "id": "0KJnIwQEo_4v"
      },
      "source": [
        "cleaned_text = [clean_text(text) for text in data.Text]\n",
        "test_cleaned_text = [clean_text(text) for text in test_data.Text]"
      ],
      "execution_count": null,
      "outputs": []
    },
    {
      "cell_type": "code",
      "metadata": {
        "colab": {
          "base_uri": "https://localhost:8080/"
        },
        "id": "B9lsGVD7pkF4",
        "outputId": "9edb1d61-3170-4a78-f66c-4e4eabb51262"
      },
      "source": [
        "cleaned_text"
      ],
      "execution_count": null,
      "outputs": [
        {
          "output_type": "execute_result",
          "data": {
            "text/plain": [
              "['बिडीओ जन के साम जरूर आन',\n",
              " 'yam chumm ekaiba khngde mashagi prestig su amtta yengdr touris karino nupigi lanbu thengnagadra leibakki potlumbu pugadra khara leiragadi nupas mental ill oikhidana sarkta thoklk adiii oiiimaahh komaaiii twni mee machana twgadava thabk ni sidi',\n",
              " 'matt elli i would believ thing israel say israel lie like sugar daddi america it claim countri care look behind curtain noth lie hatr toward other death',\n",
              " 'राजन रह सब चल रह कड निन्द ओर श्रद्धांजल समाध कारक उपाय करिय',\n",
              " 'pahali bara muphtakhori se mukta bajata #superbudget #sabkabudget #unionbudget',\n",
              " 'rrrrrrrrrrrrrrrrrrrrrrrrrrrrrrrrrrrrrrrrrrrrrrrrrrrrrrrrurrrrrrrrrrrrrrrryrrrrr',\n",
              " 'delhi per dhayan',\n",
              " 'ym thina wabini pkte haibas crime ntte',\n",
              " 'right abba bjp er dalal ekta vote kete bjp ke jetat asech eke ekta vote noi',\n",
              " 'jai ram',\n",
              " 'oja tiken kanglada mandop sabei matangdo ningsinglakeda',\n",
              " 'hell bjp btw bjp spokesperson tiken bijoy da mayamna thina ngangbasi toksi kanad moi ani fataba mi ngakta su nate inc gi spokesperson na afaba mi nate they given role correspond parti it villain hero role fatribadi scriptwrit director singduni if switch respect place though differ side',\n",
              " 'सह बात यूप नेताओँ कम नह पार्ट कित सीएम पद के उपयुक्त ने ।',\n",
              " 'nungai yaiphana panba oibiju good luck',\n",
              " 'shahi baat hai sir ji',\n",
              " 'porokiya zindabad 👍🏻',\n",
              " 'concentr camp wapa start krvao inn #jehadi #muslim ke liy #hitler rule hi iss desh ko save kr skta hain #coronajihaad #muslimvirus #abpnew',\n",
              " 'ym chumm che echanthoi 👍❤ 🔥',\n",
              " 'gudmarani chale ke maaaar',\n",
              " 'पकड़ छोड़ के सीध मार डाल हमार जवान मार रहेग आर यापार लड हो सवेद जत रहेग दुख जत रह हर बार रह',\n",
              " 'maipngba kdaidagi arshad haicna reserv piba hais state aduda leiba popul adug mtung inna mnipuri tribe cngdana krig reserv piriba tribe na state kyada major oina leirena eikhoigi mnipur da pidba taragdra khngsu khngdna peisa kya pirklom achumba ngangun achumba twc haibnin msida fttba wkhlongi ntte cd esagi jtigi edent ni tunglmcht ydba noigumba leibnani',\n",
              " 'jhutha hai tera vada ye hona hi tha #mruturn #aapsweep',\n",
              " 'nice 😀😀😀😀😀😀😀',\n",
              " 'manung faona khngbse congress na hekta hellmi bjp di moig lider khllaga ngmnba yetpa ngaktni aduga bjp ge spoke person oina lakpasings mamai sungang ngangd yam klli',\n",
              " 'फेक माम नींद फौजिय आवाज नह खुल',\n",
              " \"if can't read #drbrambedkar ji said true #muslim never accept #india motherland better read atleast #balasahebthackeray ji said muslim need depriv vote right amp tag minor remov control #antin behaviour #muslimvirus\",\n",
              " 'bade hi ghinon log hote h ye #muslimvirus #islamiccoronajehad',\n",
              " 'baba jane baba ke uni nije janen',\n",
              " 'sala vikari choda ekhn takar mukh dekh nijek honu vabch',\n",
              " 'nikl lawdi phli fursat nikl pta kuch h ni bs english k kuch word sikh liy ye dengi review tu na cartoon network pogo channel k show pr hi review diya kr dimag h ni hum kisi se km ni ye bat h tujhm',\n",
              " 'abe kya western influenc ye youtub bhi west ki hi den hai ye sb bakwaa bnd kro',\n",
              " 'annya madam mohoromrem din ase ai kotha ta bojhaben amra ato din dhore bojhat pari ni',\n",
              " 'बेचार असम के लोग लोक सभ चुन bjp के झांस आ गए। शायद आस अच्छ दिन आएंगे।',\n",
              " 'meetei pangal karigi kouroidouribano pangal karigi koudouribano pangal su khangbiro meeteisu khangbiro swaida adum esaagi ming thonba haibas esaana amadi emung manungna lepkadabani meetei maraktagi christian hindu chatpabu meetei christian meetei hindu haina khangnei asumna meeteina muslim ollagadi pangal oll haiba laalli ma pangal oiba yaaroi pangal si meetei suknat natt meeteisu pangal oidabagum meetei nupi mayam mayum palli taangkhulda mayaangda maringda makhoina poklakpa machadu meetei tangkhul meetei mare meetei mayaang kanasu hainad asumna meetei nupina pangal nupada mayum pallaga pokpa machas meetei pangal haina koupham thokt pangal nupi amana meetei nupada yum pallaga pokpa machas pangal meetei kougadra kouroi pangal haiba potsidagi onthokpa yabasu natt onsillakpasu yaad stock ident amakhakni meetei nupi amana meetei da yum paanbadaphao meetei nupidugi sagei maanglibani machadu mapagi sagei louribani asumna pangal nupisu meetei nupi amana pangal da yum pallaga kamaina maagi sagei jaati retain tougadabani hairibano aroibada eikhois eikhoina ming thonba ngamhanbiyu 🙏🙏🙏',\n",
              " 'yes jawaherl aaeyyashh tabhitoh nepal bhutan barma jaisa desh haths challagaya',\n",
              " '😂😂😂',\n",
              " 'yare keidwrg meitei pangal pangal chp manei keidwrg certif ywriba meitei pangal haiba cd meitei haibs kotla lngro haibro kei bttano khngdewani meitei pangal wa loir hwbdg tw yadro kokti ebo meitei pangal wa loir 💔😂',\n",
              " 'jai shree ram har har modi jan jan modi mamta ko bhi ram ka bhakt bana diya modi ji nai',\n",
              " 'god bless',\n",
              " 'v r ldwmnscro threesom yeahhhh',\n",
              " 'tu hai sabs bada gaandu area nahi tuzh jessa jhadu gandul jhandul tu sabs bada lawd ka bal',\n",
              " 'you forgot add # #muslimvirus #coronajihad #terroristvirus thank later',\n",
              " 'mirmgi chaogtpgi mtw tmbei mhutta eikhoi esana esabu chaokhthnbdi kayam kaibg western countryda twba khude chaogtpa thbkni hairdi hairib noi nkokto amukta hngdokn e',\n",
              " 'jay bheem namo buddhay 🙏🏻👍',\n",
              " '#indvsaus ravindra jadeja over featur nine maiden might well bowl india victori',\n",
              " 'pradhandagi lupa lise khairaga mana puthokpa saradana thongjugi meeyam nungsiba saradana covid ki potkasi yelliy vote khomlini',\n",
              " 'hantakti pabung dr nara da pirac',\n",
              " '👍 sir sy dmc atr',\n",
              " 'arshad ng kri khngdanano ha',\n",
              " 'sab ladkiya hone ka fayda utha thi hai first investig arrest anybodi girl found guilti put fals rape case tab uss ladk har roz chodeg aisa law pass hona chay',\n",
              " 'rajesh rajesh realli tui ki basi jani',\n",
              " '',\n",
              " 'देश सबस दुर्भाग्य नीच व्यक् देश प्रधानमंत्र बन पहल उसक प्रधानमंत्र बन सज देश उठ',\n",
              " 'yamna nungait',\n",
              " 'thoda baaj paramchor k baar main bolo',\n",
              " '#muslim pelt stone polic spit doctor spread corona nation assault asha worker today they attack pelt stone ambul carri covid patient #moradabad can identifi they #muslimvirus #hangmuslim',\n",
              " 'in haramion ko jail mein thun dena chahiy ye bahar kya kar rahe hain',\n",
              " 'abp anando mukh saml khota bol',\n",
              " 'wakhal tayonnanu munna tabiyu pangal mingthol pikhiba amadi pangal kangleipakta khunda leitaba houkhibagi matangni tung mang yenglaga comment toubiyu',\n",
              " 'rt jisa khiladi ke lie kabhi duva mamgat kala usak zunya pe auta hone ka kamana karat hai #jayabholenatha #indvssa #dezi',\n",
              " 'jo mara pada usko dekho gade mudd kyo',\n",
              " 'idiot bishorjit',\n",
              " '😡😡😡',\n",
              " 'meitei nupa leitrbo',\n",
              " '',\n",
              " 'ke aap mujh achch lagn lage #delhidecid',\n",
              " 'da raj se last ta hindi film nayak ta anil kapoor na lwtiba role amta oirkadi fanida',\n",
              " 'naji congresmukt wont akrosh khatam karo din pure hue apk hahaha',\n",
              " 'ranu di manus na ladi kutta',\n",
              " '#indvssa zikhara dhavana ke rupa mem bharata ne khoya apana tisara viketa #wc',\n",
              " 'fuck dis mother fu',\n",
              " 'veri good bride',\n",
              " '',\n",
              " 'subha ram nvami',\n",
              " 'rasiya 😂😂',\n",
              " 'i shalut',\n",
              " 'arrest #tableeghijamaat across india spread #covid #muslimvirus',\n",
              " 'नेहर देश नुकस उत आक्रमणकार मिल नह |',\n",
              " 'bhai log gali mat mat bulo ki dash ko ajad ka ra na mai inka bhi hath tha',\n",
              " 'bjp go go',\n",
              " 'anna #### r u whi protest',\n",
              " '।',\n",
              " 'oja jalal di prove ywna wa ngang aduga atei asidi maru oina arshad asi prove ywdaba wa yam ywwe aduga bangladesh malli',\n",
              " 'मानसिक तब्लीक जमात के बुद्धिजीव लोग 😠😠 #मुस्लिम मतलब आतंकवाद #nizamuddinterrorist #सूज मुँह वाल सुरज #nizamuddinmarkaj #tabligijamaat #coronajihaad #delhicoronascar #tabligijamaat #muslimvirus #virusjihad #shootatsight coronaterrorist',\n",
              " '👹',\n",
              " 'meetei singsina asuk ym commentpiriji keigino pelleh noi',\n",
              " 'kais kais log n unki soch 😂😂😁😁😁😁',\n",
              " 'fri by ritwik bro talk unnatur peopl womem brave but lesbian might',\n",
              " 'इनक इलाज जाए #muslimvirus',\n",
              " '#missyousushantsir search queri missyousushantsir',\n",
              " 'वायरस आय जिसन नींद हराम दी रात बज उठ गेट चेक पड़ जम चप्पल नह चाट 😂😝 #chinesevirus #chinesevirus #tabligijamaat #tablighsuperspread #islamisterror #islamiccoronajehad #muslimvirus #coronajihaad #coronajihad',\n",
              " 'hao ningol na poklagana hao pangal 😂😂',\n",
              " 'nub assasin',\n",
              " 'tera jaysa pehchan mit gaya kya convert ka koe izzat nahi hota aarab tere jays ko miskeen boltah hay',\n",
              " 'rt jasvirsjasvir rt jsingh rt rakeshmk rt geetinsan gurmeetramrahim #msgincinema pita g dhan dhan satguru tera hi asra mera',\n",
              " 'past natey houjik kini mayamna warijey menai noi nathibong na manipur gi charaga wana modi gi wa ngangba',\n",
              " '',\n",
              " '#ramnavmi #muzaffarnagar #madhubani #indor #muslimvirus it better without creat problem problemat entir cluster quarantin let roam infect die if agre hashtag #boycott enmi mankind',\n",
              " 'shukla bhai i may b rt that truth i dare say ppl put condom trishul n insult hindu sentiment public r still contest elctn wonder wht ed jv hppnd dem hindutwa free countri',\n",
              " 'chal madar chod',\n",
              " 'tumhari maki sali feminist',\n",
              " 'raj as futur',\n",
              " 'kw acha palghar ka naam sunna hai kashmir narsanghar akshrdhan blast mumbai blast #jahiljihadi #muslimvirus',\n",
              " 'yai naita sarai sab ek hai aaj bjp mai kal kisi ki sarkar mai samil hokar gandgi failangai harami hai sab bjp ho ya congr ho',\n",
              " 'caa npr छोड़ जनाब फल सब्ज बेच के जन #कागज़ मांग 😂😂😂 #jihadivirus #muslimvirus',\n",
              " 'momta begum hatao apna bengal bacho',\n",
              " 'isas kitna achcha achcha singer pada hua hai isko hi kyon chuna sali ko',\n",
              " 'omor faruk । । ।',\n",
              " 'nungaina pallo apangba kok yaodaba mi manba sha mayamdugi wathi warem tarunu support tourii👍👍👍👍👍👍👍👍👍👍👍',\n",
              " 'tui akta magi sali',\n",
              " 'anoth differ place tripuri kill bengali what',\n",
              " 'jay shri raam',\n",
              " 'middey falak rendi sala chup ekdom',\n",
              " 'madarcod',\n",
              " 'bjp congress ki sarkar india nhi honi chaiy',\n",
              " 'भाई थोड़ मौज सुब्रॉत राय ले लो करोड़ लोग के रुपय दब के बैठ तुमार फट',\n",
              " 'ai ta modeer jaroth sontan ar gola kate node te pelt hobe',\n",
              " 'ooo bhosdi walii chachhiiii bss hojaa matt jalaaa itna pichwadaa film hit teraa voice tere review se b ghttyyaaa ree came aftr sandip sir interview heheheh ripd u idiottt',\n",
              " 'aar bhai main pahl se bol raha hoon bjp aur rss terrorist rappiest smuggler sidit briberi atroc goon dacait doomsday fals aur pimp hai ab samajh ne ke koshi karo',\n",
              " '💪💪💪 🔥',\n",
              " 'nehru murda baad iski wajah se aaj yeh haal hai',\n",
              " 'karnatak bjp sito per ladi dono hari ab wolo',\n",
              " 'koth paida hua hua kisi tvayf ka gnda khun hi hoga',\n",
              " 'sigi congress spokesperson singsi oina mp lephanba ydro ai nabakishor dadi piningdeh arrog hate even i die hard congress',\n",
              " 'wat iz name dis koktang isi agent',\n",
              " 'astra haat mai lena ka liya zigar chahiya samjha jai shree ram',\n",
              " 'oja bijoy ng ym pkte cab na manipurda akaiba keim pide hyse mgi oja bijoy hysina mmngdaso press confer twrga hykhr ngasiso defend twri polit ki aruba wa eikhoi khngde cab manipur da chtnba yroi',\n",
              " 'शूट एट साइट ऑर्डर आत दिल्ल दिन जार हिंस थम शूट एट साइट ऑर्डर आत मस्जिद इकट्ठ डॉक्टर हमल थम जाएगा। #tabhleegijamaat #tabligijamaat #muslimvirus #corona vns kumar',\n",
              " 'लडक comment नह दिख comment बॉक्स क्युक लडकिय मालूम पितृसत् सह हमेश',\n",
              " 'apn baap ke bare esa bolna mad',\n",
              " 'haobijam nggi nathou lybro ha',\n",
              " 'mc apna like dislik ratio dekh l',\n",
              " 'jay shree ram',\n",
              " 'manu mansikta ke hindu wadi log brahma ki aulad hain jisn apni putri ko bhi nahin chaoda hai aur indar gautam rishi ki patni ko bhi nahin chaoda bjp ke log balatkari hain ins insaniat ki aasha nahin kar sakt jai bheem jai bharat jai sanvidhan',\n",
              " 'कह कोर चमगादड़ कुत् बिल्ल हमार जंगल सूअर है। #muslimsspreadingcorona #muslimvirus',\n",
              " 'jalal na hainingl keino ng khnglabro mathong marm khngadaba arshad kwba manipurifw chumna londaba asina kari khngdanano mana heiba haibabu yamung haiba waheic khktani',\n",
              " 'nasak tubu amta khangning ne lambi lamhangda thengnaradi eman naba singdasu intro twba yani ngse manipur da moral yaodaba mine khangnaba',\n",
              " 'mapan lamda lairik tmba chtlaga lairkti tmdabida organis semlaga paisa talaga leiruraba leader oiningbana haraba manipur machas lairik heiba sanaranu eikhoi ware miym nungcnadaba sillanu keidwg',\n",
              " 'chutiy kisn banayi hai yeah video',\n",
              " 'randi',\n",
              " 'all over india #masjid fill #tablighi #jamath #coronatimebomb let face #muslimvirus #chinesevirus #arnabgoswamiattack #hindus #hindu #amitshah #banmasjid #searchmasjid #india',\n",
              " 'jai shree ram',\n",
              " '',\n",
              " 'ngaor',\n",
              " 'ab aai hai sachhai bahar 💯💯💯👍👍👍',\n",
              " 'yeh chain smoker kin maasoom bachhon ka chacha hai hamar di l dimaag par bachapan se hi gulaab ke phool vaal chacha ki tasveer chhorr di gaye dirti man',\n",
              " '😭😭😭😭😭 aap bhi shamil hogay jumla dene mein😩😩😩 aapn kaha tha free wifi #aapsweep saar armano ko sweep karn wali hain 😞😞',\n",
              " 'oo chachi oo bhi ali chachi',\n",
              " 'ca forget ban central govern send nsa vacat mulla shameless #nizamuddinmarkaj #covid pandem #muslimvirus',\n",
              " '💐💐💐💐i f jindabat 💐💐💐',\n",
              " 'istv gi comment piba yadramal',\n",
              " 'jai sree ram 🚩🚩🚩toder katbo',\n",
              " 'hindu ra astro niy ralli korl upnar fete jachh kno',\n",
              " '',\n",
              " 'maa chuda bsdki🖕🖕🖕',\n",
              " 'hindu jindabad',\n",
              " 'agr nehru glt tha menka gandhi varun gandhi bjp mai kya kr rhe hai',\n",
              " 'bc veer di wed ke time teri konsi maa chudi thi bkl',\n",
              " 'जाहिल चुड़ाईल।। न बाल न शक्ल।। लोग इनक सामाजिक कार्यकृ मान है।।',\n",
              " 'bjp kangbusidi haidana kandr moikhatangni logic yam leiba reason yam wangba sarisi',\n",
              " 'badwe sabi jagaaa gandgi fila rakhi hay',\n",
              " 'कृप कोर फैल जाहिल जिहाद हिन्दुस्तान बच लीजिए।🙏🏼भारत हिन्द राष्ट्र बन दीज मौल इनक जाहिल जमात देश के नि दीजिए। #muslimvirus #saveindiafromcoronamuslim',\n",
              " 'when bjp beep troubl anna come help',\n",
              " 'sit',\n",
              " 'dushman k chakk churad hum india wale #indvspak #worldcup #wontgiveitback',\n",
              " 'j p ta😂😂😂',\n",
              " 'joy sri ram',\n",
              " '#indvspak maica ke daurana khilaड़iyom ne khela bhavana ka behatarina pradarzana kara bataya ki hama pratidvamdi hai lekina duzmana nahi',\n",
              " 'bjp di hinghndbana fei makhoi meyamda twsinnaba oidba wa nganglaga hingbani modi leirk heitaba mana sarkar pairga kaym chaokhtoino',\n",
              " 'you talk #muslimvirus happen fanat follow two book wonder call islam scholar',\n",
              " 'bokacoda quran porsi jibon islam bai boner bibaho sompurno haram kore dice bujli madarcod',\n",
              " 'चल मान तू बोल मेर धर्म के बार बात बढ़ वैस तू बस ऐस फालत मूद्द पकड़ बैठ क्योंक तेर बस बात नह तू मुझस डिबेट सके।',\n",
              " 'gandhi ne desh ki ajadi ke liy kuchh ni kiya bs beth kar khaya',\n",
              " 'manipurgi esel nakhoi nabai dfou khut tharaba',\n",
              " 'hi',\n",
              " 're vai bon er somporko ta khrap koro na',\n",
              " 'awo pa sanaranu taningdreh',\n",
              " 'sir arsad mamangi histori muna neinaraga wa nganabiyu natragadi tabada penday',\n",
              " 'nasir uddin tu suar bachcha',\n",
              " 'this #doctor work keep life stake amp #muslim pelt stone #muslimvirus #muslimsspreadingcorona',\n",
              " '',\n",
              " 'eisu amta yengningi duniyadgi hwna mei chakpdu',\n",
              " 'keno esob aje baje video banachhen dada kono mey esob kaj ichh kore kore na r ora apnar sath valo bebohari korlo r apnak dekheo mone holo apni oi meyetar kach gelen mane soson apni korben r tader bodnam apni korben bah 😕😕',\n",
              " '',\n",
              " 'chtlaheyyy ng wathi ym ware ebungo ng kym chaokhtpa mino ngbu mayang da support ym twrido mayang nupi lwbro haaaa skthu',\n",
              " 'haha nokning',\n",
              " 'pura khaandan paaglo se bhara hai',\n",
              " 'talk work',\n",
              " '',\n",
              " 'yes none dare girl healthi mentali physicali morali',\n",
              " '🚩🚩',\n",
              " 'aadi chauhan nathu tab gandu nehi tha',\n",
              " 'hey buddey gudda pagal dobbita kodaka',\n",
              " 'hhaaaa ym pelll bjp',\n",
              " 'madarchod',\n",
              " 'pangal masensu sumai towbro ohhhhh',\n",
              " 'pell meiranbina meiribu pamluba kanshi maralno',\n",
              " \"rajnath singh plz submit resign can't handl situat pleas\",\n",
              " 'parti da khngano mi da oina khnbiyo',\n",
              " 'hope address #coronajihadi #tablighijamaat #muslimvirus right',\n",
              " 'देश वर्तम स्थ #bantablighijamaat #nizamuddinterrorist #muslimsspreadingcorona #muslimvirus #chinesevirus #chinesebioterror',\n",
              " 'kuchh bhi',\n",
              " 'isf jindabad',\n",
              " 'kumar teri ki chut bhosad wale randi ki aulad hai tu lgta hai teri maa ne apn husband ko chhod kar apn bf se maarwaiw hogi tab tu paida hua hoag',\n",
              " 'congress bjp ek saman hai koi fark nahi dono hi deshdrohi hai',\n",
              " 'bakwa',\n",
              " 'bhattacharyya hmm bro',\n",
              " 'eikhoi esana chaokhatpei wakhal khannaba matam pisi keidwrag',\n",
              " 'bjp da vote pikhisi watl erang',\n",
              " 'मोद जी अनुरोध देश के संकट मोचन भारत से देश सड़क उतार देश जटिल परिस्तिथ मुक्त मोक दे । #कोर जिहाद #covid #डॉक्टर सुरक्ष कर #istandwithhuman #हजरत निजामुद्द दरगाह #muslimsspreadingcorona #muslimvirus',\n",
              " '',\n",
              " 'jaana randi',\n",
              " 'dey age nijer mayer pod ta thik kore mart sekh tarpor lokerta marar kotha bolbi khnkir chale baper thik nai tar abar baro baro katha shala schedulcast toder purba purushra loker bathroom poriskar korto tara abar annak illiter bole bhabl abak lage',\n",
              " 'hotel मस्जिद बन #coronajihad के वीडिय शेयर हू जरूर देख दिख बढ़ाय लोग दिख #मीड वायरस #muslimvirus #muslim #coronavirusindia #nijamuddin #islamophobicindiamedia',\n",
              " '',\n",
              " '',\n",
              " 'ye wahi neta hai jisko bhurkh se bhi prlm hai',\n",
              " 'good zalal',\n",
              " 'tujh aurat ne hi janm diya naa',\n",
              " 'keisu leitba warisidabu noina yam luba oina lougr',\n",
              " 'behaya mey',\n",
              " 'be strong',\n",
              " 'ake polic hate sharia dao',\n",
              " 'bharat ki ladkiyo ko jei log randi banarah bhosdik',\n",
              " 'arnab is not even worthi to be call a kutta it an insult to a dog',\n",
              " 'fuck',\n",
              " 'apni behen ya beti ko koi psycho stalk karega na tab pata chalega',\n",
              " 'sarker apni akta ondher sorg bas korchen apnar chinta vabna ta j ato tai vul apnak sthik rastai ant gele ay vabe msg kore imposs tobuo ami tai kotha bolchi islam holo santi r pithibi te aktai dhormo sothik seta holo islam sey jonnoi islam sobder ortho holo santi',\n",
              " 'puppet cm biren na keidoudoino delhi da',\n",
              " 'oti feminist kawtha kom bolun eto chele mey toh prem kawr sobar erokom hoy',\n",
              " 'meiteina karaidagi lkpano',\n",
              " 'kya bhosdi ke baat sahi kr rha h pr kya koi sun rha h',\n",
              " \"maharaj shri uddhav raje thackeray sit lap su shri sonia gandhi his majesti sharad pawar sir he can't see anyth #muslimvirus #coronajihad #coronavirusoutbreak\",\n",
              " 'बुजुर्ग घर रह मुख्तार कोर नह फैल वो हराम बुज़ुर्ग फैल है। #कोर जिहाद #मुस्लिम मतलब आतंकवाद #muslimvirus #muslimsspreadingcorona #islamiccoronajehad #islamicrepublicvirus #nizamuddinidiot #nizamuddinterrorist',\n",
              " '',\n",
              " 'manipuri film industri da jati khaid loinamak act taumonei masini asengba punsigi waridasu jatti khaid haibdo taklibani',\n",
              " '#aapsweep kirana bedi ke sura badala gae maim hari huim hu mujh bolan dijiy aja sala ka anubhava bhi phussa ho gaya',\n",
              " 'येस #corona ia #muslimvirus',\n",
              " 'wah ghapaghap',\n",
              " 'fake femin ne desh ki gaand mar rkhi hain',\n",
              " 'ais bsdk logo ko hmm pujt h 🙄🙄🙄',\n",
              " 'uttarakhand mai joker aat hain cm bann 😣kya hoga mere uttarakhand ka',\n",
              " 'hahaha😁😁😁 nupi cdi dispos glassn haibdo chume nasana nasabu mamal yaohanjadba nupi nakhois arang arak mitakho',\n",
              " 'the law asylum mean give human ground peopl refuge temporari period like cab',\n",
              " 'sharm kero etn saal baad aaya ye sub',\n",
              " 'm c abp ananda tor gare eto dom mohorom er astro mi il bondo kore dekha sala musolman ra tok sesh kore dibe',\n",
              " '',\n",
              " 'bjp pigidi cab pass touni haibas histori na sakhini compromis go anywher point',\n",
              " 'shut men r islam argu well uniti manipur noth matter r pangal meetei pangal muslim live uniti divid accord religion we live manipuri',\n",
              " 'such delight perform shashi prabhakaran rememb bhubaneswar trip n visit stupa kasturi das think perform',\n",
              " 'cheleta ato asovvo r sath mey tao meyeta holo randi akta',\n",
              " 'this #muslimvirus also kill along #coronavirus',\n",
              " '।',\n",
              " 'good bjp',\n",
              " 'mullo ko ye lagu nahi padta mull ye desh ka samvidhan mant hi nahii ye log shariyat ko hi mant hai ye hindustan ke dushman hai manavta ke dushman hai #coronajehad #muslimvirus',\n",
              " '',\n",
              " 'bhattacharje bokachoda khankir chele tui nijer ta vab bjp khannkir chele der parti',\n",
              " 'bhaijan jindabad',\n",
              " 'nehru ko badnaam mat karo',\n",
              " 'proud sir jalal sir sahid sir arshad lairik laisuda awangba thakta heiba khkta nttana kok yamna leiba thouna yamna leiba eikhoibu aphaba lmbida lamjingbiriba matik chaba luchingba mashagi khndaba matm khude allah na maipakpa oihnsanu we love proud',\n",
              " 'eduact sane peopl accept homosexu diseas educ sane medic scienc taken firm stanc homosexu say diseas choos serial killer would unaccept live lost homosexu involv two adult agre consent sex without troubl anyon els pleas read medic journal homosexu',\n",
              " 'meitei pangal haigera pangal khak haigera hainingba haiyo islam dharma chtpa mees muslim hairaga khngnei aduna pangal pumnamak muslim ne',\n",
              " 'ghosh ei januar tor ki fatche naki sala bijemul',\n",
              " '',\n",
              " 'fake news',\n",
              " 'most bjp leader think women like commod',\n",
              " 'tmc jindabard',\n",
              " 'meitei pangal na yaiphar',\n",
              " 'बृहन्लल्ला।',\n",
              " 'मादरचोद नहर',\n",
              " '',\n",
              " 'randi',\n",
              " '#aap para savala bajiba hai tiramga dikhakara vota le liy aura jita ka jazna pakistani ramga ke gubbarom se #kiskidelhi #aapsweep',\n",
              " 'manipur se leironnungda changkhroba pell masa mirandam gi khanba ngamjadraba uningdaba anis eikhoiga leiminaba tall',\n",
              " '| |',\n",
              " 'bhaiya ye modi sarkar hai ye chahe jo kare inki sarkar hai ye sab kuchh kar sakti hai gagar koi aam aadmi kare ink najar galat hai jo koi sachai dikha tha hai usko jel dal diya jata hai ye hai modi sarkar',\n",
              " 'poori movi ki maa chod di bhai ne😂😂😂😂👍👍',\n",
              " '#breakingnew दिल्ल विधानसभ बहुप्रतीक्ष जनलोकपाल बिल पास',\n",
              " 'hindu wake throw communisam',\n",
              " 'chup kr jaa bhen ki lodi jhaat var k tere review ko tere hi gand daal kr guse dunga 😡',\n",
              " 'andhbhakat ka ek hi kaam troll karna😂😂😂',\n",
              " 'bjp bharatiya jootha parti mayam bjp muthtlas',\n",
              " \"first know got percentag true near second point say thing women well 🏻 ♂ bitch gold digger unloy whore 🏻 ♂ without basi argument think way though major women i'v met life cool❤ bitch need sens moral trash head even wit cool women around can't go around generalis women bitch 🏻 ♂ simpl\",\n",
              " 'bb u think wre silent jamati stone pelter spit doctor nude front nurs throw urin bottl peopl this one side other side pakistan continu attck fight btw relgion vs region muslim alway give periorti religion region #muslimvirus',\n",
              " '🙏🙏',\n",
              " 'pakistani #indvssa sa chase easili wait n watch #indvssa apan laumd sale aba jitan ka mahaula banan lage haim #mauka',\n",
              " 'r u meitei',\n",
              " 'noth wrong secular first impos uniform civil code famili plan',\n",
              " '',\n",
              " '',\n",
              " 'jay shri ram',\n",
              " 'manipur mning makha tmjrmbni india na manipur prajabu apngb sibdi yroi haibsi hantk mtngcd khnghngdbni cocomi gi kaka ratankumar gi waphm amdi oja dhanabir gisu support toujei',\n",
              " 'ओवेस के शहीद #सलम शाहरुख आमिर दान कर #कोर जिहाद #cronaviruspakistan #cronavirus #covid india #covid #भारत रत्न बाब साहेब अमर #muslimvirus #muslimsspreadingcorona',\n",
              " 'asengba nungcbada mayang meitei leit',\n",
              " 'chummi',\n",
              " 'veri sad news',\n",
              " 'is pettl stone doctor spit nurs staff maulana give speech spread corona rastradroh #muslimvirus #muslimukthbharath #राष्ट्द्रोह #निज़ामुद्द मरकज़ # daysoflockdown #jihadi corona virus',\n",
              " 'kale exact abhi baki chinal ka bhi negat review ana suru ho jayega',\n",
              " '',\n",
              " 'hijda raj',\n",
              " 'bustard mullah #jihadi corona virus #jihadivirus #muslimvirus',\n",
              " 'sonagachi te giy chude chude sona goriy por khanki maagi',\n",
              " 'mla minist singsibu karimta khangdaba apangba ngaktara assembl mefam kouni ga khangdrisibu leibak se kaidoree noibu peopl repres ni khangdraboooo',\n",
              " 'anchor c di',\n",
              " 'are ab saar star ki gaand fatn lggi isli bhn ke lavd apni maa chudan aar',\n",
              " '#i support uttrakhand cm search queri support uttrakhand cm',\n",
              " 'bhaakkk saali lavdi femin lvdi',\n",
              " 'jay shere ram',\n",
              " 'india wale margayakya',\n",
              " 'kw first peopl leav occupi kuwait land peopl #muslimvirus',\n",
              " 'khundongbam atiya meitei congress na chahi pairakpada keimta semd haidi ng chahi kayada poklakk tiddim road ki fibam kamai touramg hanna ima keithel kamaina touramg lambi gi nakan yum thugairaga yum amada lakh kaya piribado aduga lambi pakthokpado bridg na alien na sabra hairak khora atei',\n",
              " 'yeah sab muslim hijad sale chadarmod tuchiyo muslim #muslimterroritst #muslimban #muslimgaddar #muslimvirus #tablighijamatvirus muslim hatao desh bachao',\n",
              " 'subho ram navami',\n",
              " 'g b road mein iss sasti aur achi aurat milti hain',\n",
              " 'अय्याश ठर्क',\n",
              " '',\n",
              " 'f i like main yeh samjh lu ke aap sab log apni behano aur betiyon ko kabir singh jais se bar sex ki permiss deng woh bhi marriag se pehl great think india sachmuch badal raha hai',\n",
              " \"md jafar s solit khan keirang khunou mahak siba yana leiri mayamna mahakkidamk du'a pray allah all subscrib thank all\",\n",
              " 'ie also compromis',\n",
              " 'fjna neikhair raj na',\n",
              " 'ram ka nahi kohi daam ram huva badnaam bjp hindu teri leya aaj ka hindu kuch nahi janta apna dhram ki baat likin sunta hai chor bjp ki baat tumari hal aisa ha hindu bhai sudaro nahi tumara bacha modi yogi ki murti bana ka pooja karagi',\n",
              " 'देश कोम चूत कम नह 😡 #coronajihad #islamicrepublicvirus #islamiccoronajehad #muslimvirus',\n",
              " 'ranu mondal maderchod',\n",
              " 'ise tygi ki toh chod fade dunga',\n",
              " 'tu saal gandu yaha hums gand marwa waha tere jais hijd jo gender ke sath gand marwat ho gand felan ke siwa kuch nahi karog hamar fouji tum jaiso ki gand marna bhi pasand nahi kareng',\n",
              " 'musolmanra kono dhormok chhoto korena',\n",
              " \"undeni fact muslim extrem direct quot quran quran they wish would disbeliev disbeliev would alik so take among alli emigr caus allah but turn away seiz kill wherev find take among alli helper link translat kill muslim leav islam quran alif lam meem link translat allah messeng alway right quran cannot doubt quran rememb lord inspir angel i strengthen believ i cast terror heart disbeliev strike upon neck strike everi fingertip link translat terror non believ peopl agre islam quran inde disbeliev among peopl scriptur polytheist fire hell abid etern therein those worst creatur link translat peopl scriptur jew christian sabian polytheist hindus buddhist sikh jain vilest creatur deserv merci quran and fear deal just orphan girl marri pleas women two three four but fear marri one right hand possess that suitabl may inclin injustic link translat two three four quran o believ take jew christian alli they fact alli one anoth and whoever alli among inde one inde allah guid wrongdo peopl link translat don make jew christian friend quran fight enjoin upon hate but perhap hate thing good perhap love thing bad and allah know know link translat fight jihad muslim oblig even want quran and whoever desir islam religion never accept hereaft among loser link translat islam accept religion pork ban islam countri except three muslim extremist say religion intoler toward alway subject injustic and hatr may true logic justif deduct connect dot well the shoe bomber muslim the beltway sniper muslim the fort hood shooter muslim the underwear bomber muslim the u s s cole bomber muslim the madrid train bomber muslim the bafi nightclub bomber muslim the london subway bomber muslim the moscow theatr attack muslim the boston marathon bomber muslim the pan am flight # bomber muslim the air franc entebb hijack muslim the iranian embassi takeov muslim the beirut u s embassi bomber muslim the libyan u s embassi attack musiim the bueno air suicid bomber muslim the isra olymp team attack muslim the kenyan u s embassi bomber muslim the saudi khobar tower bomber muslim the beirut marin barrack bomber muslim the besian russian school attack muslim the first world trade center bomber muslim the bombay mumbai india attack muslim the achill lauro cruis ship hijack muslim the septemb th airlin hijack muslim think buddhist live hindus no problem hindus live christian no problem hindus live jew no problem christian live shinto no problem shinto live confucian no problem confusian live baha'i no problem baha'i live jew no problem jew live atheist no problem atheist live buddhist no problem buddhist live sikh no problem sikh live hindus no problem hindus live baha'i no problem baha'i live christian no problem christian live jew no problem jew live buddhist no problem buddhist live shinto no problem shinto live atheist no problem atheist live confucian no problem confusian live hindus no problem muslim live hindus problem muslim live buddhist problem muslim live christian problem muslim live jew problem muslim live sikh problem muslim live baha'i problem muslim live shinto problem muslim live atheist problem muslim live with muslim big problem so this lead to they happi gaza they'r happi egypt they'r happi libya they'r happi morocco they'r happi iran they'r happi iraq they'r happi yemen they'r happi afghanistan they'r happi pakistan they'r happi syria they'r happi lebanon they'r happi nigeria they'r happi kenya they'r happi sudan so happi they'r happi australia they'r happi england they'r happi belgium they'r happi franc they'r happi itali they'r happi germani they'r happi sweden they'r happi usa canada they'r happi india they'r happi almost everi countri islam and blame not islam not leadership not they blame the countri they are happi in and want chang countri they'r happi like countri came unhappi islam jihad an islam terror organ isi an islam terror organ al qaeda an islam terror organ taliban an islam terror organ hama an islam terror organ hezbollah an islam terror organ boko haram an islam terror organ al nusra an islam terror organ abu sayyaf an islam terror organ al badr an islam terror organ muslim brotherhood an islam terror organ lashkar e taiba an islam terror organ palestin liber front an islam terror organ ansaru an islam terror organ jemaah islamiyah an islam terror organ abdullah azzam brigad an islam terror organ\",\n",
              " 'tum aukat ki baat kar rai ho tum jaiso ki aukat yehi hai ki rifa ali khan shaadi k baad darzan var paida krogi aur bhatogi jayada chodipanti na kr smji',\n",
              " 'iska photo hi fek dena chahiy',\n",
              " 'inki gando goli karo',\n",
              " 'hossain 😳 😁 😝 😭😲😀😀',\n",
              " 'nakok macha khara khallo meitei nupi mayam ama pangan nupa da mayum pan gri du meitei macha sing dusu dujak ta chtlani adu isi ywba oiramni',\n",
              " '। । ।',\n",
              " 'makeup wali aunti oye makeup wali admi lakshya ne mar tumari',\n",
              " 'ye soor cha cha hi',\n",
              " 'love blind nungcradi keisu kaid apmba mphm da apmba mida leibana ym fei pmdaba da leidei saruk nungaina pnba oiyo ❤ ❤ ❤ ❤',\n",
              " 'what know yogi adityanathji peopl pre conceiv notion modiji yogiji without even verifi fact they base opinion bias media they open mind read yogiji done constitu mani muslim support sorri state call intellectu although i refus call intellectu they misguid lot',\n",
              " 'acigi media cidi third class oirey adukyam chaokhatlba matamsida sound adukyam na clear twhandris angakpn',\n",
              " '#तबलीग जमात ताबीज बांध जरूरत है। सिर्फ #तबलीग जमात बैन कर काम नह चल जड़ सह बीमार भारत उखाड़ ४७ भूल सुधार पड़ #muslimvirus #chines treatment करें। #तुष्टिकरण २०२० १९४६ हासिल है।शठ शाठ्यम।',\n",
              " 'yareda congress noisu bjp noisu animak chapka manaramin nokpu nokning leibak ningbaga sadna congress noisu yaihei divert tounaba hotnabada bjp dadang tainaganu noisu afaba natlamdreda myam parti anidagi lapthok asa',\n",
              " '👌👌👌',\n",
              " 'dalal media aita',\n",
              " 'jalal nang kaidnoma chatkhro ng namai yamthai phataba mahiksinggi manungda ngsu ama oidouri',\n",
              " 'great',\n",
              " 'masigi jalal hyba boko haram mnbasini ym fatris',\n",
              " 'meitei nupi c mayang paisa paibada ym ngaoee christian khra convert tw mayangna khra lou pangal na khra lou tribal na khra lou summ meitei loikhidw mnli museum daga meitei kouba communiti ama manipur da leirmikaina tung ge mirol na yengaktw mnli lanna lougnu meitei bros sister atoppa dharmada convert twgnu tung ge mirol ge yenglga',\n",
              " 'meitei paktradi reserv lwba piba yadro',\n",
              " '',\n",
              " 'bjp hataw desh bachaw',\n",
              " 'dharma mean manab dharma process self realis univers accept toler here gita upanishad bhagabat purana etc studi materi help book if fulfil goal self realis without book ok what right belittl book if carroug speak learn peopl monk leav platform youtub if percent peopl may get crore subscrib earn lumpsum sri ramakrishna said follow matuer buddhi',\n",
              " 'oja dhanabhir laishram oiradi yengdri ngei da like👍👍👍👍',\n",
              " 'मुसलम भारत अभिशाप मौक नह छोड़ भारत नाश के #corona जैस महामार के लोग नीच दिख माइनॉरिट भारत इनस इत खतर मेजोरिट पहुँच नह होग भारत में। #islamiccoronajehad #muslimvirus',\n",
              " 'sorri bt error spell',\n",
              " 'hehe chummi nggije masanadi tabadi masa gi darma ngakpa hyje adubu darma da fattaba wakhnlon jidi lwthokpa fei noina pariba lyrik chtna kanglon mina sembani aduna mina fhttaba wakhn khllo hyrmmena noina aduda darma gi lyric ta hyrammena hekta engadwba ntte khudam matm amada hindu darma da nupa leitaba hydi ckharba nupi meinungda langsallaga hatlmmi adu mina sembani adubu mina amuksu semdokhi adumna fhttabadi semdok c hybani etao khudm etaogi epado thwri yalla ckhi hydunabu ngju epa epugi chetnabi ngak eni hyduna ngju thwri yalla cgadro aduna fhttabadi semdokpa kaid lai hyje etao ng ym thajaradi mashk amta tak une eikhoi thajag noi darma eikhoiju yaorageba ashiba mi amta hingathallo noi darmado eikhoiju yaorageba lyric tmmido etao sigumba kharasu neinasida etao allah ho akbr',\n",
              " 'bjp gi mise se hek ubaga chak lamba fou e ##',\n",
              " '',\n",
              " '।। ।।',\n",
              " 'yuor sexi speech',\n",
              " 'ami suman ke challeng korchi amar song torko lorai hobe abp',\n",
              " 'bjp kewal tax chalan se janta ko lut rahi hai janta ka dimag hindu muslim ki taraf kar dete hai bjp bhgao desh bchao',\n",
              " 'murkha report hathiyaro ke liy licens ki jarurat nahi padti',\n",
              " 'arundhati roy ek number ki chhinar hai ab buddi ho gai hai',\n",
              " 'jay sri ram',\n",
              " 'haramzad musalman kha hai ap bhut fatw ki batien krte ho aj bhi bola hai apn ki fatwa jari krdo kli masjid ni aega ap kisi dharam nahi mantey ye deko deko apn majhab k logo ko kya gandagi machai hai #muslimvirus #muslimsarecrimin #muslimban',\n",
              " 'isf jot jitb',\n",
              " 'bhagat singh g ro rahe hong aaj india ko shaheedo se mafi mangni chahiy',\n",
              " 'sabs gandi sarkar aam janta ke sapno ko toda hai rakumar maurya',\n",
              " 'nungaina pallu ko 😊',\n",
              " 'knano',\n",
              " 'is video ko un bhosdi bale congress bale kutt ko dekhyo',\n",
              " 'thur bangladeshi bangali ra ki babh tripura eses jana communial bangali',\n",
              " 'ahm akhoigi state govt kidi noina lwiidana akhoigi chakthung gap tw nahamacha',\n",
              " 'wow',\n",
              " 'to aap badan ku dekh rhe h mantri ji 🙁🙁',\n",
              " 'i reali happi',\n",
              " 'hourey pangal ge amuk',\n",
              " 'koktang ngngna propt ta pngang ngangi budu',\n",
              " 'nehru ki ka bhosda',\n",
              " 'pura bollywood hi bekar pyar pyar lavd ka pyar',\n",
              " 'parliament ki manipurgi mp singsu discuss da invit toubiyu henna nungainaba',\n",
              " 'gandu nahi chay foj mein',\n",
              " 'subah uth k aankh kholn se pahl jiska chehra dekhn ki ichcha ho wo pyar ho tum ah meet mere #blockbustermsg',\n",
              " 'jai hind sar good sar e v hatay',\n",
              " 'दिवाल मनाय कुछत दीय जलाएँग # pm minut रोश जल जाएँग #muslimvirus # बज मिनट',\n",
              " 'are kuchh nahin raha hai bahan chor sab tum log ka chaal hai bahan ka tumhara baap ka raj chalta hai kya tum jakar jana pradhanmantri mein',\n",
              " 'meetei marakta leibagidamak meetei pangal hairi natro meetei hapningdradi karmainameetei marakta leidoino bangladeshi amuk tabani adudeidi adum fajarani',\n",
              " '।',\n",
              " 'gaandutatvata ki saari hadein paar kar di hai namakharamo ne #muslimvirus #islamiccoronajehad',\n",
              " 'priti das apki ye bat kuch roodivadiyo ko kitni khlegi ab giniyega mu tod comment tha apka 🙋👑',\n",
              " 'librela ki maaa kaa bhosdaaa',\n",
              " 'chacha',\n",
              " 'wah rahe plane se cigarett mangwai',\n",
              " 'karoidba ngakta yetnei bit leit',\n",
              " 'lauda tum chutiy khabar upload kart ho 😡😠',\n",
              " 'bhai period wala scene v tha femin support bhen ki laudiyo ko wo sb ni dikhega',\n",
              " 'दोगल जवाहरलाल नेहर',\n",
              " 'salay jothi batay kartay ho',\n",
              " 'verdict given public u nt god decid',\n",
              " 'absolut right sir',\n",
              " 'mayaida fmlise kangyet yam nganggi mi amana yekkena yetladi upai leit',\n",
              " 'karaidgi maipak ningthou khngdre manipurdi yam segainaba yam pambni segainaro',\n",
              " 'pagal ho sale',\n",
              " 'you bjp virodhi h',\n",
              " 'backwash',\n",
              " 'sir sorri you have creat monstor for india we all have to pay but bad day will be over with mr modi tean pl do not repet mistak again',\n",
              " '#antihindus news paper boycott kind paper #palgharlynch #hindusadhus #muslimvirus #fearless #palgharsadhulynch',\n",
              " 'darun hoyech darun darun ei bal r baler mey r oi atindra bokachoda puro indiar mata kharap kore rekhech',\n",
              " '',\n",
              " 'madarchod katel pahl apni zahil zamaat hi smbhal le dusro ko bad gyan de dena suar ki aulaad #muslimvirus #मुस्लिम मतलब आतंकवाद #मुस्लिम बेशर्म',\n",
              " 'b l o p tri understand u know situat come actual reveng',\n",
              " 'jay sree ram bhagwa rang',\n",
              " 'अब चूतिय वो थूक नह रह । जानबूझ फैल नह रह । #muslimsspreadingcorona #muslimvirus',\n",
              " 'wah kia bol hai desh ka sara baich kar harm ka khtehain jhapajhap desh ke ladki ke sath haramiyun kart hain ghapaghap',\n",
              " 'abe bc ye kis angl se movi review bhai yrr hard hoti h bc maana tumn baat said kahi lekin isp tujh ek alag video banani chahiy tune titl daala h kabir singh review bc baat kuch hi kar raha h bc',\n",
              " 'yare shakthu minai',\n",
              " 'nu',\n",
              " 'oja jalal academ academ ti yam haiiiiiii express total flop marak yam thatl mina ngangbada mahakna ngangbada kanamtana yetkhidaba mall',\n",
              " 'wht fuck wrong u bitch fuckinnggg movi nerd',\n",
              " 'panningdna nang pallunu mina apamba bor khanba nangsu khallu keino',\n",
              " 'amabu oiro amabu oiro eikhoi meetei singga noiga e mari leinarabani kainaba yadoi nattr atoppa mame ama ollabasu eikhoi lingjel manas ema leipak manipur bu kllase',\n",
              " 'penlaha twri mayems bisworjit heibar keino menai hatokag fadoina',\n",
              " 'he high educ mam urself',\n",
              " '',\n",
              " 'alway nice hear #muslimmutagen deni holocaust n call #terroristisrael wish make drug cure world #muslimvirus',\n",
              " 'ashajulsha thik',\n",
              " '🙏',\n",
              " 'mint ki video koi danag ki baat tuh krta gandu ye tuh sb hume pta h bosdik',\n",
              " 'mondal',\n",
              " 'baaler mey tar baler maa baap dekh gaa jole gech amar 😒😒 khanki magi randi chudi eto taka goinar sokh red light area te darat prto giy',\n",
              " 'nehru romanc n deshku age baday rss gandu kuch bi nahi kar sakth',\n",
              " 'bjp hatao desh bachao jai bhim',\n",
              " 'organis khwaidgi chaoubaduna decis pidradi eyamk yadrabra decis pibirmlibadi organis cso na ntte haiba discus dgi kjngjre scholar singdgi ni haiba sida magi organis mame chtli chtte hainaradi laloidro local newspap da seminar pangthokkani che pabiningbas pabiyu hainasu louthokpa leisu hair youningdba paper paningdba midu kamaina nmfuda pahngani pleas let us argu we manipuri pangal this time isol ourself manipuri unit fought odd meisa langlibn leipaks',\n",
              " 'meitei pangal hairgdi yumnaknsu takchrbni manipurda thonkhiba yumnak nttba muslimdo pangal kouba yaroi gyan tabiu',\n",
              " 'feminist liber chutiy hote hai bhai inko koi nhi samjha sakta mai bolta hu ki aisi aur movi banani chahiy inki gand jalt dekh bada sukun milta hai',\n",
              " 'apni ei mey ke muslim bolchen keno ei mey surot tar mathar tilok dekhach ei khial korenni andaji musolman bodnam korchen keno ei meyeti hindu',\n",
              " 'madarchod lakdi sali',\n",
              " 'धर बन अल्ल ताल #दिमाग दे #काफिर 😂😂😂 #इसर 👍👍👍👍👍',\n",
              " \"मोद फेकू'और रोन्द के नाम जा जा\",\n",
              " 'uni naki mp 😂😂😂😂😂 😂😂😂😂😂😂😂😂',\n",
              " '',\n",
              " 'randi magi vagg',\n",
              " 'bataao aisa prachaar hoga toh kaun congress aap ladegi',\n",
              " 'bjp parti corcha corhcha',\n",
              " '',\n",
              " 'an old man handl danger politician histori',\n",
              " 'hahaha bijoy tiken c hinglm noini lakpna bjp vote piningdbgi machk ama oirni hahaha 😂',\n",
              " 'chennel । ।।',\n",
              " 'राज तुच्छ भाव प्रेर हो भारत के मह पुरष के पवित्र चारित्र इत घट इल्जाम लग हैं। हर कर्म फल न दिन भोग पड़ ।',\n",
              " 'bjp gi khwaidei sathiba mr kangyet anini ne loireh 👎👎👎 bjp kri lai khurumdoino upai leit hndk ti',\n",
              " 'nahru real thief',\n",
              " 'ei neta amder vote ei touri',\n",
              " 'dada amak balun kunti amad pabitra dharmagrantha',\n",
              " 'muslim realli part india vulgar act #delhiriot #muslimvirus #muslimsspreadingcorona #muslimban',\n",
              " '#blockbustermsg jee papa ji ham cd nahi leng',\n",
              " 'singh kyun mc saal tujh studi pe focus karna hein yaa ismein aati ho yaa usmein aati ho',\n",
              " 'tbh agre homosexu fact find whole sexual intercours men disturb mean would victimis cruel gay person never that natur think sexual behaviour wether prostitut transsexu gay problem societi soon realis aid one rapid spread diseas world',\n",
              " 'bharat मुल्ल सावध रह सब औरंगजेब के औलाद औरंगजेब मां बाप भाई बहन नह सब उम्मीद मुल्ल मूल संक्रम सब #muslimvirus । bharat',\n",
              " 'ebemma ng meitei nupig fijol c setnadr adudagi soirakpasu youy ko nupa ngakna lanba nate',\n",
              " 'amaz counter question anchor chahi kya chasillaga leiba politician sings vote myada chaba tumnaba knna ngangnarkpasidi noktaba ngmde parti masel hunnabiyu vote kanaba aduga hyengwai nacha nashu geido das chowdhuri patel sageida onthok ammo',\n",
              " 'isf jendabad',\n",
              " 'vote se hayeng ne esana piningba prati da vote piba yai adubu manipur kans hairagadi bjp da vote pifam thoklibra eigi oinadi bjp nttaba parti da pirni bjp pmdba plz like twbirmmo',\n",
              " 'khongreh phoni kaina',\n",
              " 'bjp khkta oira mall cab khngese lairk yamna heiris bjp khkta oira mall',\n",
              " 'right bondhu etodin jader sath thakch tader k oshomman korch shali khangkir buri',\n",
              " 'मुस्लिम भाइय पर्याप्त दूर बनाय रख क्योंक कोर बम बन चुक 🙏 रिटवीट #muslimvirus',\n",
              " '',\n",
              " 'meitei pangal hyraga kei kaig jalal hyba waheisina sum taklabani manipur gi nativ natte',\n",
              " 'मेर हिन्द भाई बहन निवेदन निज़ामुद्द मरकज़ पकड़ मानव बम बच के रहना। मुस्लिम समुदाय के लोग के उठ बैठ तत् प्रभ करदो। #nizamuddinmarkaz #covid india #muslimvirus ind',\n",
              " 'bjp',\n",
              " '#muslimsspreadingcorona #muslimvirus jao page ki kitab paddho jakar',\n",
              " 'gand maraooo 🍑🍑',\n",
              " 'oja tiken ng natomtaa ngangg hairiroo',\n",
              " 'sir jalal hybc ym mayek sengi histori khngdna sir jalal na hyba nati histori karino hyba khngna hybni',\n",
              " 'raj hujikti eikhoi noigi power matmn aduna fjna neisilo question se adumaina hangjilo kok ngaohalo eikhoigi apambadi huranbas saohanbadun aduna yarikhei mois saohanba mayumdaga hankhraga chaka amata chaningba faodbido raj eigi request ti moikhoibu saohanba moina saoraga eina penna nok aga ngaihak pothajabadun',\n",
              " 'no rip',\n",
              " 'ki jeet fir hogi repeat #indvspak #pakvsind #indwin #cwc',\n",
              " 'ओह मोद जी ।',\n",
              " 'govt give secur neta our jawan need they true vvvip whi give z secur',\n",
              " 'कड़ निंद थे। #emerg #coronajihad #muslimvirus #coronaupdatesindia #indor',\n",
              " 'ladko phir bhi armi mein ho sakhti hain par smaglik nahi ho sakhta',\n",
              " '।',\n",
              " 'ram navami do want know happen purulia india v n n h zjr v n n h zjr',\n",
              " 'auraton ko sirf aazadi chahiy jimmedari ke time abla adhikar ke time sabla',\n",
              " 'what #covid #world #virus #india #muslimvirus #india #hinduvirus indian alway uniqu',\n",
              " 'yai bjp walai ayyash hai',\n",
              " '',\n",
              " 'rt #msg successfulweek rang bars rang bars darbar pitag tere rang bars',\n",
              " 'publikk comment cu khar yengbiyou bjp nakhoibu publik na nakhoibu nungcdr khr ekyb khngu',\n",
              " 'c gi matangs ywsllk adi cm sir mak kwbiraga program asi yaohnningi',\n",
              " 'modi ji zindabad 🚩 🚩 abar bangla parl samla chor tmc dalal tmc',\n",
              " 'कर बेदखल',\n",
              " 'imdiya mem loga patakh phoda़ rahe haim aura pakistana mem tivi | #indvspak',\n",
              " 'sir pleas take immedi strict action jihadi attack doctor otherwis late loos innoc peopl due pandem #declareemerg #muslimvirus',\n",
              " 'god bless sis😘',\n",
              " 'सस्कृ सिर पैर कपड़ पहन नह बच । न संस्कृ मतलब कपड़ ढक जा कपड़ ढक जा मुस्लिम महिल के कपड़ बीजेप समर्थक इत समस् न होती।',\n",
              " 'hamar desh ke mahan purush mahan abhineta mahan mahan nayak bhagat singh chandrashekhar azad subhash chandra bose sardar bhai vallabh patel aur bhi kai neta per hamar desh ko dur hone wala ek hi neta nahin neta pahla nehru desh ke tukd karva diy',\n",
              " 'after damag done report 😀',\n",
              " 'intent hide fact attack noth #muslimvirus bigotri amp wrong part term #sob',\n",
              " 'मुस्लिम बाहुल्य क्षेत्र संवेदनशील #muslimsspreadingcorona #muslimvirus #मुस्लिम मतलब आतंकवाद',\n",
              " 'sinam onkhrabn muslim namdana',\n",
              " 'leirik tmba thaban nama npa moral mngluchona thaba nate eigi cultur preserv toubas chaokhtaba tarabra ebunggo afaba lmbida eikhoi tmsiko work cultureda matou tmsiko',\n",
              " 'yam nungai na pallu koh masa na yaradi akaiba taobinu 😿',\n",
              " '।',\n",
              " 'chodaakd log',\n",
              " 'gay ko daleng armi socho bipin rawat ji agar gay hote kese baat krte ladkiyo ki trah inko dur hi rakhna chahi armi se baaki jagah jo krna hai kro lekin privat',\n",
              " 'matao eid congress ta twrage bjp dgidi congress na ym thina faba henbra khlli matao',\n",
              " 'excel video great salut you',\n",
              " 'chi chi a abar mp 😡banglar lajja 😡',\n",
              " '',\n",
              " 'masha allah',\n",
              " 'ticken hoi bijoy hoi choron sokpi parti sina nongma natraga nongmadi prajagi sentimentsina ka henna wangkhtlkpa numitta mayum dagi chingthorkpagi timingdo eidi mit ta urey june gi scene kaodaba fei',\n",
              " 'desh na chalao insaaniyat lao janwar ko maark khoon baha ke paka ke lhaat ho yeh tumhar allah ko accha lagta hai kya',\n",
              " 'rendyr bachchara ghore maa er sang sute parto',\n",
              " 'sahi bola phatti geen ke jagha nangi chali jaya',\n",
              " 'baja maya chala',\n",
              " 'magi hois kukur munu r gurur moto muk',\n",
              " 'minai singsidi',\n",
              " 'o',\n",
              " 'panelist sings pangal ngata invit twrbanina moi msel yetnar c',\n",
              " 'bikao media',\n",
              " '',\n",
              " 'chaokhtpaj dj twraga dress ta segaibaj chaokhtpa cingbra shktuga hwtehe aphabada matao tambadi phei aduga chwkhtpa matou tamminena cigumba jida twraga chwkhtle khalliba nggi kok ngju moigumbani ko',\n",
              " 'nahi tere maa ki suhag raat bechenchhod #jayahinda chak de india #indvspak',\n",
              " 'nungc',\n",
              " 'arup chakraborti ekdum bhul ram navami te ram er janma hoyechhilo hanuman er noi ami apnar kachh jharkhand er sei mandir tar nam jant chai jekhan lokera jane na tara kar janma tithi palan korchh prabhu r na bhakter',\n",
              " 'raja modi hai hi sabs raddi kuch nhi kar paya puri gdp gir gyi bs badi badi fekt hai wo',\n",
              " 'rt pakistani team kay haramkhoron aisi hoti hai field #indvssa',\n",
              " 'what actual fuck film',\n",
              " 'right',\n",
              " 'hahaha hijdo ki fauzz bana rakhi hai pakistani armi bol bol hi jaan le leng hizdoo ki fauzz jama kr rakhi hai',\n",
              " 'safiqur walker ngse cheidi phajana nine ebo gadahanabu cgumba wakhal khangadro pithokpasu kharatammo mingonda',\n",
              " 'rt mana ki icchaem choda़ unhem tuma apan bute para purna nahim kara sakate| yadi pani se ghi nikala ae rukhi roti koi na khaega #msg',\n",
              " '',\n",
              " 'mix । । ।',\n",
              " 'कोर के मरीज अधिकतर शांतिदूत #pmcaresfund दान दे हिंद हैं। कम धो वाल खाय टोप वाल 😊 #muslimvirus #coronajihad',\n",
              " 'tor gud mari',\n",
              " '',\n",
              " 'what els one expect #jahiljamat #muslimvirus',\n",
              " 'saxena ज्ञ यह',\n",
              " 'veri nice new',\n",
              " '😂😂😂',\n",
              " '#निज़ामुद्द वो उनक मूर्ख नह जिहाद हिस्स था। #ग़ज़व ए हिन्द बढ़ क़दम था। मूर्ख वो वो जिंद रख के आइसोलेशन डाल हैं। #muslimvirus #muslim corona jihad #coronainmaharashtra',\n",
              " 'chungkham mtm duda burma na lan darkpada muslim singduna mteng chaona pangduna meitei na lan ngmkhi maduda ningthou na mthouna maringjen ymna lei panggl ym klli hyduna panggalba kwkhibn adudagi panggal hykhibn aduga bangladesh tmna hnkhibagi mhut meitei ningthou na toubim khngba oina meitei chanura sing thajaduna eramdam kangleipak asida punna leirkhibn mkhoigi yumnak ti mtmduda pangal sing suba nomba klli aduna mkhoi mkhoigi sintha gi mtung inna yumnak pikhiban meetei ga ee yanakhibn tunggi meerol na khngnaba meetei pangal hyna punna chada nongda duna leirkhibn per knowledg',\n",
              " 'mayamna bor pirbni bjp amuk halaktaba oirsanu yaningba singna like toubiyu',\n",
              " 'adun',\n",
              " 'इस्लामिक देश मिल #कोर किट नह बन पाए सप देख #गजव ए हिंद हिंद जाग चुक नह उखाड़ पाओग 😡 #coronawarrior #covid #muslimvirus #मुस्लम मतलब आतंकवाद',\n",
              " 'now realli beliv vi pass pm ki degre nak hai',\n",
              " 'abe suar abhi centr aur mp dono bjp hai agar vo chaht yeh apn member ko bacha sakt par inhon esa nahi kiya aur uss isi ke agent ko pakdaya yehi saabit karta hai ki modiji kitn acch leader hai',\n",
              " 'tu chhaka h',\n",
              " 'islam sohomot',\n",
              " 'chanu chngjrkleba mesak amabu tramna okpa lanl hyrkleba mesak amabu ngakpba c taibang akhoigi hwna sane twgadaban wl cm knasu twganu hyde twfm thokpan adu',\n",
              " 'khan pleas tell show human tell stop terror activ u one continu tweet #caa #nrc #kashmir issu #muslim issu stop think like pak #tabhleegijamaat #askzeenew #muslimvirus',\n",
              " 'akbar badsh kharkhod marat',\n",
              " '।',\n",
              " 'mamota hatao bengal bachao',\n",
              " 'namast super',\n",
              " 'bhai upper cast k sath bhi hota h ye jruri nhi dalit k sath hi ho',\n",
              " 'it matter love m meitei bf bhopal n r move togeth soon great marri life ahead sister',\n",
              " 'ngse lyrik lysu tmdaba meesu manl nggi wangang sangangduna tak ee akhoi muslim nupi ga noi meitei nupi ga changdamnarkanu noina noigi meitei nupi msk fjei khnjabagum akhoisu akhoi muslim nupibu noigi meitei nupidagi henna fajei sengena khnjarani ng chgt yamna twrije ng kyam faobno ngamni hyradi ng khktng lak kibid nyumdgi mapan thoktaba ngna hum noigi emungda thokpa oiradi fana lallasu band twdana praja da awaba pinin ng kyam khngba meeno skthu ngdeba akhoi etao ama leiy meitei ne hyse nggi wangang sangangdu tabada thangna kakla hatk hyni thumotei',\n",
              " 'jab moharram hota tab aap logo ko talwar nahi dikhta hai kya ram navmi mai hi kyu dikhiy diya aapko',\n",
              " 'what age',\n",
              " 'aaj ladkiyon ko aajadi chahiy ladko jais nang ho kr ghumn ki pr kya ladk nang hokar ghumt h',\n",
              " 'rassgunda mode',\n",
              " '।',\n",
              " 'savdhaan india victim domest violenc men women misus right shown episod savdhaan india base true event',\n",
              " 'toke hekos hanna professor oirammi haidain mana takpa lessondo gyan tabra hangningkhr magi satraka yaobro leikaisibo',\n",
              " 'whenev unwant fact expos peac communiti find sardesai coupl alway protect start whataboutari divert focus matter hat call journal #tablighijamat #nizamuddinmarkaz #muslimvirus',\n",
              " '।',\n",
              " 'kejri come i t depart one corrupt dept india kejri well vers corrupt',\n",
              " 'joy hindu',\n",
              " 'haaaaa haaaaaaa ohi ka nam hai bjp sarkar thank sir ji bath korn k liy bjp murdabaad desh ko lut raha hai sale bjp sarkar sale chai wale',\n",
              " 'to phir nang ghumo',\n",
              " 'लोग थाल पीट बदनाम सुअर फल चाटक मासूम कहलाय #coronajihad #muslimvirus #muslimsspreadingcorona #tjkmkb #coronajihad #tabligijamaat #nizamuddinidiot',\n",
              " 'scorer score interest guy pleas get sex chang oper get tag tran woman shall talk bye',\n",
              " 'she never good parent the got divorc year age this tell sort ladi foxi face she third rate stupid educ illiter ladi',\n",
              " 'sharm ana chahiy',\n",
              " 'reshma shahani hei menai nupi oakchabi',\n",
              " 'ei hindu bhai jane na dakhi te muslim morechh jan ar hindu morechh jan',\n",
              " 'muslim der tare nusrat akta year tare kalonko',\n",
              " 'सीख वाल समझ नारिय ko बकर समझ h मज़ाक उड़ h उस मजहब k logo se उम्मीद रख h #markaj nizammudin #chinesevirus #muslimvirus pawan sahu pelawat',\n",
              " 'jalal sakthu nang manipur dagi talo haibro',\n",
              " 'bjp da vote pini khalleba mi sing mashag makhungda thangna yandijabani',\n",
              " 'meitei pangal hyba yaningdradii noi gii hwrakpham kydano chtkhro hyningk eko eikh apunban hyningdradi',\n",
              " '♥♥♥',\n",
              " 'bjp bjp bjp bjp jay sri ram',\n",
              " 'think peopl comment section miss point show charact like arjun reddi subtext behind stori subtext tri make hero without identifi abus let look exampl sardar khan gang wasseypur forc nagma nagma fall love foreground let look subtext sardar khan portray dark twist charact director still likabl charact director never shi away discuss dark behavior subtext awar wrong do okay one ask filmmak overt feminist like kashyap mean nagma use sardar sex start famili charact shown attract abus guy societi fill similar folk decid marri get leverag societi decis audienc studi rather kashyap later goe develop badass woman get sardar kill get wrong sudden develop strong femal charact without break realism arjun reddi distast era film like norm till last decad sad see peopl gravit toward regress thought convers also take back jave akhtar fantast argument breaker say get film bad ask peopl abus action women made million men get titil jave use argument pragya thakur nomin said peopl say pragya case proven jave said ask peopl thing like think muslim famous els hit kind twist analog tri understand arjun reddi type film becom obsolet well',\n",
              " '#railbudget #relabajata rela bajata se pahal garama hua vipaksa gt',\n",
              " 'sakthuni ngdi leibaki shaba touraga',\n",
              " '',\n",
              " 'हमार तेर फर्क कनिक कपूर घट गाल दे दिल्ल जैस घट justifi हो😡 #kanikakacoronacrim #delhi #muslimvirus #muslim',\n",
              " 'लावारिस पठ थोड़ करोड़ करोड़ भार पड़ देख लीज तबलीग जमात देश भार पड़ गई। #jamaatkobankaro #coronajihad #muslimsspreadingcorona #muslimvirus',\n",
              " 'teri maaka chu',\n",
              " 'jinko gay pe daya aa rahi hai wo unhi se apni marwa lo bc armi jana hai tiktok pe nhi',\n",
              " 'madarchod teri maa ki choot',\n",
              " 'guy hotnamianras meetei mase amuk kangleipak ta henktnaba hotnaras meetei lingzel mannrse👍 hu gumna pangkk oiraba moidagi knba ngmhwnaba yaifar yaifar',\n",
              " 'bhoxdi wala chacha aj v desh bhugat raha hai iski kartutt',\n",
              " '',\n",
              " 'ashish bhai macha rhe hai hai bawaal hume sach laga tha aap nikal liyr rip wala nikalna',\n",
              " 'nice 😬',\n",
              " 'eitai baki chilo kichu na astro niy r sree ram er name rajniti eitai bjp korb bangla ta ses korb bjp',\n",
              " 'peac amp burkha #peac #franc #pissfulreligion #allahvirus #muslimvirus #islam #islamvirus #muslim #muslimtwitt #muslim #muslimlivesmatt #muslimlivematt #peacefulprotest #peacefulreligion #allahuakbar #pakistan #prophet #charliehebdo #pisslam #jihad #europ',\n",
              " 'rt na khuda mila na visal e sanam na udhar ke rahe na idhar ke #shaziailmi #binni #dhir #krishnatirath #aapsweep',\n",
              " 'potti kappih hairis fajei haibani adum khanllo nggi kokto khara sijannw ooo',\n",
              " 'who decid want test he even right stay aliv #shame #muslimvirus',\n",
              " 'jai shri ram',\n",
              " 'esaka pura khandan ganda haie vo sab halala ki aulad haie languag haie kisika bhi n nahi mileha',\n",
              " 'it high time ji plz take strict action #nizamuddinidiot #tableeghijamaat plz save appeas scheme occas and punish these #muslim #tablighijamatvirus #coronajihaad #muslimvirus',\n",
              " 'khanabiyu june thokpa matamda oikhiba saktamdu ningsingbiyuko india gi polici makingda karigumba ama phaosemba yadaba mayamsina moi moi parti dugi huidouna khonglisi ekaidara khangd kok yaodaba mee hairagadi moini khangdriy nakotu yaoradi meenasu usitpigadaba narinsu maphamchana leigadaba',\n",
              " 'bjp kangbu nasana gyan khaga taoko hayeng tungda wrong side histori da leihwradi nakhoida nate nacha nasu yam fark tani',\n",
              " 'kong tui ke bara nijer kaj kor abba bjp er dalal bjp er kach theke taka khey vote kat te asech sobai jane',\n",
              " 'isf jindabad',\n",
              " 'मोद बोल रिटायर के',\n",
              " '',\n",
              " 'मऊगंज बस स्टैंड बात आप सा मऊगंज रीव जिल किलोमीटर मऊगंज वह बात किय क्योंक मऊगंज । 🙏',\n",
              " 'airnewsalert #cricketworldcup dhoni rana banakara auta skora ovara #wcfirs #wc #indvssa #uhf',\n",
              " 'hulk baba',\n",
              " '👍👍👍👍',\n",
              " 'what abt betray beckup',\n",
              " 'anna hazar fixat kejriw burn issu import sanghi duplic gandhi avatar',\n",
              " '',\n",
              " 'ja gud maranir bata ei randi k ei platform e nia esacha tar maca chudi',\n",
              " 'eakhon mone hoy mane eai somay dariy keno vhogoban mey jati tour korlo r jodi korlo ta hole eai nisthur gotona gulo keno meyed sath ghatalo aj jabab vhogoban debe r se jodi na par r kaui parb na',\n",
              " 'abar ram ascha bangla ta dakh abar ki hoy joy shree ram',\n",
              " '। bjp । bjp । । ।',\n",
              " 'madam kons sast nash karti ho logic naam ki chidiya ko furr se uda kar movi dekhn jati ho kya #bhagbehnkipakodi search queri bhagbehnkipakodi',\n",
              " 'it #muslimvirus compound #wuhanvirus exponenti god damn follow #islam god save india cluster bombard',\n",
              " 'meanwhil muslim indor hell dumb ass bithch #indorefightscorona #muslimsspreadingcorona #muslim #coronajihad #coronavirusindia #muslimvirus',\n",
              " 'pm ne fursat bol diya hoga',\n",
              " 'मोद के हल्ल लो ई एम नह हट भाजपाईय कुकर्म खे बेतहास विस्तार रह',\n",
              " '#hum light nahi bujhaeng #nizamuddinmarkaj #muslimvirus #islamiccoronajehad खाज खुजल दाद कोर के कोढ़ बह मवाद हाँ कुदर कौम ज़ाहिल मौल साद ।। 😜😜😜',\n",
              " 'u rss cannt digest nehru great leader but nehru india great democraci nehru n indira foundat made india astrong nation world peopl believ lie stop lie',\n",
              " 'houjikti bjp gi mee bu oiradi pangfuda funingi kanahi modi amit biren aduga ngashi lak e ba hui anisidi hatlasu pelloi',\n",
              " 'पटेल अम्बेड प्रधानमंत्र कश्मीर चीन बॉर्डर समस् नह',\n",
              " 'lamho ne khata ki sadiyon ne saza payi chut ke chakkar nehru gandhi aur zinnah ne desh ko banta zisk karan lakhon log maar gay tino duniya ke sabs bade hatyar aur gaddar',\n",
              " 'mani bitchi girl forget hve open mind n chang thing n think fr opposit gender forget generat sever generat girl heavili prese cage hous equal right educ child marrriag n sever senseless prathaa n rivaaji chang fight alon make freedom n equal alon put strenght n courag fought n taught fight right n forgot wrong n mani facil mani girl lakh india nt get n equal n right n freedom get nt fr sit n piss head even today anyth happen straight blame male mani drug alcohol make big chutia parent lie constant fr thing n go place cant tell parent r fire tri n new n differ thing anyth happen blame boy wrong also blame boy mitak bt make tamashaa show tear n gain sympathi n consider n support frm peopl around n even wen wrong get away play innoc bichari card mani open take disadvantag law n everyth special given whether special allot seat buse sympathi n support frm peopl twist turn everyth advantag knw even wrong anyway tell ladki jaan de ladki abhi kya bol sakt call sympathi ki bhik pe uchal na sum r ladki hu ladki hu ke naam pe act r sum suprem be n gender r leg also notic n come knw everyth wat strategi sum bitch take desir thing big disadvantag r taken gain support fame money attent never gender fulli wrong ya time sum imbal happen mean u target male fr everyth simpl b gender mistak done b taught lesson sympathi support consider ki bhik b given',\n",
              " '',\n",
              " 'मुझ साहब सक लग है। #coronaviruspandem #maulanasaad #muslimvirus',\n",
              " 'ei wa nangn de ma ma kangleipak meitei eikhoi di thak shi khasi thak kha yengna chat adu faoba khngdb ngna',\n",
              " 'who know reason भारत कोर संक्रमण डाट जनवर मार्च पिछल दिन #coronajihad #muslimvirus #tablighijamatvirus #tabligijamaat #tablighiterrorist #covid',\n",
              " 'there mani movi wherein women abus men hit make derogatori comment exist compar greater extent talk equal mani law reserv commiss empower women take suo moto cogniz movi none critic movi like mardaani pink gangaj movi like veer di wed humili men present male charact oppressor',\n",
              " 'इस्लाम जेहाद जेहाद हलाल के औलाद हलाल के औलाद माधरचोद पिट',\n",
              " 'umendra yengkhom nungc ba allah gi khudol right',\n",
              " 'nungaina pallu nupi macha',\n",
              " '#muslim #muslimtwitt #muslimvirus #muslimsspreadingcorona this is fake news don believ say less pollut see virgin abdul garden karachi i think pass wrong rumour',\n",
              " 'puro vutni lagch',\n",
              " '',\n",
              " 'kudo brave post regular woman know well noth wors earth realli bad woman femal manipul sociopath beyond evil crore indian women need get insecur stop blame men everi mishap live educ play big role genuin fals rape case happen low educ region countri us need healthi individu boundari communic boundari even men need awar demand standard repeat get dupe evil women hormon surg land us jail ruin live',\n",
              " 'mani akhoidi laten kwgera lantern kwgera gyan taraga loir st centuri ne',\n",
              " 'lan pambro',\n",
              " 'asi ladkina kahi na kahi hmari hi kisi kamjori ka fayda uthati hai honest pure safe',\n",
              " 'privatis chiy 😂😂😂',\n",
              " 'anna hazar rss agent alway',\n",
              " 'go tulsi ramcharitmana ram made big fraud make dupe sita soorpnakha nose ear cut episod endang arab vanara sena life dupe sita and peopl call krishna favour adharma ram adharma no grandatans ram',\n",
              " 'आपक सोच नजर अच्छ',\n",
              " \"i'm gay find advertis sexual debaucheri nauseat need differ kind campaign talk someth advertis sens pleasur sexual actual show gay peopl normal ppl integr part cultur indic religion achiev tri stand crowd fashion import sjw liber feminist nonsens\",\n",
              " 'sir sy ahmad na',\n",
              " 'facebook facebook 😥',\n",
              " '👍👍👍',\n",
              " 'ja giy ea sport khele hara jodi jitt parish p #indvspak',\n",
              " 'modi kaya kam hai nahru',\n",
              " 'bjp govt kya ho raha hai desh ki janata ekjut hokar inki pitna chahiy',\n",
              " 'chitiya hai ye',\n",
              " 'kya ye modi ki chaal hai mudd se dhyan bhatkan ki ndtv',\n",
              " '',\n",
              " 'indian film critic main femal critic bash arjun kabir natur extra possess bulli etc also blame cultur set audienc think attitud lead charact clap realli disturb',\n",
              " 'f ag',\n",
              " 'aap ki bhakti abrampar hai',\n",
              " 'frgn dasu oirmmudn maung ntrbdi leitren',\n",
              " 'pangal hybadi yajaningi adubu muslim makti pamjad',\n",
              " 'liber ki gaand jali💣💣💢💥💥',\n",
              " 'bjp wali tum itna barhi kuti ho',\n",
              " 'मूर्ख महजब। मूर्ख धर्मगुर झेल मुल्क। #निज़ामुद्द मरकज़ #muslimvirus',\n",
              " 'goli mardena chayitha ais loogonko',\n",
              " 'sala jo jo banda yaha pe ganda comment dala h sabki maa h samjha chutiya h tumlog sab haat',\n",
              " 'kuchh log #kalam sir se aaj k muslim se compar krte h wah are bhosdk k wo #kalam thee jab #atalbihariji thee oki bt abb koi ek v kalam dikhao abb salo googl pe search kr koi aisa ni abb sab muslim ka kachha chittha khul gya sale aashteen k shaap hai ye #muslimvirus',\n",
              " 'बोल तारिक फतेह भारत मुस्लिम कोर स्वागत भड़क जावेद अख्तर अपम बर्दाश्त नह #javedakhtar #tariqfateh #coronavirus #muslimvirus',\n",
              " '। ।',\n",
              " '',\n",
              " 'khanki aaaaa baler ranu mondol',\n",
              " '👉 #blockbustermsg 🎬👈 jagamagati rauzani ke para kya tha dekhat dhula ka tupha़a amdher bo raha tha dekhat',\n",
              " 'this selfish mad dog marri farah khan doubl age money first introspect say anyth',\n",
              " 'bjp rip amuk hanna laktaba oirasanu india ge laibaksida',\n",
              " '।',\n",
              " 'ye sabs bada sanghi hai',\n",
              " 'da naga wer mean break break kangleipak nwe never break territori integr hav direct administr centr develop work done naga inhabitat area dat second ago',\n",
              " 'yaam fei hotnou hotnou',\n",
              " 'modi bhagoo india bacho🏃🏃🏃',\n",
              " 'surat ke baad khud ke hava ki shikar ban jiati hai isiliy yr surat avail hoti hai favour ke badal',\n",
              " 'trevor thank sign seem like got lot movi d i appreci',\n",
              " 'trevor yea i use flixzon sinc april',\n",
              " '',\n",
              " 'bro never break territori integr hav direct administr centr develop work done naga inhabitat area dat',\n",
              " 'love ❤😘 congress spoke person',\n",
              " 'modiji pls bacalo voto ke lalaca vade kara die para use pura karan mem gam phata rahih #indvspak #aapkacm',\n",
              " 'hindu jag e jagb jai shree ram',\n",
              " 'onli educ person bjp',\n",
              " 'achha katwa line e',\n",
              " '।',\n",
              " 'yes defer stick popular indian freedom movement now loos popular',\n",
              " '',\n",
              " 'kbs yes',\n",
              " 'bara gula kete tader pand vare de',\n",
              " 'khankir chele sob molla gulo kei fasi deoaa uchit chilo',\n",
              " 'tangkhul meitei tangkhul meitei hydoira',\n",
              " 'yeh saalo ke poor pariwaar ne india ko barbaad kar rakha tha god sent modiji save india it remind lord krishna dialogu ja jab sansaar burai badta hai tab tab janam leta hu 🙏🙏🙏 gandhi ka photo haakar currenc modiji ka photo hona chahiy',\n",
              " 'phone number dilam call koar 😠😠😠😡😡😡😡😡😡😡😡😡😡😡😡😡😡😡😡😡😡😡😡😡😡😡😡😡😡😡😡😡😡😡😡😡😡😡',\n",
              " 'assam da kolkata bjp sing tana tanadana phuthakhibado adumaina manipur da thoktaba oisanu',\n",
              " 'apni kiser baler jama parechen bagali jama na pakistani jama apni jatatuku parasuna karechen naki oi sikha namaj kemn pare',\n",
              " 'peopl communiti #muslimvirus',\n",
              " '',\n",
              " 'meri jindagi jitn bi bure kam nahi dekhn wo sare bjp ne dikha diy meri dadi dada ka jamana yad arha hai',\n",
              " 'i । । ।',\n",
              " '',\n",
              " 'hindu hotou bangladesh thaka',\n",
              " 'mor maagi',\n",
              " '😂😂',\n",
              " 'yare arshad mina hoiba ynu maipak ningthou kaina chtlu ada noina eikhoi pangal punamk ki repres twb ybra',\n",
              " 'look like fatwa useless govt order jihadi are peopl actual look spread virus religi agenda #muslimsspreadingcorona #tjkmkb #jihadivirus #muslimvirus',\n",
              " 'tv da vedio nmlga thagtpa oiramal',\n",
              " 'bjp savag dirti parti',\n",
              " 'कोर जंग जीत पीछ अल्लाह हू अकबर आवाज आ गई। ind #covid #coronaviruspandem #jamaat #jamati #tablighijamatvirus #tabligijamaat #tablighijamat #muslimsspreadingcorona #muslimvirus #yogi जलव #mullahcovidholocaust',\n",
              " 'eikhoidi yambung kaikud oina tourag',\n",
              " 'yengba yam warabni',\n",
              " 'aduni',\n",
              " 'degre analysi da khana hallo adudi kanana chumbra lanbra khanglakani',\n",
              " '',\n",
              " 'congress bjp khatnaba taningd bjpgi oinadi token amsung bijoy anigi manungda amatang cm oihanba fei',\n",
              " 'sobai mile musalman der bangla desh theke tara te hobe jay sri ram',\n",
              " 'ok yam chummi somna nganglido adubu mibu warakpa amadi mibu chumthokk hairabadi phajaba khonlei khonda sijinnabiu manipuri languag pu regart toudaba oina thoklambasu yai aduga potti kape hairiba miois adu pharaga ejat dabi lougadabani nupisinggi maongdusu hanna yengba darkar ti masida achum aran thinaragadi maikei mak amata chumlamloi',\n",
              " 'let break manipur govern make new one tomorrow',\n",
              " 'hahahah',\n",
              " 'iss dislik kisn kiya madarchod feminist',\n",
              " 'verygood blatkarivediobhutdekhasjanhid khi',\n",
              " '',\n",
              " 'modi ne sabko nanga kar diya ye sab libranduo ka asli chehra samn agaya hai democraci tabhi tak jab tak hamari sarkar',\n",
              " 'longjam ratankumar meitei haigadabani',\n",
              " 'interview louriba mise touningdana touba mall touba heit phone silent su thamd mina wari pukn changna liringeida vibrat makhondo disturb yam touw',\n",
              " 'video hai kahan',\n",
              " '😁😁😁😁😁😁😁 👈',\n",
              " 'ha ha ha ha ha ha | manisa sisodiya bata nahi pa rahe ko vo upa mukhyamantri kyom bane ha ha ha #aapsweep',\n",
              " 'fake video',\n",
              " 'kitn pese mile modi se tujh ye zahar felan ke tum jese log bjp deshdrohi ka kam ker rahe hi tumhara bap modi ki ayyashiyo ka vedio bhi jaroor banega tera bap modi th tak hi pada hi ye sab bjp ki sajeesh hi bus gandhi famili ko badnam kern ki sham u girl speak',\n",
              " '😠😠😠',\n",
              " 'yeh kon benchod hai kapil kaha se hai yeh kasi kya khud ko student activitist ke raha hai',\n",
              " 'ranu chudmarni suar ranu',\n",
              " 'nangi video kaharo ei khoidou ym saoninga nangi wahei taraga',\n",
              " 'ye hamarey bhai miyan coronuddin ka khutna hogaya hai kya #justask #covid #covid india #muslimvirus #nizamuddinmarkaz',\n",
              " 'that true belong christian communiti comment correct abrahm faith judaism christian islam oppos homosexu along unnatur sexual act like beastial incest adulteri etc well give rigth homosexu justic ration opinion unnatur',\n",
              " 'meitei ningol na pokpa hao singju meitei hao kwbiyo',\n",
              " 'dalal',\n",
              " 'vangla kotha volt ki kosto hoy',\n",
              " 'basic uninform idiot tweet it clear fire soldier kill backstab #chinavirus #muslimvirus hide death chines side #jaijawan',\n",
              " 'bjp muk tukktchaba ani sudreh bjp da yaoriba meetei macha singsina mareibak yonba e sengdaba ngakta oirmni congress su pell loi chtkhro manipur da amta leibirano noi loi chp mannei',\n",
              " 'last ki oja arshad ki point sida yetliba oja sm jalal gi khuyetsina khnge ammococ yaohnd hybagi yetpan hyba👏👏👏👏👏👏',\n",
              " 'pm #narendramodi se milan rcr pahumc apa neta kejarivala aura sisodiya #aapsweep #arvindkejriw',\n",
              " 'singh natur live bilkul banana chaiy liber ke gand mein danda fodo unki chhati mein anda',\n",
              " 'babar tik naii ara rendi er thakao odhom',\n",
              " 'bro bro 😂😂😂just tri replac girl ur sister anyon close ya',\n",
              " 'bjp gi mihut oina vote leppo ga hyradi leptana tokkani ei 👎👎👎👎 down bjp',\n",
              " 'wow',\n",
              " 'arr iss pagal mental hospit se bhagi hui aurat ko pakad ke jail mei daalo naa issko pakad te kyu nahi yeh ais kais bharat mei aa ke ais bakwa karti hai ek rd class writer bad dimag bud mizaj awaal darj ki sarphiri arundhati pagal aurat ek number ki haramkhor aurat',\n",
              " 'भारत संस्कृ हजार साल पुर उस जम के कपड़ पहन',\n",
              " 'nehru best🙏🙏🙏',\n",
              " 'मेल खा नह चाहिय',\n",
              " '।',\n",
              " 'रंगील नेहर के वजह भारत विकस नह सम्मानिय नाथूराम गोडस जी भड़व गांध के मार दे अच्छ होता।',\n",
              " 'i proud pangal i find problem call meitei pangal also mr jalal point worth discuss ur way put ur dissent littl dogmat disrespect unwarr mr arshad point found sometim vagu subject thorough discuss consensu culmin establish stakehold call muslim communiti manipur',\n",
              " 'upload twbse khra khajik tang nganna twbirk adi ym nungai jagani ngaiba ym wai',\n",
              " 'never invit polit parti ur manung hutnaa',\n",
              " 'maa choddi kabir singh ki',\n",
              " 'jay shree ram hindu ab atyachar nahi sahega',\n",
              " 'ym chumm 👍👍👍',\n",
              " 'a mora😂😂',\n",
              " 'aadmi jaat khud ki charitrheenta dekh',\n",
              " \"muslim friend spread #coronavirus like anyth #india won't blacken screen #muslimvirus #muslimsspreadingcorona #coronavirus\",\n",
              " 'bishorjit faonavan mayamgi damak afaba para ama oisi tungki khandavida peisa da oina choppas arem tay haivasi',\n",
              " '',\n",
              " 'tmc bhagao bangal bachao',\n",
              " 'macha nupa pokedusu kanagino khngpont nupi ahandusu nupa amda tha kya chenlurabn jan thada hnlkeneko',\n",
              " 'bhai delhi waal hi hai galti krdi thi last time anna hazar ka chehra dekh kr umme thi ab hum pde likh log galti nh kreng vote kisko deng wo elect k din pta chalega lekin aap ko na baba na d',\n",
              " 'ami bujt parchi na ota amar keu na karon amio nusrat ke sara raat diechilm akbar without condom e call girl hisab chilo amar kach',\n",
              " '।',\n",
              " 'veri good throw homosexu india bloodi roug bloodi sc deterior indian cultur bann sc first bloodi old gay judg',\n",
              " 'उदाहरण दे दे स्कीम विशेष',\n",
              " 'ais vade bjp valo ne dahot kiy pure kitan kiy',\n",
              " 'tiken jhey menai ney bjp gi',\n",
              " 'madarchod gand marbha aur apn bhap sa pouh ki kya galti kar de',\n",
              " 'ami muslim mey hoy bolchi ai janoar gulor protyek nicher part kete tader hat dhoriy deoa hok',\n",
              " 'bal amer',\n",
              " 'मोद जी श्मश कब्रिस्त बात अर दम सच्च बोलिय कहिय धर्म के लोग रोज मिल मुसलम मिल मुसलम शिक्ष मिल मुसलम के पास ना रोज न शिक्ष देश प्रधनमन्त्र श्मश कब्रिस्त बात मोद सर दल विरोध अल्पसंख्यक विरोध छात्र विरोध संविध विरोध अखिलेश गध वाल बय बिल्कुल सह भाज बय तिलमिल',\n",
              " 'aaj amla ka achaar banayeng #cwc #indvssa',\n",
              " 'jai shri ram',\n",
              " 'atei keisu natt moina yettnadana twrise pham pairadi peisa chwna chaba yai khangbagin moina marei yetnaris nungbu nungngait bjp ga congress amadi soidana porani khanbada ado mayam khara di cheak sinbi u vote thadabada cab se yam danger oirak kani hayeng houjik fw yengngo amta mayang macha mayam ama leiris moibu tanba ngamdri houjik cab amuk chatnaradi close hap kani kais c da moi vote ki pungnganda ngangin vote loiraga mathong maram khangngaroidaban mla oiriba sing c su mamitta peisa khat tane moina uris thainei typeta ningthw panlaga leirambaduna henna faba jatnida loir haiheid loir manipur houjik politician yaifar ema manipurna',\n",
              " 'airkm somaj amra bas kori kono sasti ki pabena ai papira amra ki amdr bon may der barir bair berot debona',\n",
              " 'ebemma nagun khnge ngsu oktabin hybda hymnba thok oi noi oktaba oktabigi warido taningd',\n",
              " 'khanki maagir bachha sali fasi chai',\n",
              " 'jai shree ram modi ji me mandir banaiyega uae me to bna diy ab india me jai hind jai maa bharati',\n",
              " 'us ladki ne khud ko chudwan k liy bulaya tha lekin uska feons aagaya tha usn mana kar diya lekin kabir pagal ki tarah zabardasti karn lagta hai aur femin k naam pe multipl sex partner badalna yahi hai kya tumhara femin',\n",
              " 'lal q',\n",
              " 'blind fals pride major communiti refus acknowledg exist articl c constitut last sever decad manipur land revenu land reform act coupl hill area committe divid hill valley peopl draw clear line demarc respect even yelhoume origin inhabit status divid while one offici recognis unoffici look like self style yelhoume we call spade spade articl made divis unless social dispar among origin inhabit remov constitut amend either major communiti becom st st friend general status quo remain alway meitei receiv end forev at rate geopolit realiti demand collect polit wisdom devoid quixot pipe dream',\n",
              " '',\n",
              " 'jaydul sheikh। ।😹😹😹😹😹👏👏👏',\n",
              " 'noi muslim nupi na meitei da yum panba yadra meitei nupi su lwba yade na thingu dana nttraga nungc naba hyse leiraroi keigino noina nabuk aduk ym fatrisibo',\n",
              " 'ayya kism ka tha',\n",
              " 'to aap kya kaht hai sir jo man aay vahi pahno kaun roka hai par western cultur havi ho rahi hai aur western vale hamar cultur ko samjh rahe hai',\n",
              " 'ladki bhi gand marwati hai usko apni maa kyu bolt ho aur homosexu bhi usi maa ke bacch hai',\n",
              " 'onli unbeliev',\n",
              " 'homosexu hona new world order hai jo duniya ko tabahi k ek kadam aagey le jaayega ye illuminati agenda',\n",
              " 'ladki ka chakkar bf se ladki ka baap polic mein a laga ke lac kama ke gand mein daal liy sab a khatam sala chutiya kanoon',\n",
              " 'asengba nucbana darmana hen yapot',\n",
              " 'raj u r grt',\n",
              " 'मयंक भाई हराम पैद वो वजह गलत रास् जायेगा। सुन् सऊद अरब थोड़ रह है। सुन् ईम है। वो सऊद समर्थन नह करेंगे। आतंकवाद जड़ वहाब हैं। वो मादरचोद ज़ात है। हिंदुस्त रह पाकिस्त बाप मान समर्थन हैं। सद्दाम ओसाम बगदाद जैस आइडल मान',\n",
              " '।',\n",
              " 'don tri isol want just kill we donat everyth bullet head #nizamuddinidiot #banjahiljamat #antin #coronajihad #nizamuddinmarkaj #tablighijamatvirus #muslimvirus',\n",
              " 'sabsa chutiya ya bnshd nehru jisna bharat ko barbad kar dea',\n",
              " 'bastard arundhati shop shut frustrat burbl nonsens',\n",
              " 'bull shit ur muslim spread virus actual u whole mulla r #muslimvirus',\n",
              " 'pakka khankir baccha',\n",
              " 'noi se hen manl naga sing sao ra noi pharak ta ni',\n",
              " 'khoid kijarehi manipuri da leidwba ka bing kokta oina chtlge',\n",
              " 'mishra beta gaaliya bakn se tere andar ka jahil pan hi nazar aaraha teri mard hone ki galatfahmi us din door hogi jis din koi homosexu teri gaand maarega agar doubt ho delhi aajao',\n",
              " 'jaali jaali gand jaali sucharita jaisa feminist ka gand jaali',\n",
              " 'tui khanki',\n",
              " 'jo dusr ki badnaam karti hai sali kamini madarchod ki aulad',\n",
              " 'ekai khangdbi c houjic su ekaidri',\n",
              " 'left cong isf zindabad ❤',\n",
              " 'khanki magi ranu',\n",
              " 'pagla choda',\n",
              " 'feminist ka maa ka bhosdha',\n",
              " 'bilkul sahi',\n",
              " 'bigo user',\n",
              " 'happi ram nabami',\n",
              " 'eramdam se yansinb ee ngkta ngaidor khllubda ym nungait',\n",
              " 'वुरख पेरव librandu फट jean ज्ञ चोद । hypocreci सिम । 😂😂',\n",
              " 'kon se kaamo se khush h note bandi logo ke marn pr khush h bank sara dhan wapa aa jane pr khush h kaladhan nahi la paay iss liy khush h dadri kand ki wajah se khush h kya kashmeer deng se khush h love jihad ke mudd se khush h teen talaq ke mudd se khush h etc kiss khush h',\n",
              " 'mym nara da kaiku vote pirac congress pan khari bjp khari',\n",
              " 'dp',\n",
              " 'इलाज दोस्त ind #tjkmb #tabligijamaat #corona jihad #coronavirusindia #muslimsspreadingcorona #muslimvirus',\n",
              " 'khan jai hind #muslimvirus',\n",
              " 'som manipur haibasi karamba leipak kari chatnari mayamna kari khanari haibasi mapal lamda asum leibana khngbidraba male eikhoi meeoiba haibasi khunai asigi manungda leiribani aduna khunai asibu khajiktang respect twba mathou tai utlou gi thoudok adu mafam aduda nataba hotel gumba secur oiba mafamda twramlagadi keisu thoidokpa thoklamloi mayam amsu twnari handakkidunasu ahanba natr haiba tare haijaningbadi thakpa chaba langba chongba loina yai ei gi rightni amasung freedomni adubu right amasung freedom exercis twbada societi gisu khara respons lwbigadabwbani maram eikhoi asi punana societi asida hingminabanin societi mawa lwde eina power pair khnge heir haiduna twningba twradi conflict thorakpa mahw sani',\n",
              " 'chowkidar chor hain#',\n",
              " 'tmc hariea bjp k ant chan apni bjp sorkar jodi ash khomotai ek bar kochbihar dekhun bjp thake tmc better',\n",
              " 'nhi bhai aap log kuchh kart kaha ho bas larki ka puja karn ke liy dost banat ho chutiya sale sab jhut hai larki ko fasha kar galt kaam kar ke chhorna aata hai motherchod',\n",
              " 'lndia chant turn sachin chant #indvssa',\n",
              " 'nehru ki ma ki chut',\n",
              " 'koi galat nhe bola rawat ji ne phle pura suno hamara uttrakhan un ko saport krta h',\n",
              " 'he woman he destroy insid angri when girl fianc sex anoth boy feminist problem',\n",
              " 'liriva warij munna tarava matungda wa ngango nupi chopmlli skthudo',\n",
              " 'kri marlgino mibu asuk ymna tmthina furis noic kabisingna lyrikta ebadad minungc ym lei hybani ado eina hngjaningid noigi minungcdo kyda chtkhrage',\n",
              " 'tumhari maa se bhi sex relat lagta hai',\n",
              " 'krishna tor mayer vatar sala murkho joto puran gita vagobat sab vul tor limitro thik vgoban samnd ki jani sala gadhar bacha tor mukh jutar bari mone hoy janmer dos ach khankir chle tyu akta gita likh dekhi tor babar ki sokti chup bador bacha mukh juta marlejala jabe na',\n",
              " \"' '\",\n",
              " 'mujh aaj tak samajh na aaya ki ravish ko journalist kisn banaya #aapsweep',\n",
              " 'proud meitei👍',\n",
              " 'great man believ famili cultur human',\n",
              " 'baje mey lachar mey ei allpo meyer khub ros r ja hoyech thik hoych',\n",
              " '',\n",
              " 'yes anna save aap becom fake like thank anna',\n",
              " 'tui ke',\n",
              " 'wah khiladi wah',\n",
              " 'nsk tuga ngdi migi mpal tangn mikha ponn hingb pame ngdi mi lmgi mchro',\n",
              " 'raj na neir',\n",
              " 'ghapa ghap😃😃😃😃😃',\n",
              " 'abba bjp krega bengap barbad',\n",
              " 'soondori hindu mey dekhl musahalman der bara dariy jai tai tara dhorshon korbei',\n",
              " '।',\n",
              " 'happybirth day',\n",
              " '',\n",
              " 'bhaijan jindabad ❤ ❤ ❤ ❤ ❤ ❤ ❤ ❤',\n",
              " 'shame indian govern ab bas kro airfir se hi solut hai',\n",
              " 'bro raj themjinbada waramlani',\n",
              " 'lojja grina hin sonagachir kader khan er mal',\n",
              " 'bjp na eikhoibu ym wahall maduna vote ti pijararoi sw yade',\n",
              " '।😹😹😹😹😹😹👏👏👏',\n",
              " 'isf ।',\n",
              " 'exact kangana atlast someon gut speak truth',\n",
              " 'pure desh ki janta ki taraf se dilli ki janta ke mandat ko bada wala sallam hai #delhidecid',\n",
              " 'guy haha ym nokning',\n",
              " '#muslimvirus वायरस कह ज़्याद ख़तर बात नह डंड गोल भाष समझ दिल्ल पुलिस लाख समझ #coronajihaad रोक नह पाए गोल नह आंस गैस भग दे #nizamuddinmarkaj #tablighijamaat के जिहाद',\n",
              " '#chinesecoronavirus punish allah #muslimsspreadingcorona #muslimvirus #wuhanhealthorganis #coronavillain #coronajihaad #coronainpakistan #coronavirusupd',\n",
              " 'bjp balatkar janata parti',\n",
              " 'purana din lotadijiy modi ji hitler san se haodi haoban ado nangna thongbadi tukatchei namthiramni',\n",
              " 'tui r mukh baja na bejonmar maa r hijra hlo bap',\n",
              " 'pagl cudu bara',\n",
              " 'bjp gi vote bank polici ni hindu minor bu nungsibagi natt',\n",
              " 'pick day ka kya hua',\n",
              " 'eina haibig sakthu haiba fijet figai setpacbu chaokhatpan hairadi taina fi setriba matamdudi yam chaokhatlen africa leibakt leiba una setpa penti setpdo moina henlen chaokhatpa sakthu chaokhatpa haij esagi fijet esagi cultur ngakna chatpadun chaokhatpa haij meiteina penti setpadi chatnd ahan lamhan myam mangd kiss taubadi meiteigi natta wari lairikta yaod meiteigi oiba chatnabi fajana khanglaga mapal lamda leiyu yadro mina meiteigi oiba hanglakpda fajaramlani ngna khumlmduido ebungngo',\n",
              " 'well done congress yeddi still use reddi money win idiot never learn',\n",
              " 'er porer bar ostror babohar hobe😈😈😈',\n",
              " 'dinath are bhai tum apna bataoo karab tume katal kyo kiya terrorist ka janam wahi se hua thaa yazid kureshi ek ugli face ka madarsa chap jihadi mindset gyan baat raha hai cholo koi nahi internet par padh lena ravan ke bare direct action day kya thaa #muslimvirus',\n",
              " 'matangsida ex cm l w nipamacha singh gi thounado nungsikhreda',\n",
              " 'badmash',\n",
              " 'कुमार विश् वीडिय पोस्ट वो कश्मीर से के बदसलूक उसस काफ आहत नजर आ सर गंभीर सवाल खड़ रह घडयाल आँस बह ड्राम सिर्फ मोद जी बदनाम साजिश । क्योंक कुमार पार्ट के सदस्य प्रशांत भूषण कश्मीर रेफरेंडम कर बात गिरगिट उस सवाल नह उठाय गिरगिट पार्ट मुख देश विरोध नार लग वाल के खड़ इस सवाल नह उठाय तथाकथ क्रांतिकार अरविंद केजरीवाल पंजाब सत् पा के खलिस्तान के समर्थन खड़ इस सवाल नह उठाय केजरीवाल से सर्जिकल स्ट्राइक के सबूत मांग इस वीडिय बन क्य सवाल खड़ नह किय दरअसल इसक देशभक् राज प्रेर दुन जान आंतक देशद्रोह के पीछ इस्लामिक माइंड सेट इस मिनट के वीडिय बार इस्लामिक माइंड सेट बात नह हम दुख बिगत दिन कश्मीर हम भरोस नेतृ से मोद जी मुझ उम्मीद सर्जिकल स्ट्राइक करक उस वक्त विरोध जवाब हमार से सर इसक करार जबाब जाएग हम विरोध पूर छूट हम बात ख्याल रख होग विरोध हमार सर अस्थिर न दे उसक रण बाध न बन जाय जय हिंद वन्द मातरम ।',\n",
              " 'islam na hai oak chao hyna',\n",
              " 'yoo thkaga mthong mram khngdraga parti touraga oidaba myam sing touraga wakhl wangbn di ngonda knana hai beishnop my gumba mee sinan chaokhtpa thengthahllis',\n",
              " 'or dada 😁😝',\n",
              " 'साल सै राजनाथ अकल हर सैनिक मर नींद फिरभ नत आंतकवाद समजतै नत नकसलवीद समजतै न पथरबाज',\n",
              " 'eikhoi meitei pangal ni eri lythokna pangal hyna kwnabda histori lyriksingda pangal khakta hyba oirmni aduna c oi tarsu eikhoid meitei pangal ni',\n",
              " 'bjp masana masagi vote ki result lwthokchar down bjp',\n",
              " 'look arund roy close look like indra gandhi mayb nehru play away anoth bitch gave birth tri destroy india',\n",
              " 'hamar senik kab tak shahe hong kab tak hum media bazi se hero baneg media ki bato jesa zoordaar hamla sach mei kareng pakistan ko okaat mei rakhna bhi bas ki baat nhi desh ki janta ko kb tak media se bewakuuf banwat rahog',\n",
              " 'कानून कारण देश के लोग देश के हथियार उठ ।कुछ अंतर्मन झांक होग कानून',\n",
              " 'om prakash hindu yes absolut point said lot media agenc indian express cover news were bribe or anti hindu or noth genuin issu you tell',\n",
              " 'pangal oigira ama oigera eikhoi manipur ema amatagi macha ni',\n",
              " 'onli vote walla p m of india woh bi ist p m',\n",
              " 'namaskar jay radh shyam',\n",
              " 'sali magi',\n",
              " 'kaiku',\n",
              " 'dutta okk chub koren abar',\n",
              " 'whi everi corner polic health person attack muslim major in indor in rampur in munger in delhi whi #islamiccoronajehad #coronavirusindia #muslimvirus',\n",
              " 'ji मुझ एस क्य लग देश सब ज़्याद बाउन्सर जेस लोग पड़ #अरेस्ट एजाज खान #muslimvirus',\n",
              " 'i believ say wrong i bjp voter',\n",
              " 'what fuck who joker guy quit expect befit repli joker pleas #muslimsspreadingcorona #muslimvirus',\n",
              " 'he form kolkata',\n",
              " 'चैनल साल लाइफ पहल बार भारत से कॊ हमार से कह पुकार उस पब्लिक इसक जम खिल्ल उड़ इसक बरख दत्त हमेश कश्मीर पत्थरबाज कुशलक्षेम पूछ हॉस्पिटल जा अर सैनिक घायल',\n",
              " 'nrc final list ta dekh a monay bangali berodi a khanay banargi mukergi mollagi baad porlo kinto sala kono verma gi sharma gi naam baad porlona a vabay salay bangali der sanka komanor jonno bangala dovag kora hoy chelow chai lay neharu rajeshtan r panjab k pakistan pora diya detay parto hindi basi manus pri boka choda a der diya desh er sarkar gora khub e soja jamon up bihari manus sala der bochor por buddi a say matai j khanay jai sodo jamayla koray hindu hok chai muslim sob kota gandu buddi',\n",
              " 'jab muslim ka moharram hota hai toh woh log arm nikaal k show kart hai aur agr aaj ram ji ka astra nikaal liy toh problem ho gaya media ka sala chamcha',\n",
              " 'kivb ara media samn ash daray jnina ato eng jne r actrss bole ki sob pap dhuy jai nki amon kaj krlo iii stti somaj sthe myedr bodnam hoi adr kaj kirti jnne',\n",
              " 'bharata vs da aphrika bharata ovara rana reta akhiri ovavara mem #indvssa #cwc #worldcup',\n",
              " 'modi ko gafagaf dekao',\n",
              " 'arshrad ngd mere observ tooraga question oei paokhum oei peeba toiganu reserv di pangal hairabasu fanggani ngdd histori gi leirik kayam paragi point ta chtpi u question toibinu',\n",
              " 'वायरस आपस बात थे। नाम #कोर #मौलाना। #मौल कोर #nizamuddin #nizamuddinmarkaz #कोर जिहाद #indiafightscorona #तबलीग शैत केजर है #करोनानमाज #coronajihad #tablighijamat #tablighivirus #coronavirus #muslimvirus #covid #covid',\n",
              " 'चरित्र उनक भक्त अंडभक्त बलात्कार राम राम रहीम आशाराम घर घर पूज',\n",
              " 'रेल बेच दूंग भेल बेच दूंग एयर इंड बेच दूंग lic बेंच दूंग बैंक बेच दूंग किस बेंच दूंग विरोध कर उस अतंकवाद बोल के जेल भेज दूंग जुमल बाज मोद सर',\n",
              " 'wari saba yaba bjp amatang hapadi fagadouni',\n",
              " 'heinakhidreh ei ngasifao mi amtada neget oiba comment pidri adubu ym pkte yum pndrasu tokk myangda leidw saruk',\n",
              " '',\n",
              " 'u hindu bengali peopl kill upper assam terrorist',\n",
              " '',\n",
              " '',\n",
              " 'nganghaoro thambal kangbu matam loidreingeida heh',\n",
              " 'asharam modi ye pitaji ka naam asharam',\n",
              " 'vai nrc otota lafalafi korona eta hocc sarkar ekta chal matro era sudhu sadharon manus k hoyrani kora r hindu muslim der sompork fatol dhoranor ekta process matro dhruv rothe video gulo dekho',\n",
              " 'madrid',\n",
              " 'main sehmat ye har field may',\n",
              " 'subhamoy bhattacharje । । ।',\n",
              " 'cab si eikhoi miyam gyat tade kyna mini snthi hnna muina tadabei manipurs mut thttoredi hyningd bjp',\n",
              " 'govern must call arm forc #muslimvirus muslim mission #gazwaehind',\n",
              " 'anek hol diy goya lal hoyec tai bolb kivab je konta subscrib hoy giyec',\n",
              " 'aniket das ram ji ki kripa',\n",
              " '#railbudget rela mamtri mem una maggo ko aज़ada karan ke kucha ghosanajo kai varso se traina ke zaucalaya mem lohe ki cena se bamdh hai|',\n",
              " 'kang yet ani pullaga oina laklabra bjp se moi ani na semkhiba douna',\n",
              " 'mad fring ther everi communiti but communiti made mad fring it muslim not terrorist but terrorist muslim #islamiccoronajehad #islamicrepublicvirus #muslimsspreadingcorona #muslimvirus #coronajihad #donttouchmuslim',\n",
              " 'रावण हिन्द चार वेद ज्ञ ब्राह्मण उस अधर्म कह जल गलत गलत धर्म देख नह #muslimvirus #nizamuddinmarkaz #markaj nizammudin',\n",
              " 'mujh apk boln ka andaaz psnd aya',\n",
              " 'right',\n",
              " 'देश हर जगह पुलिस डॉक्टर पत्थर मर है। लोग नमाज़ के इकट्ठ रह मौलव सब घर रह नह मान भाई मुस्लिम समुदाय गल ना दे देश जल जल जाहिल #कोर जिहाद #muslimvirus #bantabligijamat',\n",
              " 'hama indian haim itihasa banat bhi hama haim aura hama hi itihasa badala ke bhi rakha dete haim #indvssa #bleedblu',\n",
              " 'rt modiji adani aura ambani ke semta klaॉsa santa claus haim #annareturn #rahulonleav #msgrevolut delhi mumbai',\n",
              " 'oinam foreign haiba leit mayang haiba leit pikkhraba eikhoigi cultur tradit se eikhoi na ngaktana kana lakaga ngakpidoino haibni nggi wangngduna ngse mitw tmbada khra pmjabi ym chaokhtpa sabini hainingi sao yadeko',\n",
              " '।',\n",
              " 'bishwajit angang ahum leiraba nupabu keidaobagi nupisings matungillino khangd',\n",
              " 'adune😁😁',\n",
              " \"। ' '। ।\",\n",
              " '।😂 । । class ।',\n",
              " '।',\n",
              " '। । ।',\n",
              " '',\n",
              " 'onthebookshelf sexual relationship member sex howev expos gay lesbian bisexu extrem risk sexual transmit diseas stds physic injuri mental disord even shorten life span u drill issu mention',\n",
              " '।।',\n",
              " 'tere jais randiyon ko kabir singh movi buri lagti hai aur teri jaisi randiyon ko veer di wed achchi lagti hai',\n",
              " 'arshad haibra thojo keisu khngdba mina hairucho hairga wa khr chinfa purga haiba lakpa misi sigi plteform sida leirmbsidi laibk thibni dosnt knw say',\n",
              " 'yam wai nggi',\n",
              " '#coronavirus #coronavirusinpakistan # # #muslimvirus #muslim sadaesach news latest pakistan news world news busi sport news',\n",
              " '। । ।',\n",
              " 'oja tiken mathong maram khangdaba wa ngang ganu da kari subject ki oja somsibo kayam khangbeino miyam si lanna lamjingi kaidi khangdana pangang ngangnu substanc yaoden wa ngangido',\n",
              " 'yamna luribasi meitei pangal gi nupi louba yadabasini meiteina sidani yam chakis khoi noina natro',\n",
              " 'look whoss talkin😀 fail director whos daili expens r dealt wife jus b back limelight hez givin controversi statement arey jaaa bhai koi nayi movi nahi degaa joker banaak hi toon apn aap ko joker saabit kar liyaa😂😂',\n",
              " '। । । ।',\n",
              " 'crome gi notif se touba yabni video loug hairabdi crome gi notif hanna toubiyu',\n",
              " 'polic sabhi jagah wais hi hai',\n",
              " 'abe jhandu hum modi bhagat hain koi pakistan nahi jo khate yaha ki hain aur gate pakistan ki',\n",
              " 'tmc r chamcha chennel abp',\n",
              " 'bjp ke sare dareendon ka sarwnash ho',\n",
              " 'kya chutiya ladkiya h jasi ladkiyo ko dekh dekh k nafrat hone lagi h ladkiyo se 😈😈',\n",
              " 'arif ha khela hobe gujju bhai der hat theke bangali k bachat hobe',\n",
              " 'ye saala ghadhi aur nehru dono ek number ke randibaaz bhagat singh jindabaad',\n",
              " 'beef puri india ban ho jay badiya ha lekin kuch dogl ais kabhi kareng nahi',\n",
              " 'eihakna discuss asi yenglaga targa hainingba mot adudi bjp gi parti asina cab ki maiyokta leibiu aduga manipur leibak asibu kannaba hotnbda mateng pangbiu bjp gi manifesto point da yaoriba cab asi tasengna chatnahangni haibsina ei esasu bjp partyda vote pijroig khnli',\n",
              " 'गल आसम किताब तभ गध quarantin quran time समझ हद #copi #nizamuddinidiotsletthemdi #muslim #muslimvirus',\n",
              " 'yam chumba wafam ni',\n",
              " 'sk dahiya wwwxxxxcoom',\n",
              " '',\n",
              " 'he bhagwan ye kiya kahi modi ke sath soniya nahi mili',\n",
              " 'these mullah break lockdown rule spread #muslimvirus corona still play victim we suffer terrorist may rd last lockdown day though govern extend wont follow fcukoff',\n",
              " 'देश मूसलमान के बढ़ नफरत के कह नह बढ़ ब्लक उनक करतूत बढ़ हाँ ना #corona bom #tablighijamatvirus #tableeghijamaat #delhicoronascareexplod #muslimvirus',\n",
              " 'ordo somapto golpo bole r onner mulyoban somoy nosto kora ki nomosudro jatir jonmo etiha',\n",
              " 'madam apko book chap deni chaiy vese b bjp jhooth boln mahir jb ap kisi ko technic hara na pao use badnam kr ye bjp ka hi attitud',\n",
              " 'bjp gi se gyan khara taba thark k haid sono ngakta moina leikha tahll haldakti bjp leingak halbikhro',\n",
              " 'but red agent r danger india whole world better get rid like soviet',\n",
              " 'मदरचोड अय्यास सुवर',\n",
              " 'save countri mulla muslim #muslimvirus #muslim matlab aatankvadi',\n",
              " 'r k echnthoi manipur sida khngdb amt leirmoi haina khnjei ym lemmna leiyu pkngang ngang gnu fte',\n",
              " 'punadiya # baje minut #muslimvirus राम राम जी🙏🌹🙏',\n",
              " 'madam jo photo aap dikha rahe ho kalap kitab padh lijiy vah nehru ji ki bhanji unki bahan ki ladki uski photo googl search',\n",
              " '🙏',\n",
              " 'oja tiken koibirano first question cab chatnaradi phangadaba kanaba merit haiyu haibana aduga khumbiriba paokhimcdi ash paokhum pibiyu tasengna khanhdabei hangjabana',\n",
              " 'when come china world call #chineseviruscorona carrier death muslim call #muslimvirus these terrorist without gun put war fought cr cr indian back week',\n",
              " '।',\n",
              " 'nehrun rang rangila expert tha',\n",
              " ...]"
            ]
          },
          "metadata": {},
          "execution_count": 16
        }
      ]
    },
    {
      "cell_type": "code",
      "metadata": {
        "id": "YItS5YFoMK6g"
      },
      "source": [
        "y_agg = data.Labels.apply(lambda x: convert_agg(x))\n",
        "# y_test_agg = test_data.Labels.apply(lambda x: convert_agg(x))\n",
        "#NAG - 0; CAG - 1; OAG - 2"
      ],
      "execution_count": null,
      "outputs": []
    },
    {
      "cell_type": "code",
      "metadata": {
        "id": "DlCt_pNENBJ4"
      },
      "source": [
        "y_gen = data.Labels.apply(lambda x: convert_gen(x))\n",
        "# y_test_gen = test_data.Labels.apply(lambda x: convert_gen(x))\n",
        "#NGEN - 0; GEN - 1"
      ],
      "execution_count": null,
      "outputs": []
    },
    {
      "cell_type": "code",
      "metadata": {
        "id": "p43KWV1tNBTf"
      },
      "source": [
        "y_com = data.Labels.apply(lambda x: convert_com(x))\n",
        "# y_test_com = test_data.Labels.apply(lambda x: convert_com(x))\n",
        "#NCOM - 0; COM - 1"
      ],
      "execution_count": null,
      "outputs": []
    },
    {
      "cell_type": "markdown",
      "metadata": {
        "id": "_8c_Fb1uR27S"
      },
      "source": [
        "## Bidirectional LSTM Model"
      ]
    },
    {
      "cell_type": "code",
      "metadata": {
        "id": "6wUI4dayiiKa"
      },
      "source": [
        "top_words = 10000\n",
        "tokenizer = Tokenizer(num_words=top_words)\n",
        "tokenizer.fit_on_texts(cleaned_text)\n",
        "word_index = tokenizer.word_index\n",
        "list_tokenized_train = tokenizer.texts_to_sequences(cleaned_text)\n",
        "\n",
        "max_review_length = 130\n",
        "embedding_vecor_length = 32\n",
        "reverse_word_index = dict([(value, key) for (key, value) in word_index.items()])"
      ],
      "execution_count": null,
      "outputs": []
    },
    {
      "cell_type": "markdown",
      "metadata": {
        "id": "6h8zenfvTUXK"
      },
      "source": [
        "###Gender Bias"
      ]
    },
    {
      "cell_type": "code",
      "metadata": {
        "id": "6Rpdv7BIR7z_"
      },
      "source": [
        "X_train = pad_sequences(list_tokenized_train, maxlen=max_review_length)\n",
        "y_train = y_gen"
      ],
      "execution_count": null,
      "outputs": []
    },
    {
      "cell_type": "code",
      "metadata": {
        "id": "ZhM2h1PBizFi"
      },
      "source": [
        "model = tf.keras.Sequential([\n",
        "    tf.keras.layers.Embedding(top_words+1, embedding_vecor_length, input_length=max_review_length),\n",
        "    tf.keras.layers.Bidirectional(tf.keras.layers.LSTM(64, return_sequences=True)),\n",
        "    tf.keras.layers.Bidirectional(tf.keras.layers.LSTM(32)),\n",
        "    tf.keras.layers.Dense(64, activation='relu'),\n",
        "    tf.keras.layers.Dense(1, activation='sigmoid')\n",
        "])\n",
        "\n",
        "# model = tf.keras.models.Sequential()\n",
        "# model.add(tf.keras.layers.Embedding(top_words+1, embedding_vecor_length, input_length=max_review_length))\n",
        "# model.add(tf.keras.layers.Bidirectional(tf.keras.layers.LSTM(64, return_sequences=True))\n",
        "# model.add( tf.keras.layers.Bidirectional(tf.keras.layers.LSTM(32)))\n",
        "# model.add( tf.keras.layers.Dense(64, activation='relu'))\n",
        "# model.add( tf.keras.layers.Dense(1, activation='sigmoid'))\n",
        "model.compile(loss = 'binary_crossentropy', optimizer='adam', metrics = ['accuracy'])"
      ],
      "execution_count": null,
      "outputs": []
    },
    {
      "cell_type": "code",
      "metadata": {
        "colab": {
          "base_uri": "https://localhost:8080/"
        },
        "id": "ot61frLgj_tK",
        "outputId": "047bb673-9667-480e-c978-33ea1513e031"
      },
      "source": [
        "model.compile(loss='binary_crossentropy',optimizer='adam',metrics=['accuracy'])\n",
        "model.summary()"
      ],
      "execution_count": null,
      "outputs": [
        {
          "output_type": "stream",
          "name": "stdout",
          "text": [
            "Model: \"sequential\"\n",
            "_________________________________________________________________\n",
            " Layer (type)                Output Shape              Param #   \n",
            "=================================================================\n",
            " embedding (Embedding)       (None, 130, 32)           320032    \n",
            "                                                                 \n",
            " bidirectional (Bidirectiona  (None, 130, 128)         49664     \n",
            " l)                                                              \n",
            "                                                                 \n",
            " bidirectional_1 (Bidirectio  (None, 64)               41216     \n",
            " nal)                                                            \n",
            "                                                                 \n",
            " dense (Dense)               (None, 64)                4160      \n",
            "                                                                 \n",
            " dense_1 (Dense)             (None, 1)                 65        \n",
            "                                                                 \n",
            "=================================================================\n",
            "Total params: 415,137\n",
            "Trainable params: 415,137\n",
            "Non-trainable params: 0\n",
            "_________________________________________________________________\n"
          ]
        }
      ]
    },
    {
      "cell_type": "code",
      "metadata": {
        "colab": {
          "base_uri": "https://localhost:8080/"
        },
        "id": "C0ePz5znkRVr",
        "outputId": "a0e67101-483e-42c0-fe41-3a67c85184e1"
      },
      "source": [
        "history = model.fit(X_train,y_train, epochs=20, batch_size=64)"
      ],
      "execution_count": null,
      "outputs": [
        {
          "output_type": "stream",
          "name": "stdout",
          "text": [
            "Epoch 1/20\n",
            "\r  1/191 [..............................] - ETA: 24s - loss: 0.1644 - accuracy: 0.9375"
          ]
        },
        {
          "output_type": "stream",
          "name": "stderr",
          "text": [
            "Even though the `tf.config.experimental_run_functions_eagerly` option is set, this option does not apply to tf.data functions. To force eager execution of tf.data functions, please use `tf.data.experimental.enable_debug_mode()`.\n"
          ]
        },
        {
          "output_type": "stream",
          "name": "stdout",
          "text": [
            "191/191 [==============================] - 25s 131ms/step - loss: 0.1981 - accuracy: 0.9188\n",
            "Epoch 2/20\n",
            "191/191 [==============================] - 25s 131ms/step - loss: 0.1467 - accuracy: 0.9363\n",
            "Epoch 3/20\n",
            "191/191 [==============================] - 25s 131ms/step - loss: 0.1183 - accuracy: 0.9475\n",
            "Epoch 4/20\n",
            "191/191 [==============================] - 25s 131ms/step - loss: 0.1067 - accuracy: 0.9507\n",
            "Epoch 5/20\n",
            "191/191 [==============================] - 25s 130ms/step - loss: 0.1013 - accuracy: 0.9533\n",
            "Epoch 6/20\n",
            "191/191 [==============================] - 25s 130ms/step - loss: 0.1005 - accuracy: 0.9532\n",
            "Epoch 7/20\n",
            "191/191 [==============================] - 25s 131ms/step - loss: 0.1016 - accuracy: 0.9514\n",
            "Epoch 8/20\n",
            "191/191 [==============================] - 25s 130ms/step - loss: 0.0951 - accuracy: 0.9535\n",
            "Epoch 9/20\n",
            "191/191 [==============================] - 25s 131ms/step - loss: 0.0938 - accuracy: 0.9548\n",
            "Epoch 10/20\n",
            "191/191 [==============================] - 25s 131ms/step - loss: 0.0923 - accuracy: 0.9554\n",
            "Epoch 11/20\n",
            "191/191 [==============================] - 25s 131ms/step - loss: 0.0960 - accuracy: 0.9533\n",
            "Epoch 12/20\n",
            "191/191 [==============================] - 25s 131ms/step - loss: 0.1013 - accuracy: 0.9520\n",
            "Epoch 13/20\n",
            "191/191 [==============================] - 25s 131ms/step - loss: 0.0910 - accuracy: 0.9554\n",
            "Epoch 14/20\n",
            "191/191 [==============================] - 25s 132ms/step - loss: 0.0881 - accuracy: 0.9563\n",
            "Epoch 15/20\n",
            "191/191 [==============================] - 25s 131ms/step - loss: 0.0844 - accuracy: 0.9567\n",
            "Epoch 16/20\n",
            "191/191 [==============================] - 25s 131ms/step - loss: 0.0839 - accuracy: 0.9569\n",
            "Epoch 17/20\n",
            "191/191 [==============================] - 25s 131ms/step - loss: 0.0830 - accuracy: 0.9573\n",
            "Epoch 18/20\n",
            "191/191 [==============================] - 25s 131ms/step - loss: 0.0830 - accuracy: 0.9576\n",
            "Epoch 19/20\n",
            "191/191 [==============================] - 25s 132ms/step - loss: 0.0920 - accuracy: 0.9539\n",
            "Epoch 20/20\n",
            "191/191 [==============================] - 25s 132ms/step - loss: 0.0872 - accuracy: 0.9559\n"
          ]
        }
      ]
    },
    {
      "cell_type": "code",
      "metadata": {
        "colab": {
          "base_uri": "https://localhost:8080/"
        },
        "id": "IbL_G_fdreJV",
        "outputId": "48eb6fa4-a73d-45a3-f887-1bb3f0c33027"
      },
      "source": [
        "list_tokenized_test = tokenizer.texts_to_sequences(test_cleaned_text)\n",
        "X_test = pad_sequences(list_tokenized_test, maxlen=max_review_length)\n",
        "prediction = model.predict(X_test)\n",
        "y_pred_gen = (prediction > 0.5)\n",
        "\n",
        "e = model.layers[0]\n",
        "weights = e.get_weights()[0]"
      ],
      "execution_count": null,
      "outputs": [
        {
          "output_type": "stream",
          "name": "stderr",
          "text": [
            "Even though the `tf.config.experimental_run_functions_eagerly` option is set, this option does not apply to tf.data functions. To force eager execution of tf.data functions, please use `tf.data.experimental.enable_debug_mode()`.\n"
          ]
        }
      ]
    },
    {
      "cell_type": "code",
      "metadata": {
        "id": "8OxEif5r3KBr"
      },
      "source": [
        "out_v = io.open('vecs_gender.tsv', 'w', encoding='utf-8')\n",
        "out_m = io.open('meta_gender.tsv', 'w', encoding='utf-8')\n",
        "for word_num in range(1, top_words):\n",
        "  word = reverse_word_index[word_num]\n",
        "  embeddings = weights[word_num]\n",
        "  out_m.write(word + \"\\n\")\n",
        "  out_v.write('\\t'.join([str(x) for x in embeddings]) + \"\\n\")\n",
        "out_v.close()\n",
        "out_m.close()"
      ],
      "execution_count": null,
      "outputs": []
    },
    {
      "cell_type": "code",
      "metadata": {
        "colab": {
          "base_uri": "https://localhost:8080/"
        },
        "id": "YjcGIX8HQ2HV",
        "outputId": "ae450185-a52d-42d3-e0b4-39a76d60ec42"
      },
      "source": [
        "print(len(X_train[0]))\n",
        "print(X_train[0])"
      ],
      "execution_count": null,
      "outputs": [
        {
          "output_type": "stream",
          "name": "stdout",
          "text": [
            "130\n",
            "[   0    0    0    0    0    0    0    0    0    0    0    0    0    0\n",
            "    0    0    0    0    0    0    0    0    0    0    0    0    0    0\n",
            "    0    0    0    0    0    0    0    0    0    0    0    0    0    0\n",
            "    0    0    0    0    0    0    0    0    0    0    0    0    0    0\n",
            "    0    0    0    0    0    0    0    0    0    0    0    0    0    0\n",
            "    0    0    0    0    0    0    0    0    0    0    0    0    0    0\n",
            "    0    0    0    0    0    0    0    0    0    0    0    0    0    0\n",
            "    0    0    0    0    0    0    0    0    0    0    0    0    0    0\n",
            "    0    0    0    0    0    0    0    0    0    0    0    0    0  527\n",
            "   12 1271 1854 2360]\n"
          ]
        }
      ]
    },
    {
      "cell_type": "code",
      "metadata": {
        "colab": {
          "base_uri": "https://localhost:8080/"
        },
        "id": "nM-wc1nZkrn6",
        "outputId": "5f75b0c2-b9e0-4497-8fc5-f294ef8e03c2"
      },
      "source": [
        "print(len(X_test[0]))\n",
        "print(X_test[0])"
      ],
      "execution_count": null,
      "outputs": [
        {
          "output_type": "stream",
          "name": "stdout",
          "text": [
            "130\n",
            "[   0    0    0    0    0    0    0    0    0    0    0    0    0    0\n",
            "    0    0    0    0    0    0    0    0    0    0    0    0    0    0\n",
            "    0    0    0    0    0    0    0    0    0    0    0    0    0    0\n",
            "    0    0    0    0    0    0    0    0    0    0    0    0    0    0\n",
            "    0    0    0    0    0    0    0    0    0    0    0    0    0    0\n",
            "    0    0    0    0    0    0    0    0    0    0    0    0    0    0\n",
            "    0    0    0    0    0    0    0    0    0    0    0    0    0    0\n",
            "    0    0    0    0    0    0    0    0    0    0    0    0    0    0\n",
            "    0    7 3945 3518 1369   13   58 6851   25    1 2623 2742   20   16\n",
            " 8085  231    7    1]\n"
          ]
        }
      ]
    },
    {
      "cell_type": "code",
      "metadata": {
        "colab": {
          "base_uri": "https://localhost:8080/",
          "height": 557
        },
        "id": "_aJV8lSgK8Bm",
        "outputId": "c336f626-d09d-4b20-cd87-7e5d81ab5bd5"
      },
      "source": [
        "# attrib_data = X_train[:200]\n",
        "# explainer = shap.DeepExplainer(model, attrib_data)\n",
        "# num_explanations = 20\n",
        "# shap_vals = explainer.shap_values(X_test[:num_explanations])\n",
        "# words = processor._tokenizer.word_index\n",
        "# word_lookup = list()\n",
        "# for i in words.keys():\n",
        "#   word_lookup.append(i)\n",
        "# word_lookup = [''] + word_lookup\n",
        "# shap.summary_plot(shap_vals, feature_names=word_lookup, class_names=tag_encoder.classes_)"
      ],
      "execution_count": null,
      "outputs": [
        {
          "output_type": "stream",
          "name": "stderr",
          "text": [
            "Your TensorFlow version is newer than 2.4.0 and so graph support has been removed in eager mode and some static graphs may not be supported. See PR #1483 for discussion.\n",
            "`tf.keras.backend.set_learning_phase` is deprecated and will be removed after 2020-10-11. To update it, simply pass a True/False value to the `training` argument of the `__call__` method of your layer or model.\n"
          ]
        },
        {
          "output_type": "error",
          "ename": "AttributeError",
          "evalue": "ignored",
          "traceback": [
            "\u001b[0;31m---------------------------------------------------------------------------\u001b[0m",
            "\u001b[0;31mAttributeError\u001b[0m                            Traceback (most recent call last)",
            "\u001b[0;32m<ipython-input-33-e4fa4ab9f818>\u001b[0m in \u001b[0;36m<module>\u001b[0;34m()\u001b[0m\n\u001b[1;32m      2\u001b[0m \u001b[0mexplainer\u001b[0m \u001b[0;34m=\u001b[0m \u001b[0mshap\u001b[0m\u001b[0;34m.\u001b[0m\u001b[0mDeepExplainer\u001b[0m\u001b[0;34m(\u001b[0m\u001b[0mmodel\u001b[0m\u001b[0;34m,\u001b[0m \u001b[0mattrib_data\u001b[0m\u001b[0;34m)\u001b[0m\u001b[0;34m\u001b[0m\u001b[0;34m\u001b[0m\u001b[0m\n\u001b[1;32m      3\u001b[0m \u001b[0mnum_explanations\u001b[0m \u001b[0;34m=\u001b[0m \u001b[0;36m20\u001b[0m\u001b[0;34m\u001b[0m\u001b[0;34m\u001b[0m\u001b[0m\n\u001b[0;32m----> 4\u001b[0;31m \u001b[0mshap_vals\u001b[0m \u001b[0;34m=\u001b[0m \u001b[0mexplainer\u001b[0m\u001b[0;34m.\u001b[0m\u001b[0mshap_values\u001b[0m\u001b[0;34m(\u001b[0m\u001b[0mX_test\u001b[0m\u001b[0;34m[\u001b[0m\u001b[0;34m:\u001b[0m\u001b[0mnum_explanations\u001b[0m\u001b[0;34m]\u001b[0m\u001b[0;34m)\u001b[0m\u001b[0;34m\u001b[0m\u001b[0;34m\u001b[0m\u001b[0m\n\u001b[0m\u001b[1;32m      5\u001b[0m \u001b[0mwords\u001b[0m \u001b[0;34m=\u001b[0m \u001b[0mprocessor\u001b[0m\u001b[0;34m.\u001b[0m\u001b[0m_tokenizer\u001b[0m\u001b[0;34m.\u001b[0m\u001b[0mword_index\u001b[0m\u001b[0;34m\u001b[0m\u001b[0;34m\u001b[0m\u001b[0m\n\u001b[1;32m      6\u001b[0m \u001b[0mword_lookup\u001b[0m \u001b[0;34m=\u001b[0m \u001b[0mlist\u001b[0m\u001b[0;34m(\u001b[0m\u001b[0;34m)\u001b[0m\u001b[0;34m\u001b[0m\u001b[0;34m\u001b[0m\u001b[0m\n",
            "\u001b[0;32m/usr/local/lib/python3.7/dist-packages/shap/explainers/_deep/__init__.py\u001b[0m in \u001b[0;36mshap_values\u001b[0;34m(self, X, ranked_outputs, output_rank_order, check_additivity)\u001b[0m\n\u001b[1;32m    122\u001b[0m             \u001b[0mwere\u001b[0m \u001b[0mchosen\u001b[0m \u001b[0;32mas\u001b[0m \u001b[0;34m\"top\"\u001b[0m\u001b[0;34m.\u001b[0m\u001b[0;34m\u001b[0m\u001b[0;34m\u001b[0m\u001b[0m\n\u001b[1;32m    123\u001b[0m         \"\"\"\n\u001b[0;32m--> 124\u001b[0;31m         \u001b[0;32mreturn\u001b[0m \u001b[0mself\u001b[0m\u001b[0;34m.\u001b[0m\u001b[0mexplainer\u001b[0m\u001b[0;34m.\u001b[0m\u001b[0mshap_values\u001b[0m\u001b[0;34m(\u001b[0m\u001b[0mX\u001b[0m\u001b[0;34m,\u001b[0m \u001b[0mranked_outputs\u001b[0m\u001b[0;34m,\u001b[0m \u001b[0moutput_rank_order\u001b[0m\u001b[0;34m,\u001b[0m \u001b[0mcheck_additivity\u001b[0m\u001b[0;34m=\u001b[0m\u001b[0mcheck_additivity\u001b[0m\u001b[0;34m)\u001b[0m\u001b[0;34m\u001b[0m\u001b[0;34m\u001b[0m\u001b[0m\n\u001b[0m",
            "\u001b[0;32m/usr/local/lib/python3.7/dist-packages/shap/explainers/_deep/deep_tf.py\u001b[0m in \u001b[0;36mshap_values\u001b[0;34m(self, X, ranked_outputs, output_rank_order, check_additivity)\u001b[0m\n\u001b[1;32m    306\u001b[0m                 \u001b[0;31m# run attribution computation graph\u001b[0m\u001b[0;34m\u001b[0m\u001b[0;34m\u001b[0m\u001b[0;34m\u001b[0m\u001b[0m\n\u001b[1;32m    307\u001b[0m                 \u001b[0mfeature_ind\u001b[0m \u001b[0;34m=\u001b[0m \u001b[0mmodel_output_ranks\u001b[0m\u001b[0;34m[\u001b[0m\u001b[0mj\u001b[0m\u001b[0;34m,\u001b[0m\u001b[0mi\u001b[0m\u001b[0;34m]\u001b[0m\u001b[0;34m\u001b[0m\u001b[0;34m\u001b[0m\u001b[0m\n\u001b[0;32m--> 308\u001b[0;31m                 \u001b[0msample_phis\u001b[0m \u001b[0;34m=\u001b[0m \u001b[0mself\u001b[0m\u001b[0;34m.\u001b[0m\u001b[0mrun\u001b[0m\u001b[0;34m(\u001b[0m\u001b[0mself\u001b[0m\u001b[0;34m.\u001b[0m\u001b[0mphi_symbolic\u001b[0m\u001b[0;34m(\u001b[0m\u001b[0mfeature_ind\u001b[0m\u001b[0;34m)\u001b[0m\u001b[0;34m,\u001b[0m \u001b[0mself\u001b[0m\u001b[0;34m.\u001b[0m\u001b[0mmodel_inputs\u001b[0m\u001b[0;34m,\u001b[0m \u001b[0mjoint_input\u001b[0m\u001b[0;34m)\u001b[0m\u001b[0;34m\u001b[0m\u001b[0;34m\u001b[0m\u001b[0m\n\u001b[0m\u001b[1;32m    309\u001b[0m \u001b[0;34m\u001b[0m\u001b[0m\n\u001b[1;32m    310\u001b[0m                 \u001b[0;31m# assign the attributions to the right part of the output arrays\u001b[0m\u001b[0;34m\u001b[0m\u001b[0;34m\u001b[0m\u001b[0;34m\u001b[0m\u001b[0m\n",
            "\u001b[0;32m/usr/local/lib/python3.7/dist-packages/shap/explainers/_deep/deep_tf.py\u001b[0m in \u001b[0;36mrun\u001b[0;34m(self, out, model_inputs, X)\u001b[0m\n\u001b[1;32m    363\u001b[0m \u001b[0;34m\u001b[0m\u001b[0m\n\u001b[1;32m    364\u001b[0m                 \u001b[0;32mreturn\u001b[0m \u001b[0mfinal_out\u001b[0m\u001b[0;34m\u001b[0m\u001b[0;34m\u001b[0m\u001b[0m\n\u001b[0;32m--> 365\u001b[0;31m             \u001b[0;32mreturn\u001b[0m \u001b[0mself\u001b[0m\u001b[0;34m.\u001b[0m\u001b[0mexecute_with_overridden_gradients\u001b[0m\u001b[0;34m(\u001b[0m\u001b[0manon\u001b[0m\u001b[0;34m)\u001b[0m\u001b[0;34m\u001b[0m\u001b[0;34m\u001b[0m\u001b[0m\n\u001b[0m\u001b[1;32m    366\u001b[0m \u001b[0;34m\u001b[0m\u001b[0m\n\u001b[1;32m    367\u001b[0m     \u001b[0;32mdef\u001b[0m \u001b[0mcustom_grad\u001b[0m\u001b[0;34m(\u001b[0m\u001b[0mself\u001b[0m\u001b[0;34m,\u001b[0m \u001b[0mop\u001b[0m\u001b[0;34m,\u001b[0m \u001b[0;34m*\u001b[0m\u001b[0mgrads\u001b[0m\u001b[0;34m)\u001b[0m\u001b[0;34m:\u001b[0m\u001b[0;34m\u001b[0m\u001b[0;34m\u001b[0m\u001b[0m\n",
            "\u001b[0;32m/usr/local/lib/python3.7/dist-packages/shap/explainers/_deep/deep_tf.py\u001b[0m in \u001b[0;36mexecute_with_overridden_gradients\u001b[0;34m(self, f)\u001b[0m\n\u001b[1;32m    399\u001b[0m         \u001b[0;31m# define the computation graph for the attribution values using a custom gradient-like computation\u001b[0m\u001b[0;34m\u001b[0m\u001b[0;34m\u001b[0m\u001b[0;34m\u001b[0m\u001b[0m\n\u001b[1;32m    400\u001b[0m         \u001b[0;32mtry\u001b[0m\u001b[0;34m:\u001b[0m\u001b[0;34m\u001b[0m\u001b[0;34m\u001b[0m\u001b[0m\n\u001b[0;32m--> 401\u001b[0;31m             \u001b[0mout\u001b[0m \u001b[0;34m=\u001b[0m \u001b[0mf\u001b[0m\u001b[0;34m(\u001b[0m\u001b[0;34m)\u001b[0m\u001b[0;34m\u001b[0m\u001b[0;34m\u001b[0m\u001b[0m\n\u001b[0m\u001b[1;32m    402\u001b[0m         \u001b[0;32mfinally\u001b[0m\u001b[0;34m:\u001b[0m\u001b[0;34m\u001b[0m\u001b[0;34m\u001b[0m\u001b[0m\n\u001b[1;32m    403\u001b[0m             \u001b[0;31m# reinstate the backpropagatable check\u001b[0m\u001b[0;34m\u001b[0m\u001b[0;34m\u001b[0m\u001b[0;34m\u001b[0m\u001b[0m\n",
            "\u001b[0;32m/usr/local/lib/python3.7/dist-packages/shap/explainers/_deep/deep_tf.py\u001b[0m in \u001b[0;36manon\u001b[0;34m()\u001b[0m\n\u001b[1;32m    359\u001b[0m                     \u001b[0mv\u001b[0m \u001b[0;34m=\u001b[0m \u001b[0mtf\u001b[0m\u001b[0;34m.\u001b[0m\u001b[0mconstant\u001b[0m\u001b[0;34m(\u001b[0m\u001b[0mdata\u001b[0m\u001b[0;34m,\u001b[0m \u001b[0mdtype\u001b[0m\u001b[0;34m=\u001b[0m\u001b[0mself\u001b[0m\u001b[0;34m.\u001b[0m\u001b[0mmodel_inputs\u001b[0m\u001b[0;34m[\u001b[0m\u001b[0mi\u001b[0m\u001b[0;34m]\u001b[0m\u001b[0;34m.\u001b[0m\u001b[0mdtype\u001b[0m\u001b[0;34m)\u001b[0m\u001b[0;34m\u001b[0m\u001b[0;34m\u001b[0m\u001b[0m\n\u001b[1;32m    360\u001b[0m                     \u001b[0minputs\u001b[0m\u001b[0;34m.\u001b[0m\u001b[0mappend\u001b[0m\u001b[0;34m(\u001b[0m\u001b[0mv\u001b[0m\u001b[0;34m)\u001b[0m\u001b[0;34m\u001b[0m\u001b[0;34m\u001b[0m\u001b[0m\n\u001b[0;32m--> 361\u001b[0;31m                 \u001b[0mfinal_out\u001b[0m \u001b[0;34m=\u001b[0m \u001b[0mout\u001b[0m\u001b[0;34m(\u001b[0m\u001b[0minputs\u001b[0m\u001b[0;34m)\u001b[0m\u001b[0;34m\u001b[0m\u001b[0;34m\u001b[0m\u001b[0m\n\u001b[0m\u001b[1;32m    362\u001b[0m                 \u001b[0mtf_execute\u001b[0m\u001b[0;34m.\u001b[0m\u001b[0mrecord_gradient\u001b[0m \u001b[0;34m=\u001b[0m \u001b[0mtf_backprop\u001b[0m\u001b[0;34m.\u001b[0m\u001b[0m_record_gradient\u001b[0m\u001b[0;34m\u001b[0m\u001b[0;34m\u001b[0m\u001b[0m\n\u001b[1;32m    363\u001b[0m \u001b[0;34m\u001b[0m\u001b[0m\n",
            "\u001b[0;32m/usr/local/lib/python3.7/dist-packages/tensorflow/python/util/traceback_utils.py\u001b[0m in \u001b[0;36merror_handler\u001b[0;34m(*args, **kwargs)\u001b[0m\n\u001b[1;32m    151\u001b[0m     \u001b[0;32mexcept\u001b[0m \u001b[0mException\u001b[0m \u001b[0;32mas\u001b[0m \u001b[0me\u001b[0m\u001b[0;34m:\u001b[0m\u001b[0;34m\u001b[0m\u001b[0;34m\u001b[0m\u001b[0m\n\u001b[1;32m    152\u001b[0m       \u001b[0mfiltered_tb\u001b[0m \u001b[0;34m=\u001b[0m \u001b[0m_process_traceback_frames\u001b[0m\u001b[0;34m(\u001b[0m\u001b[0me\u001b[0m\u001b[0;34m.\u001b[0m\u001b[0m__traceback__\u001b[0m\u001b[0;34m)\u001b[0m\u001b[0;34m\u001b[0m\u001b[0;34m\u001b[0m\u001b[0m\n\u001b[0;32m--> 153\u001b[0;31m       \u001b[0;32mraise\u001b[0m \u001b[0me\u001b[0m\u001b[0;34m.\u001b[0m\u001b[0mwith_traceback\u001b[0m\u001b[0;34m(\u001b[0m\u001b[0mfiltered_tb\u001b[0m\u001b[0;34m)\u001b[0m \u001b[0;32mfrom\u001b[0m \u001b[0;32mNone\u001b[0m\u001b[0;34m\u001b[0m\u001b[0;34m\u001b[0m\u001b[0m\n\u001b[0m\u001b[1;32m    154\u001b[0m     \u001b[0;32mfinally\u001b[0m\u001b[0;34m:\u001b[0m\u001b[0;34m\u001b[0m\u001b[0;34m\u001b[0m\u001b[0m\n\u001b[1;32m    155\u001b[0m       \u001b[0;32mdel\u001b[0m \u001b[0mfiltered_tb\u001b[0m\u001b[0;34m\u001b[0m\u001b[0;34m\u001b[0m\u001b[0m\n",
            "\u001b[0;32m/usr/local/lib/python3.7/dist-packages/shap/explainers/_deep/deep_tf.py\u001b[0m in \u001b[0;36mgrad_graph\u001b[0;34m(shap_rAnD)\u001b[0m\n\u001b[1;32m    241\u001b[0m                     \u001b[0;32mwith\u001b[0m \u001b[0mtf\u001b[0m\u001b[0;34m.\u001b[0m\u001b[0mGradientTape\u001b[0m\u001b[0;34m(\u001b[0m\u001b[0mwatch_accessed_variables\u001b[0m\u001b[0;34m=\u001b[0m\u001b[0;32mFalse\u001b[0m\u001b[0;34m)\u001b[0m \u001b[0;32mas\u001b[0m \u001b[0mtape\u001b[0m\u001b[0;34m:\u001b[0m\u001b[0;34m\u001b[0m\u001b[0;34m\u001b[0m\u001b[0m\n\u001b[1;32m    242\u001b[0m                         \u001b[0mtape\u001b[0m\u001b[0;34m.\u001b[0m\u001b[0mwatch\u001b[0m\u001b[0;34m(\u001b[0m\u001b[0mshap_rAnD\u001b[0m\u001b[0;34m)\u001b[0m\u001b[0;34m\u001b[0m\u001b[0;34m\u001b[0m\u001b[0m\n\u001b[0;32m--> 243\u001b[0;31m                         \u001b[0mout\u001b[0m \u001b[0;34m=\u001b[0m \u001b[0mself\u001b[0m\u001b[0;34m.\u001b[0m\u001b[0mmodel\u001b[0m\u001b[0;34m(\u001b[0m\u001b[0mshap_rAnD\u001b[0m\u001b[0;34m)\u001b[0m\u001b[0;34m\u001b[0m\u001b[0;34m\u001b[0m\u001b[0m\n\u001b[0m\u001b[1;32m    244\u001b[0m                         \u001b[0;32mif\u001b[0m \u001b[0mself\u001b[0m\u001b[0;34m.\u001b[0m\u001b[0mmulti_output\u001b[0m\u001b[0;34m:\u001b[0m\u001b[0;34m\u001b[0m\u001b[0;34m\u001b[0m\u001b[0m\n\u001b[1;32m    245\u001b[0m                             \u001b[0mout\u001b[0m \u001b[0;34m=\u001b[0m \u001b[0mout\u001b[0m\u001b[0;34m[\u001b[0m\u001b[0;34m:\u001b[0m\u001b[0;34m,\u001b[0m\u001b[0mi\u001b[0m\u001b[0;34m]\u001b[0m\u001b[0;34m\u001b[0m\u001b[0;34m\u001b[0m\u001b[0m\n",
            "\u001b[0;32m/usr/local/lib/python3.7/dist-packages/keras/utils/traceback_utils.py\u001b[0m in \u001b[0;36merror_handler\u001b[0;34m(*args, **kwargs)\u001b[0m\n\u001b[1;32m     65\u001b[0m     \u001b[0;32mexcept\u001b[0m \u001b[0mException\u001b[0m \u001b[0;32mas\u001b[0m \u001b[0me\u001b[0m\u001b[0;34m:\u001b[0m  \u001b[0;31m# pylint: disable=broad-except\u001b[0m\u001b[0;34m\u001b[0m\u001b[0;34m\u001b[0m\u001b[0m\n\u001b[1;32m     66\u001b[0m       \u001b[0mfiltered_tb\u001b[0m \u001b[0;34m=\u001b[0m \u001b[0m_process_traceback_frames\u001b[0m\u001b[0;34m(\u001b[0m\u001b[0me\u001b[0m\u001b[0;34m.\u001b[0m\u001b[0m__traceback__\u001b[0m\u001b[0;34m)\u001b[0m\u001b[0;34m\u001b[0m\u001b[0;34m\u001b[0m\u001b[0m\n\u001b[0;32m---> 67\u001b[0;31m       \u001b[0;32mraise\u001b[0m \u001b[0me\u001b[0m\u001b[0;34m.\u001b[0m\u001b[0mwith_traceback\u001b[0m\u001b[0;34m(\u001b[0m\u001b[0mfiltered_tb\u001b[0m\u001b[0;34m)\u001b[0m \u001b[0;32mfrom\u001b[0m \u001b[0;32mNone\u001b[0m\u001b[0;34m\u001b[0m\u001b[0;34m\u001b[0m\u001b[0m\n\u001b[0m\u001b[1;32m     68\u001b[0m     \u001b[0;32mfinally\u001b[0m\u001b[0;34m:\u001b[0m\u001b[0;34m\u001b[0m\u001b[0;34m\u001b[0m\u001b[0m\n\u001b[1;32m     69\u001b[0m       \u001b[0;32mdel\u001b[0m \u001b[0mfiltered_tb\u001b[0m\u001b[0;34m\u001b[0m\u001b[0;34m\u001b[0m\u001b[0m\n",
            "\u001b[0;32m/usr/local/lib/python3.7/dist-packages/shap/explainers/_deep/deep_tf.py\u001b[0m in \u001b[0;36mcustom_record_gradient\u001b[0;34m(op_name, inputs, attrs, results)\u001b[0m\n\u001b[1;32m     24\u001b[0m         \u001b[0minputs\u001b[0m\u001b[0;34m[\u001b[0m\u001b[0;36m1\u001b[0m\u001b[0;34m]\u001b[0m\u001b[0;34m.\u001b[0m\u001b[0m__dict__\u001b[0m\u001b[0;34m[\u001b[0m\u001b[0;34m\"_dtype\"\u001b[0m\u001b[0;34m]\u001b[0m \u001b[0;34m=\u001b[0m \u001b[0mtf\u001b[0m\u001b[0;34m.\u001b[0m\u001b[0mfloat32\u001b[0m\u001b[0;34m\u001b[0m\u001b[0;34m\u001b[0m\u001b[0m\n\u001b[1;32m     25\u001b[0m         \u001b[0mreset_input\u001b[0m \u001b[0;34m=\u001b[0m \u001b[0;32mTrue\u001b[0m\u001b[0;34m\u001b[0m\u001b[0;34m\u001b[0m\u001b[0m\n\u001b[0;32m---> 26\u001b[0;31m     \u001b[0mout\u001b[0m \u001b[0;34m=\u001b[0m \u001b[0mtf_backprop\u001b[0m\u001b[0;34m.\u001b[0m\u001b[0m_record_gradient\u001b[0m\u001b[0;34m(\u001b[0m\u001b[0;34m\"shap_\"\u001b[0m\u001b[0;34m+\u001b[0m\u001b[0mop_name\u001b[0m\u001b[0;34m,\u001b[0m \u001b[0minputs\u001b[0m\u001b[0;34m,\u001b[0m \u001b[0mattrs\u001b[0m\u001b[0;34m,\u001b[0m \u001b[0mresults\u001b[0m\u001b[0;34m)\u001b[0m\u001b[0;34m\u001b[0m\u001b[0;34m\u001b[0m\u001b[0m\n\u001b[0m\u001b[1;32m     27\u001b[0m \u001b[0;34m\u001b[0m\u001b[0m\n\u001b[1;32m     28\u001b[0m     \u001b[0;32mif\u001b[0m \u001b[0mreset_input\u001b[0m\u001b[0;34m:\u001b[0m\u001b[0;34m\u001b[0m\u001b[0;34m\u001b[0m\u001b[0m\n",
            "\u001b[0;31mAttributeError\u001b[0m: Exception encountered when calling layer \"forward_lstm\" (type LSTM).\n\nmodule 'tensorflow.python.eager.backprop' has no attribute '_record_gradient'\n\nCall arguments received:\n  • inputs=tf.Tensor(shape=(400, 130, 32), dtype=float32)\n  • mask=None\n  • training=False\n  • initial_state=None"
          ]
        }
      ]
    },
    {
      "cell_type": "code",
      "metadata": {
        "id": "glotljbm3qzD"
      },
      "source": [
        "# try:\n",
        "#   from google.colab import files\n",
        "# except ImportError:\n",
        "#   pass\n",
        "# else:\n",
        "#   files.download('vecs_gender.tsv')\n",
        "#   files.download('meta_gender.tsv')"
      ],
      "execution_count": null,
      "outputs": []
    },
    {
      "cell_type": "code",
      "metadata": {
        "id": "lmXyiZIrU_Fi"
      },
      "source": [
        "# print(\"Accuracy of the model : \", accuracy_score(y_pred_gen, y_test_gen))\n",
        "# print('F1-score: ', f1_score(y_pred_gen, y_test_gen))\n",
        "# print('Confusion matrix:')\n",
        "# confusion_matrix(y_test_gen,y_pred_gen)"
      ],
      "execution_count": null,
      "outputs": []
    },
    {
      "cell_type": "code",
      "metadata": {
        "id": "bPVaQm8BVHSS"
      },
      "source": [
        "# print(classification_report(y_test_gen,y_pred_gen))"
      ],
      "execution_count": null,
      "outputs": []
    },
    {
      "cell_type": "markdown",
      "metadata": {
        "id": "cL2GI_JhXyez"
      },
      "source": [
        "### Communal Bias"
      ]
    },
    {
      "cell_type": "code",
      "metadata": {
        "id": "WGAZnLb1sq0n",
        "colab": {
          "base_uri": "https://localhost:8080/",
          "height": 166
        },
        "outputId": "93c4bcf1-c348-45c6-ffeb-0826942d5458"
      },
      "source": [
        "y_train = y_com"
      ],
      "execution_count": null,
      "outputs": [
        {
          "output_type": "error",
          "ename": "NameError",
          "evalue": "ignored",
          "traceback": [
            "\u001b[0;31m---------------------------------------------------------------------------\u001b[0m",
            "\u001b[0;31mNameError\u001b[0m                                 Traceback (most recent call last)",
            "\u001b[0;32m<ipython-input-1-08880e3d14b1>\u001b[0m in \u001b[0;36m<module>\u001b[0;34m()\u001b[0m\n\u001b[0;32m----> 1\u001b[0;31m \u001b[0my_train\u001b[0m \u001b[0;34m=\u001b[0m \u001b[0my_com\u001b[0m\u001b[0;34m\u001b[0m\u001b[0;34m\u001b[0m\u001b[0m\n\u001b[0m",
            "\u001b[0;31mNameError\u001b[0m: name 'y_com' is not defined"
          ]
        }
      ]
    },
    {
      "cell_type": "code",
      "metadata": {
        "id": "uwGiV-gqsq0n"
      },
      "source": [
        "model2 = tf.keras.Sequential([\n",
        "    tf.keras.layers.Embedding(top_words+1, embedding_vecor_length, input_length=max_review_length),\n",
        "    tf.keras.layers.Bidirectional(tf.keras.layers.LSTM(64, return_sequences=True)),\n",
        "    tf.keras.layers.Bidirectional(tf.keras.layers.LSTM(32)),\n",
        "    tf.keras.layers.Dense(64, activation='relu'),\n",
        "    tf.keras.layers.Dense(1, activation='sigmoid')\n",
        "])"
      ],
      "execution_count": null,
      "outputs": []
    },
    {
      "cell_type": "code",
      "metadata": {
        "id": "XYjLhshosq0n"
      },
      "source": [
        "model2.compile(loss='binary_crossentropy',optimizer='adam',metrics=['accuracy'])\n",
        "model2.summary()"
      ],
      "execution_count": null,
      "outputs": []
    },
    {
      "cell_type": "code",
      "metadata": {
        "id": "-i9qalUlsq0n"
      },
      "source": [
        "history2 = model2.fit(X_train,y_train, epochs=20, batch_size=64)"
      ],
      "execution_count": null,
      "outputs": []
    },
    {
      "cell_type": "code",
      "metadata": {
        "id": "KPKSa3nTsq0o"
      },
      "source": [
        "prediction = model2.predict(X_test)\n",
        "y_pred_com = (prediction > 0.5)\n",
        "\n",
        "\n",
        "e = model2.layers[0]\n",
        "weights = e.get_weights()[0]"
      ],
      "execution_count": null,
      "outputs": []
    },
    {
      "cell_type": "code",
      "metadata": {
        "id": "Lad-5pVq4rZy"
      },
      "source": [
        "out_v = io.open('vecs_comm.tsv', 'w', encoding='utf-8')\n",
        "out_m = io.open('meta_comm.tsv', 'w', encoding='utf-8')\n",
        "for word_num in range(1, top_words):\n",
        "  word = reverse_word_index[word_num]\n",
        "  embeddings = weights[word_num]\n",
        "  out_m.write(word + \"\\n\")\n",
        "  out_v.write('\\t'.join([str(x) for x in embeddings]) + \"\\n\")\n",
        "out_v.close()\n",
        "out_m.close()"
      ],
      "execution_count": null,
      "outputs": []
    },
    {
      "cell_type": "code",
      "metadata": {
        "id": "CB_n9jDSMNPk"
      },
      "source": [
        "attrib_data = X_train[:2000]\n",
        "explainer = shap.DeepExplainer(model2, attrib_data)\n",
        "num_explanations = 20\n",
        "shap_vals = explainer.shap_values(X_test[:num_explanations])\n",
        "words = processor._tokenizer.word_index\n",
        "word_lookup = list()\n",
        "for i in words.keys():\n",
        "  word_lookup.append(i)\n",
        "word_lookup = [''] + word_lookup\n",
        "shap.summary_plot(shap_vals, feature_names=word_lookup, class_names=tag_encoder.classes_)"
      ],
      "execution_count": null,
      "outputs": []
    },
    {
      "cell_type": "code",
      "metadata": {
        "id": "wbavdBJM4rZz"
      },
      "source": [
        "# try:\n",
        "#   from google.colab import files\n",
        "# except ImportError:\n",
        "#   pass\n",
        "# else:\n",
        "#   files.download('vecs_comm.tsv')\n",
        "#   files.download('meta_comm.tsv')"
      ],
      "execution_count": null,
      "outputs": []
    },
    {
      "cell_type": "code",
      "metadata": {
        "id": "D691IPM7sq0o"
      },
      "source": [
        "# print(\"Accuracy of the model : \", accuracy_score(y_pred_com, y_test_com))\n",
        "# print('F1-score: ', f1_score(y_pred_com, y_test_com))\n",
        "# print('Confusion matrix:')\n",
        "# confusion_matrix(y_test_com,y_pred_com)"
      ],
      "execution_count": null,
      "outputs": []
    },
    {
      "cell_type": "code",
      "metadata": {
        "id": "HxL7TuKNsq0o"
      },
      "source": [
        "# print(classification_report(y_test_com,y_pred_com))"
      ],
      "execution_count": null,
      "outputs": []
    },
    {
      "cell_type": "markdown",
      "metadata": {
        "id": "_oR_Ws_SZivN"
      },
      "source": [
        "### Aggressiveness"
      ]
    },
    {
      "cell_type": "code",
      "metadata": {
        "id": "KWe8FVYnc4Tz"
      },
      "source": [
        "X_train = pad_sequences(list_tokenized_train, maxlen=max_review_length)\n",
        "y_train = y_agg"
      ],
      "execution_count": null,
      "outputs": []
    },
    {
      "cell_type": "code",
      "metadata": {
        "id": "c08SJEAYdRma"
      },
      "source": [
        "list_tokenized_test = tokenizer.texts_to_sequences(test_cleaned_text)\n",
        "X_test = pad_sequences(list_tokenized_test, maxlen=max_review_length)\n",
        "# prediction = model.predict(X_test)\n",
        "# y_pred_gen = (prediction > 0.5)"
      ],
      "execution_count": null,
      "outputs": []
    },
    {
      "cell_type": "code",
      "metadata": {
        "id": "rrsGxzqndUdx"
      },
      "source": [
        "model = tf.keras.Sequential([\n",
        "    tf.keras.layers.Embedding(top_words+1, embedding_vecor_length, input_length=max_review_length),\n",
        "    tf.keras.layers.Bidirectional(tf.keras.layers.LSTM(64, return_sequences=True)),\n",
        "    tf.keras.layers.Bidirectional(tf.keras.layers.LSTM(32)),\n",
        "    tf.keras.layers.Dense(64, activation='relu'),\n",
        "    tf.keras.layers.Dense(3, activation='softmax')\n",
        "])\n",
        "model.compile(loss = 'sparse_categorical_crossentropy', optimizer='adam', metrics = ['accuracy'])"
      ],
      "execution_count": null,
      "outputs": []
    },
    {
      "cell_type": "code",
      "metadata": {
        "colab": {
          "base_uri": "https://localhost:8080/"
        },
        "id": "VTlBjr9meex8",
        "outputId": "97d29fec-b2c5-43ad-e1cd-b1c1a163f39a"
      },
      "source": [
        "model.summary()"
      ],
      "execution_count": null,
      "outputs": [
        {
          "output_type": "stream",
          "name": "stdout",
          "text": [
            "Model: \"sequential\"\n",
            "_________________________________________________________________\n",
            " Layer (type)                Output Shape              Param #   \n",
            "=================================================================\n",
            " embedding (Embedding)       (None, 130, 32)           320032    \n",
            "                                                                 \n",
            " bidirectional (Bidirectiona  (None, 130, 128)         49664     \n",
            " l)                                                              \n",
            "                                                                 \n",
            " bidirectional_1 (Bidirectio  (None, 64)               41216     \n",
            " nal)                                                            \n",
            "                                                                 \n",
            " dense (Dense)               (None, 64)                4160      \n",
            "                                                                 \n",
            " dense_1 (Dense)             (None, 3)                 195       \n",
            "                                                                 \n",
            "=================================================================\n",
            "Total params: 415,267\n",
            "Trainable params: 415,267\n",
            "Non-trainable params: 0\n",
            "_________________________________________________________________\n"
          ]
        }
      ]
    },
    {
      "cell_type": "code",
      "metadata": {
        "colab": {
          "base_uri": "https://localhost:8080/"
        },
        "id": "C3LnjDAjeouE",
        "outputId": "e6deed79-86e5-49bb-b541-2e16ab8347f4"
      },
      "source": [
        "history = model.fit(X_train,y_train, epochs=20, batch_size=64)"
      ],
      "execution_count": null,
      "outputs": [
        {
          "output_type": "stream",
          "name": "stderr",
          "text": [
            "Even though the `tf.config.experimental_run_functions_eagerly` option is set, this option does not apply to tf.data functions. To force eager execution of tf.data functions, please use `tf.data.experimental.enable_debug_mode()`.\n"
          ]
        },
        {
          "output_type": "stream",
          "name": "stdout",
          "text": [
            "Epoch 1/20\n",
            "144/144 [==============================] - 23s 128ms/step - loss: 0.9888 - accuracy: 0.5125\n",
            "Epoch 2/20\n",
            "144/144 [==============================] - 18s 127ms/step - loss: 0.7209 - accuracy: 0.6904\n",
            "Epoch 3/20\n",
            "144/144 [==============================] - 18s 127ms/step - loss: 0.5135 - accuracy: 0.7930\n",
            "Epoch 4/20\n",
            "144/144 [==============================] - 18s 127ms/step - loss: 0.3595 - accuracy: 0.8565\n",
            "Epoch 5/20\n",
            "144/144 [==============================] - 18s 127ms/step - loss: 0.2789 - accuracy: 0.8897\n",
            "Epoch 6/20\n",
            "144/144 [==============================] - 18s 127ms/step - loss: 0.2280 - accuracy: 0.9079\n",
            "Epoch 7/20\n",
            "144/144 [==============================] - 18s 126ms/step - loss: 0.1984 - accuracy: 0.9189\n",
            "Epoch 8/20\n",
            "144/144 [==============================] - 18s 126ms/step - loss: 0.1747 - accuracy: 0.9250\n",
            "Epoch 9/20\n",
            "144/144 [==============================] - 18s 126ms/step - loss: 0.1696 - accuracy: 0.9245\n",
            "Epoch 10/20\n",
            "144/144 [==============================] - 18s 126ms/step - loss: 0.1665 - accuracy: 0.9254\n",
            "Epoch 11/20\n",
            "144/144 [==============================] - 18s 126ms/step - loss: 0.1591 - accuracy: 0.9282\n",
            "Epoch 12/20\n",
            "144/144 [==============================] - 18s 127ms/step - loss: 0.1496 - accuracy: 0.9305\n",
            "Epoch 13/20\n",
            "144/144 [==============================] - 18s 127ms/step - loss: 0.1525 - accuracy: 0.9279\n",
            "Epoch 14/20\n",
            "144/144 [==============================] - 18s 127ms/step - loss: 0.1470 - accuracy: 0.9328\n",
            "Epoch 15/20\n",
            "144/144 [==============================] - 18s 127ms/step - loss: 0.1393 - accuracy: 0.9311\n",
            "Epoch 16/20\n",
            "144/144 [==============================] - 18s 126ms/step - loss: 0.1348 - accuracy: 0.9347\n",
            "Epoch 17/20\n",
            "144/144 [==============================] - 18s 126ms/step - loss: 0.1360 - accuracy: 0.9344\n",
            "Epoch 18/20\n",
            "144/144 [==============================] - 18s 126ms/step - loss: 0.1352 - accuracy: 0.9344\n",
            "Epoch 19/20\n",
            "144/144 [==============================] - 18s 126ms/step - loss: 0.1304 - accuracy: 0.9352\n",
            "Epoch 20/20\n",
            "144/144 [==============================] - 18s 127ms/step - loss: 0.1258 - accuracy: 0.9369\n"
          ]
        }
      ]
    },
    {
      "cell_type": "code",
      "metadata": {
        "id": "-InTGSeAeui-"
      },
      "source": [
        "y_test_agg = test_data.Labels.apply(lambda x: convert_agg(x))"
      ],
      "execution_count": null,
      "outputs": []
    },
    {
      "cell_type": "code",
      "metadata": {
        "colab": {
          "base_uri": "https://localhost:8080/"
        },
        "id": "KWcTAZ8pfu9i",
        "outputId": "21a53a80-ea16-47ca-8abc-926005763636"
      },
      "source": [
        "prediction = model.predict(X_test)"
      ],
      "execution_count": null,
      "outputs": [
        {
          "output_type": "stream",
          "name": "stderr",
          "text": [
            "Even though the `tf.config.experimental_run_functions_eagerly` option is set, this option does not apply to tf.data functions. To force eager execution of tf.data functions, please use `tf.data.experimental.enable_debug_mode()`.\n"
          ]
        }
      ]
    },
    {
      "cell_type": "code",
      "metadata": {
        "colab": {
          "base_uri": "https://localhost:8080/"
        },
        "id": "uSjKPE_Gha6c",
        "outputId": "57240b05-f040-4883-bc8d-8e70168c2ab5"
      },
      "source": [
        "prediction "
      ],
      "execution_count": null,
      "outputs": [
        {
          "output_type": "execute_result",
          "data": {
            "text/plain": [
              "array([[9.9999154e-01, 2.4686660e-06, 5.9176182e-06],\n",
              "       [4.5156521e-05, 2.7362890e-05, 9.9992752e-01],\n",
              "       [8.7503800e-03, 1.3144379e-03, 9.8993522e-01],\n",
              "       ...,\n",
              "       [9.9998486e-01, 7.6206943e-06, 7.5620674e-06],\n",
              "       [1.9774271e-02, 1.3996847e-03, 9.7882611e-01],\n",
              "       [9.9999809e-01, 4.2444015e-07, 1.4417325e-06]], dtype=float32)"
            ]
          },
          "metadata": {},
          "execution_count": 29
        }
      ]
    },
    {
      "cell_type": "code",
      "metadata": {
        "id": "wrDizrW6iKpq"
      },
      "source": [
        "pred_list = []\n",
        "for i in range(len(prediction)):\n",
        "  pred_list.append(list(prediction[i]))"
      ],
      "execution_count": null,
      "outputs": []
    },
    {
      "cell_type": "code",
      "metadata": {
        "id": "1B04IGKrkQhK"
      },
      "source": [
        "for i in range(len(prediction)):\n",
        "  pred_list[i] = pred_list[i].index(max(pred_list[i]))\n"
      ],
      "execution_count": null,
      "outputs": []
    },
    {
      "cell_type": "code",
      "metadata": {
        "id": "w78nil33lb_K"
      },
      "source": [
        "y_pred_agg = pd.Series(pred_list)"
      ],
      "execution_count": null,
      "outputs": []
    },
    {
      "cell_type": "code",
      "metadata": {
        "colab": {
          "base_uri": "https://localhost:8080/"
        },
        "id": "0FYs0G0RlnME",
        "outputId": "f9dd0a7e-67c2-4314-db50-839c0a3eca12"
      },
      "source": [
        "print(\"Accuracy of the model : \", accuracy_score(y_pred_agg, y_test_agg))\n",
        "# print('F1-score: ', f1_score(y_pred_agg, y_test_agg))\n",
        "print('Confusion matrix:')\n",
        "confusion_matrix(y_test_agg,y_pred_agg)"
      ],
      "execution_count": null,
      "outputs": [
        {
          "output_type": "stream",
          "name": "stdout",
          "text": [
            "Accuracy of the model :  0.5679012345679012\n",
            "Confusion matrix:\n"
          ]
        },
        {
          "output_type": "execute_result",
          "data": {
            "text/plain": [
              "array([[668, 182, 157],\n",
              "       [294, 320, 183],\n",
              "       [280, 199, 714]])"
            ]
          },
          "metadata": {},
          "execution_count": 61
        }
      ]
    },
    {
      "cell_type": "code",
      "metadata": {
        "colab": {
          "base_uri": "https://localhost:8080/"
        },
        "id": "dk7S70FTlqCu",
        "outputId": "7f50993e-c536-42a8-b2c6-8d1405953d7d"
      },
      "source": [
        "print(classification_report(y_test_agg,y_pred_agg))"
      ],
      "execution_count": null,
      "outputs": [
        {
          "output_type": "stream",
          "name": "stdout",
          "text": [
            "              precision    recall  f1-score   support\n",
            "\n",
            "           0       0.54      0.66      0.59      1007\n",
            "           1       0.46      0.40      0.43       797\n",
            "           2       0.68      0.60      0.64      1193\n",
            "\n",
            "    accuracy                           0.57      2997\n",
            "   macro avg       0.56      0.55      0.55      2997\n",
            "weighted avg       0.57      0.57      0.57      2997\n",
            "\n"
          ]
        }
      ]
    },
    {
      "cell_type": "code",
      "metadata": {
        "id": "-AK7hwcS9XlT"
      },
      "source": [
        "vectorizer = TfidfVectorizer(min_df = 5)\n",
        "X = vectorizer.fit_transform(cleaned_text)\n",
        "X = X.todense()"
      ],
      "execution_count": null,
      "outputs": []
    },
    {
      "cell_type": "code",
      "metadata": {
        "id": "fpGD0luw9eK6"
      },
      "source": [
        "X_test = vectorizer.transform(test_cleaned_text)\n",
        "X_test = X_test.todense()"
      ],
      "execution_count": null,
      "outputs": []
    },
    {
      "cell_type": "code",
      "metadata": {
        "id": "xt4BLsEfZnRO"
      },
      "source": [
        "X_train = X\n",
        "y_train = y_agg\n",
        "y_test = y_test_agg"
      ],
      "execution_count": null,
      "outputs": []
    },
    {
      "cell_type": "code",
      "metadata": {
        "id": "ABFtEprgZnRO",
        "colab": {
          "base_uri": "https://localhost:8080/"
        },
        "outputId": "9ba42a04-c6a7-474e-903d-c64196bb73a1"
      },
      "source": [
        "lr_agg = LogisticRegression(multi_class='multinomial',max_iter=1000)\n",
        "lr_agg.fit(X_train, y_train)"
      ],
      "execution_count": null,
      "outputs": [
        {
          "output_type": "stream",
          "name": "stderr",
          "text": [
            "np.matrix usage is deprecated in 1.0 and will raise a TypeError in 1.2. Please convert to a numpy array with np.asarray. For more information see: https://numpy.org/doc/stable/reference/generated/numpy.matrix.html\n"
          ]
        },
        {
          "output_type": "execute_result",
          "data": {
            "text/plain": [
              "LogisticRegression(max_iter=1000, multi_class='multinomial')"
            ]
          },
          "metadata": {},
          "execution_count": 67
        }
      ]
    },
    {
      "cell_type": "code",
      "metadata": {
        "id": "dhwUfQwUZnRP",
        "colab": {
          "base_uri": "https://localhost:8080/"
        },
        "outputId": "2e263fa3-cf12-42ce-c95a-de6626c87b35"
      },
      "source": [
        "y_pred_agg = lr_agg.predict(X_test)"
      ],
      "execution_count": null,
      "outputs": [
        {
          "output_type": "stream",
          "name": "stderr",
          "text": [
            "np.matrix usage is deprecated in 1.0 and will raise a TypeError in 1.2. Please convert to a numpy array with np.asarray. For more information see: https://numpy.org/doc/stable/reference/generated/numpy.matrix.html\n"
          ]
        }
      ]
    },
    {
      "cell_type": "code",
      "metadata": {
        "id": "FP-WLNNvZnRP",
        "colab": {
          "base_uri": "https://localhost:8080/"
        },
        "outputId": "356306a1-9a56-46f2-9824-7eaf6c30f361"
      },
      "source": [
        "print(\"Accuracy of the model : \", accuracy_score(y_pred_agg, y_test_agg))\n",
        "# print('F1-score: ', f1_score(y_pred_agg, y_test_agg))\n",
        "print('Confusion matrix:')\n",
        "confusion_matrix(y_test_agg,y_pred_agg)"
      ],
      "execution_count": null,
      "outputs": [
        {
          "output_type": "stream",
          "name": "stdout",
          "text": [
            "Accuracy of the model :  0.6046046046046046\n",
            "Confusion matrix:\n"
          ]
        },
        {
          "output_type": "execute_result",
          "data": {
            "text/plain": [
              "array([[705, 123, 179],\n",
              "       [275, 326, 196],\n",
              "       [286, 126, 781]])"
            ]
          },
          "metadata": {},
          "execution_count": 69
        }
      ]
    },
    {
      "cell_type": "code",
      "metadata": {
        "id": "PhqHf4lOZnRP",
        "colab": {
          "base_uri": "https://localhost:8080/"
        },
        "outputId": "15dbdeba-08d4-45c9-e7de-db37cc99161e"
      },
      "source": [
        "print(classification_report(y_test_agg,y_pred_agg))"
      ],
      "execution_count": null,
      "outputs": [
        {
          "output_type": "stream",
          "name": "stdout",
          "text": [
            "              precision    recall  f1-score   support\n",
            "\n",
            "           0       0.56      0.70      0.62      1007\n",
            "           1       0.57      0.41      0.48       797\n",
            "           2       0.68      0.65      0.66      1193\n",
            "\n",
            "    accuracy                           0.60      2997\n",
            "   macro avg       0.60      0.59      0.59      2997\n",
            "weighted avg       0.61      0.60      0.60      2997\n",
            "\n"
          ]
        }
      ]
    },
    {
      "cell_type": "markdown",
      "metadata": {
        "id": "k87XKwa11xxA"
      },
      "source": [
        "##Submission"
      ]
    },
    {
      "cell_type": "code",
      "metadata": {
        "id": "w5UhbjTEazIO"
      },
      "source": [
        "def write_preds(input, preds, fname, delim='\\t'):\n",
        "    with open (fname, 'w') as f_w:\n",
        "        writer = csv.writer(f_w, delimiter=delim)\n",
        "        writer.writerow(['ID', 'Labels'])\n",
        "        for id, label in zip(input, preds):\n",
        "            writer.writerow([id, label])"
      ],
      "execution_count": null,
      "outputs": []
    },
    {
      "cell_type": "code",
      "metadata": {
        "id": "eWRrJ0jYewVQ"
      },
      "source": [
        "isSaveLR = True"
      ],
      "execution_count": null,
      "outputs": []
    },
    {
      "cell_type": "code",
      "metadata": {
        "id": "6cShpDj8ezYP"
      },
      "source": [
        "submission = []\n",
        "a = [0 for i in y_pred_agg]\n",
        "b = [0 for i in y_pred_agg]\n",
        "c = [0 for i in y_pred_agg]\n",
        "for i in range(len(y_pred_agg)):\n",
        "  if y_pred_agg[i] == 0:\n",
        "    a[i] = \"NAG\"\n",
        "  elif y_pred_agg[i] == 1:\n",
        "    a[i] = \"CAG\"\n",
        "  else:\n",
        "    a[i] = \"OAG\"\n",
        "\n",
        "  if y_pred_gen[i] == 0:\n",
        "    b[i] = \"NGEN\"\n",
        "  else:\n",
        "    b[i] = \"GEN\"\n",
        "\n",
        "  if y_pred_com[i] == 0:\n",
        "    c[i] = \"NCOM\"\n",
        "  else:\n",
        "    c[i] = \"COM\"\n",
        "\n",
        "  string = str((a[i],b[i],c[i]))\n",
        "  newString = \"\"\n",
        "  for j in string:\n",
        "    if j == \"'\" or j == ' ':\n",
        "      continue\n",
        "    else:\n",
        "      newString += j\n",
        "  submission.append(newString)"
      ],
      "execution_count": null,
      "outputs": []
    },
    {
      "cell_type": "code",
      "metadata": {
        "id": "4NRCA86y7Khy"
      },
      "source": [
        "submission"
      ],
      "execution_count": null,
      "outputs": []
    },
    {
      "cell_type": "code",
      "metadata": {
        "id": "-YJuqkSr4AXg"
      },
      "source": [
        " ids = list(test_data['ID'])"
      ],
      "execution_count": null,
      "outputs": []
    },
    {
      "cell_type": "code",
      "metadata": {
        "id": "gAZ2oeYNymSl"
      },
      "source": [
        "if not os.path.exists('ens_submission3'):\n",
        "  os.makedirs('ens_submission3')\n",
        "if isSaveLR:\n",
        "  write_preds(ids,submission,'ens_submission3/pred_multi.tsv')"
      ],
      "execution_count": null,
      "outputs": []
    }
  ]
}